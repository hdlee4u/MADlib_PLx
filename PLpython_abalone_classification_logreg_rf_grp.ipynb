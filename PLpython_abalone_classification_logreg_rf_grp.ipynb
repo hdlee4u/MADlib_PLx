{
 "cells": [
  {
   "cell_type": "markdown",
   "metadata": {},
   "source": [
    "# Day 2: PL/Python을 활용한 전복(abalone) 성숙 여부(mature) 분류"
   ]
  },
  {
   "cell_type": "markdown",
   "metadata": {},
   "source": [
    "**Python Scikit-Learn의 (1) Logistic Regression, (2) Random Forest Classifier** 라이브러리를 이용하여  \n",
    "**전복의 성숙(mature), 미성숙(immature) 여부를 판별하는 이진 분류(binary classification)** 하는 문제입니다.  \n",
    "나이(age) = rings + 1.5 이며, 나이가 10살 이상이면 성숙(mature)으로 정의합니다. "
   ]
  },
  {
   "cell_type": "markdown",
   "metadata": {},
   "source": [
    "## 데이터셋(abalone.data) 소개\n",
    "\n",
    "예제로 사용할 데이터셋은 __[UC Irvine Machine Learning Repository](http://archive.ics.uci.edu/ml/machine-learning-databases/abalone/abalone.data)__에 공개되어 있는 abalone.data.txt 파일입니다. \n",
    "\n",
    "### Attribute Information: \n",
    "----\n",
    "** Name / Data Type / Measurement Unit / Description  **\n",
    "\n",
    "Sex / nominal / -- / M, F, and I (infant)  \n",
    "Length / continuous / mm / Longest shell measurement  \n",
    "Diameter\t/ continuous / mm / perpendicular to length  \n",
    "Height / continuous / mm / with meat in shell  \n",
    "Whole weight / continuous / grams / whole abalone  \n",
    "Shucked weight / continuous\t/ grams / weight of meat  \n",
    "Viscera weight / continuous / grams / gut weight (after bleeding)  \n",
    "Shell weight / continuous / grams / after being dried  \n",
    "**Rings / integer / -- / +1.5 gives the age in years  **\n",
    "\n",
    "---- "
   ]
  },
  {
   "cell_type": "markdown",
   "metadata": {},
   "source": [
    "## Notebook 환경 설정"
   ]
  },
  {
   "cell_type": "code",
   "execution_count": 1,
   "metadata": {
    "collapsed": true
   },
   "outputs": [],
   "source": [
    "import numpy as np\n",
    "import pandas as pd\n",
    "import math\n",
    "import six\n",
    "from sqlalchemy import create_engine # DB 연동"
   ]
  },
  {
   "cell_type": "code",
   "execution_count": 2,
   "metadata": {
    "collapsed": true
   },
   "outputs": [],
   "source": [
    "import matplotlib.pyplot as plt\n",
    "import seaborn as sns\n",
    "\n",
    "# notebook 안에서 그래프 보기\n",
    "%matplotlib inline\n",
    "\n",
    "pd.set_option('display.max_columns', 200)"
   ]
  },
  {
   "cell_type": "markdown",
   "metadata": {},
   "source": [
    "의사결정나무 시각화를 위해 Graphviz 오픈소스 설치가 필요합니다. Graphviz 설치에 문제가 있을 경우 https://www.graphviz.org/download/ 를 참고하세요. "
   ]
  },
  {
   "cell_type": "markdown",
   "metadata": {},
   "source": [
    "## GPDB 연결"
   ]
  },
  {
   "cell_type": "markdown",
   "metadata": {},
   "source": [
    "- **dbconnect.py**는 GPDB에 연결하고, Jupyter Notebook에서 SQL을 사용할 수 있도록 해주는 __[SQL Magic](http://engineering.pivotal.io/post/introducing-sql-magic/)__을 쉽게 설정할 수 있도록 도와주는 custom module입니다. dbconnect.py 파일을 Jupyter Notebook이 실행되는 폴더에 넣고 아래의 import dbconnect를 실행시켜 주세요. </br>\n",
    "\n",
    "\n",
    "- 아래처럼 GPDB의 host, port, user, database, password 정보가 입력된 **db_credentials.txt** 파일을 dbconnect.py 파일과 같은 폴더에 넣어주세요. \n",
    "\n",
    "> [database_creds]  \n",
    "host: localhost  \n",
    "port: 5432  \n",
    "user: gpadmin  \n",
    "database: gpadmin  \n",
    "password: pivotal  "
   ]
  },
  {
   "cell_type": "code",
   "execution_count": 3,
   "metadata": {
    "collapsed": true
   },
   "outputs": [],
   "source": [
    "import dbconnect"
   ]
  },
  {
   "cell_type": "code",
   "execution_count": 4,
   "metadata": {
    "collapsed": true
   },
   "outputs": [
    {
     "data": {
      "application/javascript": [
       "\n",
       "    require(['notebook/js/codecell'], function(codecell) {\n",
       "      // https://github.com/jupyter/notebook/issues/2453\n",
       "      codecell.CodeCell.options_default.highlight_modes['magic_text/x-sql'] = {'reg':[/^%read_sql/, /.*=\\s*%read_sql/,\n",
       "                                                                                      /^%%read_sql/]};\n",
       "      Jupyter.notebook.events.one('kernel_ready.Kernel', function(){\n",
       "          console.log('BBBBB');\n",
       "          Jupyter.notebook.get_cells().map(function(cell){\n",
       "              if (cell.cell_type == 'code'){ cell.auto_highlight(); } }) ;\n",
       "      });\n",
       "    });\n",
       "    "
      ]
     },
     "metadata": {},
     "output_type": "display_data"
    },
    {
     "name": "stdout",
     "output_type": "stream",
     "text": [
      "Connection object assigned to `conn`\n"
     ]
    }
   ],
   "source": [
    "db_credential_file = 'db_credentials.txt'\n",
    "dbconnect.connect_and_register_sql_magic(\n",
    "    db_credential_file, \n",
    "    conn_name='conn'\n",
    ")"
   ]
  },
  {
   "cell_type": "markdown",
   "metadata": {},
   "source": [
    "## Abalone 데이터셋을 GPDB에 업로드 하기"
   ]
  },
  {
   "cell_type": "markdown",
   "metadata": {},
   "source": [
    "- 한줄짜리 SQL이면 **%%read_sql**을 쓰고, 같은 줄에 SQL문을 써줍니다. \n",
    "- 두줄 이상의 SQL이면 **%%read_sql**을 먼저 써주고, 그 다음줄부터 SQL을 써주면 됩니다. "
   ]
  },
  {
   "cell_type": "code",
   "execution_count": 5,
   "metadata": {},
   "outputs": [],
   "source": [
    "schema = 'ds_training_plpy'"
   ]
  },
  {
   "cell_type": "code",
   "execution_count": 6,
   "metadata": {},
   "outputs": [
    {
     "name": "stdout",
     "output_type": "stream",
     "text": [
      "Query started at 10:06:37 PM KST; Query executed in 0.00 m"
     ]
    },
    {
     "data": {
      "text/plain": [
       "<sql_magic.exceptions.EmptyResult at 0x1a1c0a84e0>"
      ]
     },
     "execution_count": 6,
     "metadata": {},
     "output_type": "execute_result"
    }
   ],
   "source": [
    "%read_sql DROP SCHEMA IF EXISTS {schema} CASCADE;\n",
    "%read_sql CREATE SCHEMA {schema};"
   ]
  },
  {
   "cell_type": "markdown",
   "metadata": {},
   "source": [
    "- Web에 있는 abalone 데이터셋을 External Table로 먼저 가져옵니다. "
   ]
  },
  {
   "cell_type": "code",
   "execution_count": 7,
   "metadata": {
    "collapsed": true
   },
   "outputs": [
    {
     "name": "stdout",
     "output_type": "stream",
     "text": [
      "Query started at 10:06:37 PM KST; Query executed in 0.00 m"
     ]
    },
    {
     "data": {
      "text/plain": [
       "<sql_magic.exceptions.EmptyResult at 0x1a1c0a8c50>"
      ]
     },
     "execution_count": 7,
     "metadata": {},
     "output_type": "execute_result"
    }
   ],
   "source": [
    "%%read_sql\n",
    "-- External Table\n",
    "DROP EXTERNAL TABLE IF EXISTS {schema}.abalone_external;\n",
    "CREATE EXTERNAL WEB TABLE {schema}.abalone_external(\n",
    "    sex text \n",
    "    , length float8\n",
    "    , diameter float8\n",
    "    , height float8\n",
    "    , whole_weight float8\n",
    "    , shucked_weight float8\n",
    "    , viscera_weight float8\n",
    "    , shell_weight float8\n",
    "    , rings integer -- target variable to predict\n",
    ") location('http://archive.ics.uci.edu/ml/machine-learning-databases/abalone/abalone.data') \n",
    "format 'CSV' \n",
    "(null as '?');"
   ]
  },
  {
   "cell_type": "markdown",
   "metadata": {},
   "source": [
    "- External Table에서 데이터를 가져다가 GPDB에 abalone table을 생성합니다. "
   ]
  },
  {
   "cell_type": "code",
   "execution_count": 8,
   "metadata": {
    "collapsed": true
   },
   "outputs": [
    {
     "name": "stdout",
     "output_type": "stream",
     "text": [
      "Query started at 10:06:37 PM KST; Query executed in 0.02 m"
     ]
    },
    {
     "data": {
      "text/plain": [
       "<sql_magic.exceptions.EmptyResult at 0x1a1c0b9ac8>"
      ]
     },
     "execution_count": 8,
     "metadata": {},
     "output_type": "execute_result"
    }
   ],
   "source": [
    "%%read_sql\n",
    "-- Create a table at Greenplum Database from external table\n",
    "DROP TABLE IF EXISTS {schema}.abalone;\n",
    "CREATE TABLE {schema}.abalone AS\n",
    "    SELECT row_number() over() AS id, * \n",
    "    FROM {schema}.abalone_external\n",
    "    DISTRIBUTED BY (sex);"
   ]
  },
  {
   "cell_type": "code",
   "execution_count": 9,
   "metadata": {
    "collapsed": true
   },
   "outputs": [
    {
     "name": "stdout",
     "output_type": "stream",
     "text": [
      "Query started at 10:06:39 PM KST; Query executed in 0.00 m"
     ]
    },
    {
     "data": {
      "text/html": [
       "<div>\n",
       "<style>\n",
       "    .dataframe thead tr:only-child th {\n",
       "        text-align: right;\n",
       "    }\n",
       "\n",
       "    .dataframe thead th {\n",
       "        text-align: left;\n",
       "    }\n",
       "\n",
       "    .dataframe tbody tr th {\n",
       "        vertical-align: top;\n",
       "    }\n",
       "</style>\n",
       "<table border=\"1\" class=\"dataframe\">\n",
       "  <thead>\n",
       "    <tr style=\"text-align: right;\">\n",
       "      <th></th>\n",
       "      <th>id</th>\n",
       "      <th>sex</th>\n",
       "      <th>length</th>\n",
       "      <th>diameter</th>\n",
       "      <th>height</th>\n",
       "      <th>whole_weight</th>\n",
       "      <th>shucked_weight</th>\n",
       "      <th>viscera_weight</th>\n",
       "      <th>shell_weight</th>\n",
       "      <th>rings</th>\n",
       "    </tr>\n",
       "  </thead>\n",
       "  <tbody>\n",
       "    <tr>\n",
       "      <th>0</th>\n",
       "      <td>1</td>\n",
       "      <td>M</td>\n",
       "      <td>0.455</td>\n",
       "      <td>0.365</td>\n",
       "      <td>0.095</td>\n",
       "      <td>0.5140</td>\n",
       "      <td>0.2245</td>\n",
       "      <td>0.1010</td>\n",
       "      <td>0.150</td>\n",
       "      <td>15</td>\n",
       "    </tr>\n",
       "    <tr>\n",
       "      <th>1</th>\n",
       "      <td>2</td>\n",
       "      <td>M</td>\n",
       "      <td>0.350</td>\n",
       "      <td>0.265</td>\n",
       "      <td>0.090</td>\n",
       "      <td>0.2255</td>\n",
       "      <td>0.0995</td>\n",
       "      <td>0.0485</td>\n",
       "      <td>0.070</td>\n",
       "      <td>7</td>\n",
       "    </tr>\n",
       "    <tr>\n",
       "      <th>2</th>\n",
       "      <td>4</td>\n",
       "      <td>M</td>\n",
       "      <td>0.440</td>\n",
       "      <td>0.365</td>\n",
       "      <td>0.125</td>\n",
       "      <td>0.5160</td>\n",
       "      <td>0.2155</td>\n",
       "      <td>0.1140</td>\n",
       "      <td>0.155</td>\n",
       "      <td>10</td>\n",
       "    </tr>\n",
       "    <tr>\n",
       "      <th>3</th>\n",
       "      <td>5</td>\n",
       "      <td>I</td>\n",
       "      <td>0.330</td>\n",
       "      <td>0.255</td>\n",
       "      <td>0.080</td>\n",
       "      <td>0.2050</td>\n",
       "      <td>0.0895</td>\n",
       "      <td>0.0395</td>\n",
       "      <td>0.055</td>\n",
       "      <td>7</td>\n",
       "    </tr>\n",
       "    <tr>\n",
       "      <th>4</th>\n",
       "      <td>6</td>\n",
       "      <td>I</td>\n",
       "      <td>0.425</td>\n",
       "      <td>0.300</td>\n",
       "      <td>0.095</td>\n",
       "      <td>0.3515</td>\n",
       "      <td>0.1410</td>\n",
       "      <td>0.0775</td>\n",
       "      <td>0.120</td>\n",
       "      <td>8</td>\n",
       "    </tr>\n",
       "  </tbody>\n",
       "</table>\n",
       "</div>"
      ],
      "text/plain": [
       "   id sex  length  diameter  height  whole_weight  shucked_weight  \\\n",
       "0   1   M   0.455     0.365   0.095        0.5140          0.2245   \n",
       "1   2   M   0.350     0.265   0.090        0.2255          0.0995   \n",
       "2   4   M   0.440     0.365   0.125        0.5160          0.2155   \n",
       "3   5   I   0.330     0.255   0.080        0.2050          0.0895   \n",
       "4   6   I   0.425     0.300   0.095        0.3515          0.1410   \n",
       "\n",
       "   viscera_weight  shell_weight  rings  \n",
       "0          0.1010         0.150     15  \n",
       "1          0.0485         0.070      7  \n",
       "2          0.1140         0.155     10  \n",
       "3          0.0395         0.055      7  \n",
       "4          0.0775         0.120      8  "
      ]
     },
     "execution_count": 9,
     "metadata": {},
     "output_type": "execute_result"
    }
   ],
   "source": [
    "%read_sql SELECT * FROM {schema}.abalone LIMIT 5;"
   ]
  },
  {
   "cell_type": "markdown",
   "metadata": {},
   "source": [
    "## Target 변수 탐색 및 정의\n",
    "- %%read_sql 다음에 -d 는 조회결과를 화면에 나타내지 말라는 것이며, 아래 예처럼 'df_abalone'를 써주면 pandas DataFrame을 만들어줍니다. \n",
    "- age = rings + 1.5"
   ]
  },
  {
   "cell_type": "code",
   "execution_count": 10,
   "metadata": {
    "collapsed": true
   },
   "outputs": [
    {
     "name": "stdout",
     "output_type": "stream",
     "text": [
      "Query started at 10:06:39 PM KST; Query executed in 0.00 m"
     ]
    }
   ],
   "source": [
    "%%read_sql -d df_abalone\n",
    "SELECT * FROM {schema}.abalone"
   ]
  },
  {
   "cell_type": "code",
   "execution_count": 11,
   "metadata": {
    "collapsed": true
   },
   "outputs": [
    {
     "data": {
      "text/plain": [
       "<matplotlib.axes._subplots.AxesSubplot at 0x1a1c0b2908>"
      ]
     },
     "execution_count": 11,
     "metadata": {},
     "output_type": "execute_result"
    },
    {
     "data": {
      "image/png": "[encoded data removed]",
      "text/plain": [
       "<matplotlib.figure.Figure at 0x1a1c05a978>"
      ]
     },
     "metadata": {},
     "output_type": "display_data"
    }
   ],
   "source": [
    "(df_abalone.rings + 1.5).hist(bins=30)"
   ]
  },
  {
   "cell_type": "code",
   "execution_count": 12,
   "metadata": {
    "collapsed": true
   },
   "outputs": [
    {
     "data": {
      "text/plain": [
       "True     2770\n",
       "False    1407\n",
       "Name: rings, dtype: int64"
      ]
     },
     "execution_count": 12,
     "metadata": {},
     "output_type": "execute_result"
    }
   ],
   "source": [
    "((df_abalone.rings + 1.5) >= 10).value_counts()"
   ]
  },
  {
   "cell_type": "code",
   "execution_count": 13,
   "metadata": {
    "collapsed": true
   },
   "outputs": [
    {
     "data": {
      "text/plain": [
       "2.5     0.000239\n",
       "3.5     0.000479\n",
       "4.5     0.004070\n",
       "5.5     0.017716\n",
       "6.5     0.045248\n",
       "7.5     0.107254\n",
       "8.5     0.200862\n",
       "9.5     0.336845\n",
       "10.5    0.501796\n",
       "11.5    0.653579\n",
       "12.5    0.770170\n",
       "13.5    0.834091\n",
       "14.5    0.882691\n",
       "15.5    0.912856\n",
       "16.5    0.937515\n",
       "17.5    0.953555\n",
       "18.5    0.967441\n",
       "19.5    0.977496\n",
       "20.5    0.985157\n",
       "21.5    0.991381\n",
       "22.5    0.994733\n",
       "23.5    0.996169\n",
       "24.5    0.998324\n",
       "25.5    0.998803\n",
       "26.5    0.999042\n",
       "27.5    0.999282\n",
       "28.5    0.999761\n",
       "30.5    1.000000\n",
       "Name: rings, dtype: float64"
      ]
     },
     "execution_count": 13,
     "metadata": {},
     "output_type": "execute_result"
    }
   ],
   "source": [
    "_cumsum = (df_abalone.rings + 1.5).value_counts().sort_index().cumsum()\n",
    "_cumsum / df_abalone.shape[0]"
   ]
  },
  {
   "cell_type": "markdown",
   "metadata": {},
   "source": [
    "- age = rings + 1.5\n",
    "- target 변수 정의: 연령 10년 이상이면 성숙(mature), 10년 미만이면 미성숙(immature)\n",
    "- 성별 코드(M, F, I)를 대문자에서 소문자로 변환"
   ]
  },
  {
   "cell_type": "code",
   "execution_count": 14,
   "metadata": {
    "collapsed": true
   },
   "outputs": [
    {
     "name": "stdout",
     "output_type": "stream",
     "text": [
      "Query started at 10:06:39 PM KST; Query executed in 0.00 m"
     ]
    },
    {
     "data": {
      "text/plain": [
       "<sql_magic.exceptions.EmptyResult at 0x1a1c155c50>"
      ]
     },
     "execution_count": 14,
     "metadata": {},
     "output_type": "execute_result"
    }
   ],
   "source": [
    "%%read_sql\n",
    "DROP TABLE IF EXISTS {schema}.abalone_target;\n",
    "CREATE TABLE {schema}.abalone_target AS \n",
    "    SELECT \n",
    "        id\n",
    "        , lower(sex) as sex\n",
    "        , length\n",
    "        , diameter\n",
    "        , height\n",
    "        , whole_weight\n",
    "        , shucked_weight\n",
    "        , viscera_weight\n",
    "        , shell_weight\n",
    "        , rings\n",
    "        , rings + 1.5 AS age\n",
    "        , CASE WHEN (rings + 1.5) >= 10 THEN 1 ELSE 0 END AS mature\n",
    "    FROM {schema}.abalone"
   ]
  },
  {
   "cell_type": "code",
   "execution_count": 15,
   "metadata": {
    "collapsed": true
   },
   "outputs": [
    {
     "name": "stdout",
     "output_type": "stream",
     "text": [
      "Query started at 10:06:39 PM KST; Query executed in 0.00 m"
     ]
    },
    {
     "data": {
      "text/html": [
       "<div>\n",
       "<style>\n",
       "    .dataframe thead tr:only-child th {\n",
       "        text-align: right;\n",
       "    }\n",
       "\n",
       "    .dataframe thead th {\n",
       "        text-align: left;\n",
       "    }\n",
       "\n",
       "    .dataframe tbody tr th {\n",
       "        vertical-align: top;\n",
       "    }\n",
       "</style>\n",
       "<table border=\"1\" class=\"dataframe\">\n",
       "  <thead>\n",
       "    <tr style=\"text-align: right;\">\n",
       "      <th></th>\n",
       "      <th>id</th>\n",
       "      <th>sex</th>\n",
       "      <th>length</th>\n",
       "      <th>diameter</th>\n",
       "      <th>height</th>\n",
       "      <th>whole_weight</th>\n",
       "      <th>shucked_weight</th>\n",
       "      <th>viscera_weight</th>\n",
       "      <th>shell_weight</th>\n",
       "      <th>rings</th>\n",
       "      <th>age</th>\n",
       "      <th>mature</th>\n",
       "    </tr>\n",
       "  </thead>\n",
       "  <tbody>\n",
       "    <tr>\n",
       "      <th>0</th>\n",
       "      <td>1</td>\n",
       "      <td>m</td>\n",
       "      <td>0.455</td>\n",
       "      <td>0.365</td>\n",
       "      <td>0.095</td>\n",
       "      <td>0.5140</td>\n",
       "      <td>0.2245</td>\n",
       "      <td>0.1010</td>\n",
       "      <td>0.150</td>\n",
       "      <td>15</td>\n",
       "      <td>16.5</td>\n",
       "      <td>1</td>\n",
       "    </tr>\n",
       "    <tr>\n",
       "      <th>1</th>\n",
       "      <td>2</td>\n",
       "      <td>m</td>\n",
       "      <td>0.350</td>\n",
       "      <td>0.265</td>\n",
       "      <td>0.090</td>\n",
       "      <td>0.2255</td>\n",
       "      <td>0.0995</td>\n",
       "      <td>0.0485</td>\n",
       "      <td>0.070</td>\n",
       "      <td>7</td>\n",
       "      <td>8.5</td>\n",
       "      <td>0</td>\n",
       "    </tr>\n",
       "    <tr>\n",
       "      <th>2</th>\n",
       "      <td>3</td>\n",
       "      <td>f</td>\n",
       "      <td>0.530</td>\n",
       "      <td>0.420</td>\n",
       "      <td>0.135</td>\n",
       "      <td>0.6770</td>\n",
       "      <td>0.2565</td>\n",
       "      <td>0.1415</td>\n",
       "      <td>0.210</td>\n",
       "      <td>9</td>\n",
       "      <td>10.5</td>\n",
       "      <td>1</td>\n",
       "    </tr>\n",
       "    <tr>\n",
       "      <th>3</th>\n",
       "      <td>4</td>\n",
       "      <td>m</td>\n",
       "      <td>0.440</td>\n",
       "      <td>0.365</td>\n",
       "      <td>0.125</td>\n",
       "      <td>0.5160</td>\n",
       "      <td>0.2155</td>\n",
       "      <td>0.1140</td>\n",
       "      <td>0.155</td>\n",
       "      <td>10</td>\n",
       "      <td>11.5</td>\n",
       "      <td>1</td>\n",
       "    </tr>\n",
       "    <tr>\n",
       "      <th>4</th>\n",
       "      <td>5</td>\n",
       "      <td>i</td>\n",
       "      <td>0.330</td>\n",
       "      <td>0.255</td>\n",
       "      <td>0.080</td>\n",
       "      <td>0.2050</td>\n",
       "      <td>0.0895</td>\n",
       "      <td>0.0395</td>\n",
       "      <td>0.055</td>\n",
       "      <td>7</td>\n",
       "      <td>8.5</td>\n",
       "      <td>0</td>\n",
       "    </tr>\n",
       "  </tbody>\n",
       "</table>\n",
       "</div>"
      ],
      "text/plain": [
       "   id sex  length  diameter  height  whole_weight  shucked_weight  \\\n",
       "0   1   m   0.455     0.365   0.095        0.5140          0.2245   \n",
       "1   2   m   0.350     0.265   0.090        0.2255          0.0995   \n",
       "2   3   f   0.530     0.420   0.135        0.6770          0.2565   \n",
       "3   4   m   0.440     0.365   0.125        0.5160          0.2155   \n",
       "4   5   i   0.330     0.255   0.080        0.2050          0.0895   \n",
       "\n",
       "   viscera_weight  shell_weight  rings   age  mature  \n",
       "0          0.1010         0.150     15  16.5       1  \n",
       "1          0.0485         0.070      7   8.5       0  \n",
       "2          0.1415         0.210      9  10.5       1  \n",
       "3          0.1140         0.155     10  11.5       1  \n",
       "4          0.0395         0.055      7   8.5       0  "
      ]
     },
     "execution_count": 15,
     "metadata": {},
     "output_type": "execute_result"
    }
   ],
   "source": [
    "%read_sql SELECT * FROM {schema}.abalone_target ORDER BY id LIMIT 5;"
   ]
  },
  {
   "cell_type": "code",
   "execution_count": 16,
   "metadata": {
    "collapsed": true
   },
   "outputs": [
    {
     "name": "stdout",
     "output_type": "stream",
     "text": [
      "Query started at 10:06:40 PM KST; Query executed in 0.00 m"
     ]
    },
    {
     "data": {
      "text/html": [
       "<div>\n",
       "<style>\n",
       "    .dataframe thead tr:only-child th {\n",
       "        text-align: right;\n",
       "    }\n",
       "\n",
       "    .dataframe thead th {\n",
       "        text-align: left;\n",
       "    }\n",
       "\n",
       "    .dataframe tbody tr th {\n",
       "        vertical-align: top;\n",
       "    }\n",
       "</style>\n",
       "<table border=\"1\" class=\"dataframe\">\n",
       "  <thead>\n",
       "    <tr style=\"text-align: right;\">\n",
       "      <th></th>\n",
       "      <th>total_cnt</th>\n",
       "      <th>mature_cnt</th>\n",
       "      <th>mature_ratio</th>\n",
       "    </tr>\n",
       "  </thead>\n",
       "  <tbody>\n",
       "    <tr>\n",
       "      <th>0</th>\n",
       "      <td>4177</td>\n",
       "      <td>2770</td>\n",
       "      <td>66</td>\n",
       "    </tr>\n",
       "  </tbody>\n",
       "</table>\n",
       "</div>"
      ],
      "text/plain": [
       "   total_cnt  mature_cnt  mature_ratio\n",
       "0       4177        2770            66"
      ]
     },
     "execution_count": 16,
     "metadata": {},
     "output_type": "execute_result"
    }
   ],
   "source": [
    "%%read_sql \n",
    "SELECT count(*) AS total_cnt, sum(mature) AS mature_cnt, 100*sum(mature)/count(*) AS mature_ratio\n",
    "FROM {schema}.abalone_target;"
   ]
  },
  {
   "cell_type": "markdown",
   "metadata": {},
   "source": [
    "## 탐색적 데이터 분석"
   ]
  },
  {
   "cell_type": "markdown",
   "metadata": {},
   "source": [
    "- 요약 통계량: 빈도, 결측값, 평균, 분산, 95% 신뢰구간, 최소값, 최대값, 4분위수, 중앙값, 최빈값\n",
    "- MADlib Summary Function: http://madlib.apache.org/docs/latest/group__grp__summary.html"
   ]
  },
  {
   "cell_type": "code",
   "execution_count": 17,
   "metadata": {
    "collapsed": true
   },
   "outputs": [
    {
     "name": "stdout",
     "output_type": "stream",
     "text": [
      "Query started at 10:06:40 PM KST; Query executed in 0.01 m"
     ]
    }
   ],
   "source": [
    "%%read_sql -d\n",
    "DROP TABLE IF EXISTS {schema}.abalone_summary CASCADE;\n",
    "SELECT madlib.summary(\n",
    "    '{schema}.abalone_target'    -- source table\n",
    "    , '{schema}.abalone_summary' -- output table\n",
    "    , 'sex, length, diameter, height, whole_weight, shucked_weight, viscera_weight, shell_weight, mature' -- target column\n",
    "    , NULL                       -- grouping column\n",
    ")"
   ]
  },
  {
   "cell_type": "code",
   "execution_count": 18,
   "metadata": {
    "collapsed": true
   },
   "outputs": [
    {
     "name": "stdout",
     "output_type": "stream",
     "text": [
      "Query started at 10:06:41 PM KST; Query executed in 0.00 m"
     ]
    },
    {
     "data": {
      "text/html": [
       "<div>\n",
       "<style>\n",
       "    .dataframe thead tr:only-child th {\n",
       "        text-align: right;\n",
       "    }\n",
       "\n",
       "    .dataframe thead th {\n",
       "        text-align: left;\n",
       "    }\n",
       "\n",
       "    .dataframe tbody tr th {\n",
       "        vertical-align: top;\n",
       "    }\n",
       "</style>\n",
       "<table border=\"1\" class=\"dataframe\">\n",
       "  <thead>\n",
       "    <tr style=\"text-align: right;\">\n",
       "      <th></th>\n",
       "      <th>group_by</th>\n",
       "      <th>group_by_value</th>\n",
       "      <th>target_column</th>\n",
       "      <th>column_number</th>\n",
       "      <th>data_type</th>\n",
       "      <th>row_count</th>\n",
       "      <th>distinct_values</th>\n",
       "      <th>missing_values</th>\n",
       "      <th>blank_values</th>\n",
       "      <th>fraction_missing</th>\n",
       "      <th>fraction_blank</th>\n",
       "      <th>positive_values</th>\n",
       "      <th>negative_values</th>\n",
       "      <th>zero_values</th>\n",
       "      <th>mean</th>\n",
       "      <th>variance</th>\n",
       "      <th>confidence_interval</th>\n",
       "      <th>min</th>\n",
       "      <th>max</th>\n",
       "      <th>first_quartile</th>\n",
       "      <th>median</th>\n",
       "      <th>third_quartile</th>\n",
       "      <th>most_frequent_values</th>\n",
       "      <th>mfv_frequencies</th>\n",
       "    </tr>\n",
       "  </thead>\n",
       "  <tbody>\n",
       "    <tr>\n",
       "      <th>0</th>\n",
       "      <td>None</td>\n",
       "      <td>None</td>\n",
       "      <td>sex</td>\n",
       "      <td>2</td>\n",
       "      <td>text</td>\n",
       "      <td>4177</td>\n",
       "      <td>3</td>\n",
       "      <td>0</td>\n",
       "      <td>0.0</td>\n",
       "      <td>0.0</td>\n",
       "      <td>0.0</td>\n",
       "      <td>NaN</td>\n",
       "      <td>NaN</td>\n",
       "      <td>NaN</td>\n",
       "      <td>NaN</td>\n",
       "      <td>NaN</td>\n",
       "      <td>None</td>\n",
       "      <td>1.0000</td>\n",
       "      <td>1.0000</td>\n",
       "      <td>NaN</td>\n",
       "      <td>NaN</td>\n",
       "      <td>NaN</td>\n",
       "      <td>[m, m, i, i, f, f]</td>\n",
       "      <td>[1528, 1528, 1342, 1342, 1307, 1307]</td>\n",
       "    </tr>\n",
       "    <tr>\n",
       "      <th>1</th>\n",
       "      <td>None</td>\n",
       "      <td>None</td>\n",
       "      <td>length</td>\n",
       "      <td>3</td>\n",
       "      <td>float8</td>\n",
       "      <td>4177</td>\n",
       "      <td>134</td>\n",
       "      <td>0</td>\n",
       "      <td>NaN</td>\n",
       "      <td>0.0</td>\n",
       "      <td>NaN</td>\n",
       "      <td>4177.0</td>\n",
       "      <td>0.0</td>\n",
       "      <td>0.0</td>\n",
       "      <td>0.523992</td>\n",
       "      <td>0.014422</td>\n",
       "      <td>[0.520350088942874, 0.527634110243145]</td>\n",
       "      <td>0.0750</td>\n",
       "      <td>0.8150</td>\n",
       "      <td>0.4500</td>\n",
       "      <td>0.5450</td>\n",
       "      <td>0.615</td>\n",
       "      <td>[0.625, 0.55, 0.625, 0.575, 0.575, 0.58, 0.58,...</td>\n",
       "      <td>[94, 94, 94, 93, 93, 92, 92, 87, 87, 87]</td>\n",
       "    </tr>\n",
       "    <tr>\n",
       "      <th>2</th>\n",
       "      <td>None</td>\n",
       "      <td>None</td>\n",
       "      <td>diameter</td>\n",
       "      <td>4</td>\n",
       "      <td>float8</td>\n",
       "      <td>4177</td>\n",
       "      <td>111</td>\n",
       "      <td>0</td>\n",
       "      <td>NaN</td>\n",
       "      <td>0.0</td>\n",
       "      <td>NaN</td>\n",
       "      <td>4177.0</td>\n",
       "      <td>0.0</td>\n",
       "      <td>0.0</td>\n",
       "      <td>0.407881</td>\n",
       "      <td>0.009849</td>\n",
       "      <td>[0.404871645997761, 0.410890862979975]</td>\n",
       "      <td>0.0550</td>\n",
       "      <td>0.6500</td>\n",
       "      <td>0.3500</td>\n",
       "      <td>0.4250</td>\n",
       "      <td>0.480</td>\n",
       "      <td>[0.45, 0.45, 0.475, 0.475, 0.4, 0.4, 0.5, 0.5,...</td>\n",
       "      <td>[139, 139, 120, 120, 111, 111, 110, 110, 100, ...</td>\n",
       "    </tr>\n",
       "    <tr>\n",
       "      <th>3</th>\n",
       "      <td>None</td>\n",
       "      <td>None</td>\n",
       "      <td>height</td>\n",
       "      <td>5</td>\n",
       "      <td>float8</td>\n",
       "      <td>4177</td>\n",
       "      <td>51</td>\n",
       "      <td>0</td>\n",
       "      <td>NaN</td>\n",
       "      <td>0.0</td>\n",
       "      <td>NaN</td>\n",
       "      <td>4175.0</td>\n",
       "      <td>0.0</td>\n",
       "      <td>2.0</td>\n",
       "      <td>0.139516</td>\n",
       "      <td>0.001750</td>\n",
       "      <td>[0.138247926591563, 0.140784872067762]</td>\n",
       "      <td>0.0000</td>\n",
       "      <td>1.1300</td>\n",
       "      <td>0.1150</td>\n",
       "      <td>0.1400</td>\n",
       "      <td>0.165</td>\n",
       "      <td>[0.15, 0.15, 0.14, 0.14, 0.155, 0.155, 0.175, ...</td>\n",
       "      <td>[267, 267, 220, 220, 217, 217, 211, 211, 205, ...</td>\n",
       "    </tr>\n",
       "    <tr>\n",
       "      <th>4</th>\n",
       "      <td>None</td>\n",
       "      <td>None</td>\n",
       "      <td>whole_weight</td>\n",
       "      <td>6</td>\n",
       "      <td>float8</td>\n",
       "      <td>4177</td>\n",
       "      <td>2429</td>\n",
       "      <td>0</td>\n",
       "      <td>NaN</td>\n",
       "      <td>0.0</td>\n",
       "      <td>NaN</td>\n",
       "      <td>4177.0</td>\n",
       "      <td>0.0</td>\n",
       "      <td>0.0</td>\n",
       "      <td>0.828742</td>\n",
       "      <td>0.240481</td>\n",
       "      <td>[0.813870324055099, 0.843613994834055]</td>\n",
       "      <td>0.0020</td>\n",
       "      <td>2.8255</td>\n",
       "      <td>0.4415</td>\n",
       "      <td>0.7995</td>\n",
       "      <td>1.153</td>\n",
       "      <td>[1.1345, 0.2225, 0.4775, 0.3675, 1.1155, 0.874...</td>\n",
       "      <td>[11, 8, 7, 7, 7, 7, 7, 7, 7, 6]</td>\n",
       "    </tr>\n",
       "    <tr>\n",
       "      <th>5</th>\n",
       "      <td>None</td>\n",
       "      <td>None</td>\n",
       "      <td>shucked_weight</td>\n",
       "      <td>7</td>\n",
       "      <td>float8</td>\n",
       "      <td>4177</td>\n",
       "      <td>1515</td>\n",
       "      <td>0</td>\n",
       "      <td>NaN</td>\n",
       "      <td>0.0</td>\n",
       "      <td>NaN</td>\n",
       "      <td>4177.0</td>\n",
       "      <td>0.0</td>\n",
       "      <td>0.0</td>\n",
       "      <td>0.359367</td>\n",
       "      <td>0.049268</td>\n",
       "      <td>[0.352636105342963, 0.366098871913442]</td>\n",
       "      <td>0.0010</td>\n",
       "      <td>1.4880</td>\n",
       "      <td>0.1860</td>\n",
       "      <td>0.3360</td>\n",
       "      <td>0.502</td>\n",
       "      <td>[0.175, 0.2505, 0.0745, 0.2, 0.419, 0.21, 0.20...</td>\n",
       "      <td>[11, 10, 10, 9, 9, 9, 9, 9, 8, 8]</td>\n",
       "    </tr>\n",
       "    <tr>\n",
       "      <th>6</th>\n",
       "      <td>None</td>\n",
       "      <td>None</td>\n",
       "      <td>viscera_weight</td>\n",
       "      <td>8</td>\n",
       "      <td>float8</td>\n",
       "      <td>4177</td>\n",
       "      <td>880</td>\n",
       "      <td>0</td>\n",
       "      <td>NaN</td>\n",
       "      <td>0.0</td>\n",
       "      <td>NaN</td>\n",
       "      <td>4177.0</td>\n",
       "      <td>0.0</td>\n",
       "      <td>0.0</td>\n",
       "      <td>0.180594</td>\n",
       "      <td>0.012015</td>\n",
       "      <td>[0.17726937948362, 0.183917836221431]</td>\n",
       "      <td>0.0005</td>\n",
       "      <td>0.7600</td>\n",
       "      <td>0.0935</td>\n",
       "      <td>0.1710</td>\n",
       "      <td>0.253</td>\n",
       "      <td>[0.1715, 0.061, 0.0575, 0.037, 0.0265, 0.15, 0...</td>\n",
       "      <td>[15, 13, 13, 13, 12, 12, 12, 12, 11, 11]</td>\n",
       "    </tr>\n",
       "    <tr>\n",
       "      <th>7</th>\n",
       "      <td>None</td>\n",
       "      <td>None</td>\n",
       "      <td>shell_weight</td>\n",
       "      <td>9</td>\n",
       "      <td>float8</td>\n",
       "      <td>4177</td>\n",
       "      <td>926</td>\n",
       "      <td>0</td>\n",
       "      <td>NaN</td>\n",
       "      <td>0.0</td>\n",
       "      <td>NaN</td>\n",
       "      <td>4177.0</td>\n",
       "      <td>0.0</td>\n",
       "      <td>0.0</td>\n",
       "      <td>0.238831</td>\n",
       "      <td>0.019377</td>\n",
       "      <td>[0.234609314715373, 0.243052404221663]</td>\n",
       "      <td>0.0015</td>\n",
       "      <td>1.0050</td>\n",
       "      <td>0.1300</td>\n",
       "      <td>0.2340</td>\n",
       "      <td>0.329</td>\n",
       "      <td>[0.275, 0.25, 0.315, 0.265, 0.265, 0.185, 0.28...</td>\n",
       "      <td>[43, 42, 40, 40, 40, 40, 37, 37, 37, 36]</td>\n",
       "    </tr>\n",
       "    <tr>\n",
       "      <th>8</th>\n",
       "      <td>None</td>\n",
       "      <td>None</td>\n",
       "      <td>mature</td>\n",
       "      <td>12</td>\n",
       "      <td>int4</td>\n",
       "      <td>4177</td>\n",
       "      <td>2</td>\n",
       "      <td>0</td>\n",
       "      <td>NaN</td>\n",
       "      <td>0.0</td>\n",
       "      <td>NaN</td>\n",
       "      <td>2770.0</td>\n",
       "      <td>0.0</td>\n",
       "      <td>1407.0</td>\n",
       "      <td>0.663155</td>\n",
       "      <td>0.223434</td>\n",
       "      <td>[0.648820355293342, 0.67749039404829]</td>\n",
       "      <td>0.0000</td>\n",
       "      <td>1.0000</td>\n",
       "      <td>0.0000</td>\n",
       "      <td>1.0000</td>\n",
       "      <td>1.000</td>\n",
       "      <td>[1, 1, 0, 0]</td>\n",
       "      <td>[2770, 2770, 1407, 1407]</td>\n",
       "    </tr>\n",
       "  </tbody>\n",
       "</table>\n",
       "</div>"
      ],
      "text/plain": [
       "  group_by group_by_value   target_column  column_number data_type  row_count  \\\n",
       "0     None           None             sex              2      text       4177   \n",
       "1     None           None          length              3    float8       4177   \n",
       "2     None           None        diameter              4    float8       4177   \n",
       "3     None           None          height              5    float8       4177   \n",
       "4     None           None    whole_weight              6    float8       4177   \n",
       "5     None           None  shucked_weight              7    float8       4177   \n",
       "6     None           None  viscera_weight              8    float8       4177   \n",
       "7     None           None    shell_weight              9    float8       4177   \n",
       "8     None           None          mature             12      int4       4177   \n",
       "\n",
       "   distinct_values  missing_values  blank_values  fraction_missing  \\\n",
       "0                3               0           0.0               0.0   \n",
       "1              134               0           NaN               0.0   \n",
       "2              111               0           NaN               0.0   \n",
       "3               51               0           NaN               0.0   \n",
       "4             2429               0           NaN               0.0   \n",
       "5             1515               0           NaN               0.0   \n",
       "6              880               0           NaN               0.0   \n",
       "7              926               0           NaN               0.0   \n",
       "8                2               0           NaN               0.0   \n",
       "\n",
       "   fraction_blank  positive_values  negative_values  zero_values      mean  \\\n",
       "0             0.0              NaN              NaN          NaN       NaN   \n",
       "1             NaN           4177.0              0.0          0.0  0.523992   \n",
       "2             NaN           4177.0              0.0          0.0  0.407881   \n",
       "3             NaN           4175.0              0.0          2.0  0.139516   \n",
       "4             NaN           4177.0              0.0          0.0  0.828742   \n",
       "5             NaN           4177.0              0.0          0.0  0.359367   \n",
       "6             NaN           4177.0              0.0          0.0  0.180594   \n",
       "7             NaN           4177.0              0.0          0.0  0.238831   \n",
       "8             NaN           2770.0              0.0       1407.0  0.663155   \n",
       "\n",
       "   variance                     confidence_interval     min     max  \\\n",
       "0       NaN                                    None  1.0000  1.0000   \n",
       "1  0.014422  [0.520350088942874, 0.527634110243145]  0.0750  0.8150   \n",
       "2  0.009849  [0.404871645997761, 0.410890862979975]  0.0550  0.6500   \n",
       "3  0.001750  [0.138247926591563, 0.140784872067762]  0.0000  1.1300   \n",
       "4  0.240481  [0.813870324055099, 0.843613994834055]  0.0020  2.8255   \n",
       "5  0.049268  [0.352636105342963, 0.366098871913442]  0.0010  1.4880   \n",
       "6  0.012015   [0.17726937948362, 0.183917836221431]  0.0005  0.7600   \n",
       "7  0.019377  [0.234609314715373, 0.243052404221663]  0.0015  1.0050   \n",
       "8  0.223434   [0.648820355293342, 0.67749039404829]  0.0000  1.0000   \n",
       "\n",
       "   first_quartile  median  third_quartile  \\\n",
       "0             NaN     NaN             NaN   \n",
       "1          0.4500  0.5450           0.615   \n",
       "2          0.3500  0.4250           0.480   \n",
       "3          0.1150  0.1400           0.165   \n",
       "4          0.4415  0.7995           1.153   \n",
       "5          0.1860  0.3360           0.502   \n",
       "6          0.0935  0.1710           0.253   \n",
       "7          0.1300  0.2340           0.329   \n",
       "8          0.0000  1.0000           1.000   \n",
       "\n",
       "                                most_frequent_values  \\\n",
       "0                                 [m, m, i, i, f, f]   \n",
       "1  [0.625, 0.55, 0.625, 0.575, 0.575, 0.58, 0.58,...   \n",
       "2  [0.45, 0.45, 0.475, 0.475, 0.4, 0.4, 0.5, 0.5,...   \n",
       "3  [0.15, 0.15, 0.14, 0.14, 0.155, 0.155, 0.175, ...   \n",
       "4  [1.1345, 0.2225, 0.4775, 0.3675, 1.1155, 0.874...   \n",
       "5  [0.175, 0.2505, 0.0745, 0.2, 0.419, 0.21, 0.20...   \n",
       "6  [0.1715, 0.061, 0.0575, 0.037, 0.0265, 0.15, 0...   \n",
       "7  [0.275, 0.25, 0.315, 0.265, 0.265, 0.185, 0.28...   \n",
       "8                                       [1, 1, 0, 0]   \n",
       "\n",
       "                                     mfv_frequencies  \n",
       "0               [1528, 1528, 1342, 1342, 1307, 1307]  \n",
       "1           [94, 94, 94, 93, 93, 92, 92, 87, 87, 87]  \n",
       "2  [139, 139, 120, 120, 111, 111, 110, 110, 100, ...  \n",
       "3  [267, 267, 220, 220, 217, 217, 211, 211, 205, ...  \n",
       "4                    [11, 8, 7, 7, 7, 7, 7, 7, 7, 6]  \n",
       "5                  [11, 10, 10, 9, 9, 9, 9, 9, 8, 8]  \n",
       "6           [15, 13, 13, 13, 12, 12, 12, 12, 11, 11]  \n",
       "7           [43, 42, 40, 40, 40, 40, 37, 37, 37, 36]  \n",
       "8                           [2770, 2770, 1407, 1407]  "
      ]
     },
     "execution_count": 18,
     "metadata": {},
     "output_type": "execute_result"
    }
   ],
   "source": [
    "%read_sql SELECT * FROM {schema}.abalone_summary;"
   ]
  },
  {
   "cell_type": "markdown",
   "metadata": {},
   "source": [
    "> 결측값(missing value) 없음  \n",
    "> 높이(height) '0'인 관측치 확인 필요"
   ]
  },
  {
   "cell_type": "markdown",
   "metadata": {},
   "source": [
    "- abalone 데이터셋을 로컬 클라이언트 컴퓨터에서는 처리할 수 없는 매우 큰 크기의 데이터셋이라고 가정합시다. \n",
    "- 연속형 변수를 성별(sex) 기준 stratified random sampling하여 Python으로 히스토그램(histogram), 산점도 행렬(scatter plot matrix) 그려보겠습니다. \n",
    "- MADlib Stratified Random Sampling: http://madlib.apache.org/docs/latest/group__grp__strs.html"
   ]
  },
  {
   "cell_type": "code",
   "execution_count": 19,
   "metadata": {
    "collapsed": true
   },
   "outputs": [
    {
     "name": "stdout",
     "output_type": "stream",
     "text": [
      "Query started at 10:06:41 PM KST; Query executed in 0.00 m"
     ]
    }
   ],
   "source": [
    "%%read_sql -d\n",
    "DROP TABLE IF EXISTS {schema}.abalone_sample;\n",
    "SELECT madlib.stratified_sample(\n",
    "    '{schema}.abalone_target'   -- source table\n",
    "    , '{schema}.abalone_sample' -- output table\n",
    "    , 0.9                       -- sample proportion\n",
    "    , 'sex'                     -- strata definition\n",
    "    , 'length, diameter, height, whole_weight, shucked_weight, viscera_weight, shell_weight, mature' -- columns to output\n",
    "    , FALSE                     -- FALSE means 'sampling without replacement'\n",
    ")"
   ]
  },
  {
   "cell_type": "code",
   "execution_count": 20,
   "metadata": {},
   "outputs": [
    {
     "name": "stdout",
     "output_type": "stream",
     "text": [
      "Query started at 10:06:41 PM KST; Query executed in 0.00 m"
     ]
    }
   ],
   "source": [
    "%%read_sql -d df_abalone_sample\n",
    "SELECT * FROM {schema}.abalone_sample;"
   ]
  },
  {
   "cell_type": "code",
   "execution_count": 21,
   "metadata": {
    "collapsed": true
   },
   "outputs": [
    {
     "name": "stdout",
     "output_type": "stream",
     "text": [
      "Query started at 10:06:41 PM KST; Query executed in 0.00 m"
     ]
    },
    {
     "data": {
      "text/html": [
       "<div>\n",
       "<style>\n",
       "    .dataframe thead tr:only-child th {\n",
       "        text-align: right;\n",
       "    }\n",
       "\n",
       "    .dataframe thead th {\n",
       "        text-align: left;\n",
       "    }\n",
       "\n",
       "    .dataframe tbody tr th {\n",
       "        vertical-align: top;\n",
       "    }\n",
       "</style>\n",
       "<table border=\"1\" class=\"dataframe\">\n",
       "  <thead>\n",
       "    <tr style=\"text-align: right;\">\n",
       "      <th></th>\n",
       "      <th>sex</th>\n",
       "      <th>count</th>\n",
       "    </tr>\n",
       "  </thead>\n",
       "  <tbody>\n",
       "    <tr>\n",
       "      <th>0</th>\n",
       "      <td>i</td>\n",
       "      <td>1208</td>\n",
       "    </tr>\n",
       "    <tr>\n",
       "      <th>1</th>\n",
       "      <td>m</td>\n",
       "      <td>1376</td>\n",
       "    </tr>\n",
       "    <tr>\n",
       "      <th>2</th>\n",
       "      <td>f</td>\n",
       "      <td>1177</td>\n",
       "    </tr>\n",
       "  </tbody>\n",
       "</table>\n",
       "</div>"
      ],
      "text/plain": [
       "  sex  count\n",
       "0   i   1208\n",
       "1   m   1376\n",
       "2   f   1177"
      ]
     },
     "execution_count": 21,
     "metadata": {},
     "output_type": "execute_result"
    }
   ],
   "source": [
    "%%read_sql\n",
    "SELECT sex, count(*) FROM {schema}.abalone_sample GROUP BY sex;"
   ]
  },
  {
   "cell_type": "markdown",
   "metadata": {},
   "source": [
    "- Python seaborn 라이브러리를 이용한 산점도 행렬(scatter plot matrix) 시각화"
   ]
  },
  {
   "cell_type": "code",
   "execution_count": 22,
   "metadata": {},
   "outputs": [
    {
     "name": "stderr",
     "output_type": "stream",
     "text": [
      "/Users/ihongdon/anaconda3/envs/py3.5_tf1.4/lib/python3.5/site-packages/scipy/stats/stats.py:1633: FutureWarning: Using a non-tuple sequence for multidimensional indexing is deprecated; use `arr[tuple(seq)]` instead of `arr[seq]`. In the future this will be interpreted as an array index, `arr[np.array(seq)]`, which will result either in an error or a different result.\n",
      "  return np.add.reduce(sorted[indexer] * weights, axis=axis) / sumval\n"
     ]
    },
    {
     "data": {
      "text/plain": [
       "<seaborn.axisgrid.PairGrid at 0x1a1c334fd0>"
      ]
     },
     "execution_count": 22,
     "metadata": {},
     "output_type": "execute_result"
    },
    {
     "data": {
      "image/png": "[encoded data removed]",
      "text/plain": [
       "<matplotlib.figure.Figure at 0x1a1c334438>"
      ]
     },
     "metadata": {},
     "output_type": "display_data"
    }
   ],
   "source": [
    "sns.pairplot(df_abalone_sample\n",
    "            , diag_kind='kde'\n",
    "            , hue='sex'\n",
    "            , palette='bright')"
   ]
  },
  {
   "cell_type": "markdown",
   "metadata": {},
   "source": [
    "> 성별 'I'와 'M', 'F' 간에 분포의 차이가 존재하고, 'M'과 'F' 간에는 분포 상 차이 거의 없어 보임  \n",
    "  ==> **범주형 변수 one-hot encoding, 혹은 성별 모델링**  \n",
    "  \n",
    "> 독립변수들 간의 강한 상관관계 존재 (다중공선성 의심됨)   \n",
    "  ==> **변수 제거, 혹은 차원 축소**"
   ]
  },
  {
   "cell_type": "markdown",
   "metadata": {},
   "source": [
    "- 상관관계 분석 (correlation coefficients analysis)\n",
    "- MADlib Correlation: http://madlib.apache.org/docs/latest/group__grp__correlation.html"
   ]
  },
  {
   "cell_type": "code",
   "execution_count": 23,
   "metadata": {},
   "outputs": [
    {
     "name": "stdout",
     "output_type": "stream",
     "text": [
      "Query started at 10:06:51 PM KST; Query executed in 0.01 m"
     ]
    }
   ],
   "source": [
    "%%read_sql -d\n",
    "DROP TABLE IF EXISTS {schema}.abalone_correlation, {schema}.abalone_correlation_summary;\n",
    "SELECT madlib.correlation(\n",
    "    '{schema}.abalone_target'        -- source table\n",
    "    , '{schema}.abalone_correlation' -- output table\n",
    "    , 'length, diameter, height, whole_weight, shucked_weight, viscera_weight, shell_weight, mature' -- target columns\n",
    "    , TRUE                           -- verbose\n",
    "    , 'sex'                          -- grouping column\n",
    ")"
   ]
  },
  {
   "cell_type": "code",
   "execution_count": 24,
   "metadata": {},
   "outputs": [
    {
     "name": "stdout",
     "output_type": "stream",
     "text": [
      "Query started at 10:06:52 PM KST; Query executed in 0.00 m"
     ]
    },
    {
     "data": {
      "text/html": [
       "<div>\n",
       "<style>\n",
       "    .dataframe thead tr:only-child th {\n",
       "        text-align: right;\n",
       "    }\n",
       "\n",
       "    .dataframe thead th {\n",
       "        text-align: left;\n",
       "    }\n",
       "\n",
       "    .dataframe tbody tr th {\n",
       "        vertical-align: top;\n",
       "    }\n",
       "</style>\n",
       "<table border=\"1\" class=\"dataframe\">\n",
       "  <thead>\n",
       "    <tr style=\"text-align: right;\">\n",
       "      <th></th>\n",
       "      <th>sex</th>\n",
       "      <th>variable</th>\n",
       "      <th>length</th>\n",
       "      <th>diameter</th>\n",
       "      <th>height</th>\n",
       "      <th>whole_weight</th>\n",
       "      <th>shucked_weight</th>\n",
       "      <th>viscera_weight</th>\n",
       "      <th>shell_weight</th>\n",
       "      <th>mature</th>\n",
       "    </tr>\n",
       "  </thead>\n",
       "  <tbody>\n",
       "    <tr>\n",
       "      <th>0</th>\n",
       "      <td>f</td>\n",
       "      <td>length</td>\n",
       "      <td>1.000000</td>\n",
       "      <td>NaN</td>\n",
       "      <td>NaN</td>\n",
       "      <td>NaN</td>\n",
       "      <td>NaN</td>\n",
       "      <td>NaN</td>\n",
       "      <td>NaN</td>\n",
       "      <td>NaN</td>\n",
       "    </tr>\n",
       "    <tr>\n",
       "      <th>1</th>\n",
       "      <td>f</td>\n",
       "      <td>diameter</td>\n",
       "      <td>0.971081</td>\n",
       "      <td>1.000000</td>\n",
       "      <td>NaN</td>\n",
       "      <td>NaN</td>\n",
       "      <td>NaN</td>\n",
       "      <td>NaN</td>\n",
       "      <td>NaN</td>\n",
       "      <td>NaN</td>\n",
       "    </tr>\n",
       "    <tr>\n",
       "      <th>2</th>\n",
       "      <td>f</td>\n",
       "      <td>height</td>\n",
       "      <td>0.553494</td>\n",
       "      <td>0.562149</td>\n",
       "      <td>1.000000</td>\n",
       "      <td>NaN</td>\n",
       "      <td>NaN</td>\n",
       "      <td>NaN</td>\n",
       "      <td>NaN</td>\n",
       "      <td>NaN</td>\n",
       "    </tr>\n",
       "    <tr>\n",
       "      <th>3</th>\n",
       "      <td>f</td>\n",
       "      <td>whole_weight</td>\n",
       "      <td>0.929116</td>\n",
       "      <td>0.925641</td>\n",
       "      <td>0.583747</td>\n",
       "      <td>1.000000</td>\n",
       "      <td>NaN</td>\n",
       "      <td>NaN</td>\n",
       "      <td>NaN</td>\n",
       "      <td>NaN</td>\n",
       "    </tr>\n",
       "    <tr>\n",
       "      <th>4</th>\n",
       "      <td>f</td>\n",
       "      <td>shucked_weight</td>\n",
       "      <td>0.892259</td>\n",
       "      <td>0.878953</td>\n",
       "      <td>0.531077</td>\n",
       "      <td>0.949567</td>\n",
       "      <td>1.000000</td>\n",
       "      <td>NaN</td>\n",
       "      <td>NaN</td>\n",
       "      <td>NaN</td>\n",
       "    </tr>\n",
       "    <tr>\n",
       "      <th>5</th>\n",
       "      <td>f</td>\n",
       "      <td>viscera_weight</td>\n",
       "      <td>0.890732</td>\n",
       "      <td>0.878164</td>\n",
       "      <td>0.550720</td>\n",
       "      <td>0.939944</td>\n",
       "      <td>0.890135</td>\n",
       "      <td>1.000000</td>\n",
       "      <td>NaN</td>\n",
       "      <td>NaN</td>\n",
       "    </tr>\n",
       "    <tr>\n",
       "      <th>6</th>\n",
       "      <td>f</td>\n",
       "      <td>shell_weight</td>\n",
       "      <td>0.864876</td>\n",
       "      <td>0.876235</td>\n",
       "      <td>0.580622</td>\n",
       "      <td>0.923708</td>\n",
       "      <td>0.801906</td>\n",
       "      <td>0.839690</td>\n",
       "      <td>1.000000</td>\n",
       "      <td>NaN</td>\n",
       "    </tr>\n",
       "    <tr>\n",
       "      <th>7</th>\n",
       "      <td>f</td>\n",
       "      <td>mature</td>\n",
       "      <td>0.325125</td>\n",
       "      <td>0.339494</td>\n",
       "      <td>0.202458</td>\n",
       "      <td>0.304832</td>\n",
       "      <td>0.237307</td>\n",
       "      <td>0.296193</td>\n",
       "      <td>0.338859</td>\n",
       "      <td>1.0</td>\n",
       "    </tr>\n",
       "    <tr>\n",
       "      <th>8</th>\n",
       "      <td>i</td>\n",
       "      <td>length</td>\n",
       "      <td>1.000000</td>\n",
       "      <td>NaN</td>\n",
       "      <td>NaN</td>\n",
       "      <td>NaN</td>\n",
       "      <td>NaN</td>\n",
       "      <td>NaN</td>\n",
       "      <td>NaN</td>\n",
       "      <td>NaN</td>\n",
       "    </tr>\n",
       "    <tr>\n",
       "      <th>9</th>\n",
       "      <td>i</td>\n",
       "      <td>diameter</td>\n",
       "      <td>0.986113</td>\n",
       "      <td>1.000000</td>\n",
       "      <td>NaN</td>\n",
       "      <td>NaN</td>\n",
       "      <td>NaN</td>\n",
       "      <td>NaN</td>\n",
       "      <td>NaN</td>\n",
       "      <td>NaN</td>\n",
       "    </tr>\n",
       "    <tr>\n",
       "      <th>10</th>\n",
       "      <td>i</td>\n",
       "      <td>height</td>\n",
       "      <td>0.908525</td>\n",
       "      <td>0.913255</td>\n",
       "      <td>1.000000</td>\n",
       "      <td>NaN</td>\n",
       "      <td>NaN</td>\n",
       "      <td>NaN</td>\n",
       "      <td>NaN</td>\n",
       "      <td>NaN</td>\n",
       "    </tr>\n",
       "    <tr>\n",
       "      <th>11</th>\n",
       "      <td>i</td>\n",
       "      <td>whole_weight</td>\n",
       "      <td>0.920999</td>\n",
       "      <td>0.923699</td>\n",
       "      <td>0.891677</td>\n",
       "      <td>1.000000</td>\n",
       "      <td>NaN</td>\n",
       "      <td>NaN</td>\n",
       "      <td>NaN</td>\n",
       "      <td>NaN</td>\n",
       "    </tr>\n",
       "    <tr>\n",
       "      <th>12</th>\n",
       "      <td>i</td>\n",
       "      <td>shucked_weight</td>\n",
       "      <td>0.897824</td>\n",
       "      <td>0.899157</td>\n",
       "      <td>0.850883</td>\n",
       "      <td>0.969598</td>\n",
       "      <td>1.000000</td>\n",
       "      <td>NaN</td>\n",
       "      <td>NaN</td>\n",
       "      <td>NaN</td>\n",
       "    </tr>\n",
       "    <tr>\n",
       "      <th>13</th>\n",
       "      <td>i</td>\n",
       "      <td>viscera_weight</td>\n",
       "      <td>0.898174</td>\n",
       "      <td>0.899749</td>\n",
       "      <td>0.873557</td>\n",
       "      <td>0.973067</td>\n",
       "      <td>0.930358</td>\n",
       "      <td>1.000000</td>\n",
       "      <td>NaN</td>\n",
       "      <td>NaN</td>\n",
       "    </tr>\n",
       "    <tr>\n",
       "      <th>14</th>\n",
       "      <td>i</td>\n",
       "      <td>shell_weight</td>\n",
       "      <td>0.909093</td>\n",
       "      <td>0.913838</td>\n",
       "      <td>0.881696</td>\n",
       "      <td>0.966964</td>\n",
       "      <td>0.913023</td>\n",
       "      <td>0.937210</td>\n",
       "      <td>1.000000</td>\n",
       "      <td>NaN</td>\n",
       "    </tr>\n",
       "    <tr>\n",
       "      <th>15</th>\n",
       "      <td>i</td>\n",
       "      <td>mature</td>\n",
       "      <td>0.565333</td>\n",
       "      <td>0.575139</td>\n",
       "      <td>0.583434</td>\n",
       "      <td>0.604811</td>\n",
       "      <td>0.549693</td>\n",
       "      <td>0.589609</td>\n",
       "      <td>0.632140</td>\n",
       "      <td>1.0</td>\n",
       "    </tr>\n",
       "    <tr>\n",
       "      <th>16</th>\n",
       "      <td>m</td>\n",
       "      <td>length</td>\n",
       "      <td>1.000000</td>\n",
       "      <td>NaN</td>\n",
       "      <td>NaN</td>\n",
       "      <td>NaN</td>\n",
       "      <td>NaN</td>\n",
       "      <td>NaN</td>\n",
       "      <td>NaN</td>\n",
       "      <td>NaN</td>\n",
       "    </tr>\n",
       "    <tr>\n",
       "      <th>17</th>\n",
       "      <td>m</td>\n",
       "      <td>diameter</td>\n",
       "      <td>0.981907</td>\n",
       "      <td>1.000000</td>\n",
       "      <td>NaN</td>\n",
       "      <td>NaN</td>\n",
       "      <td>NaN</td>\n",
       "      <td>NaN</td>\n",
       "      <td>NaN</td>\n",
       "      <td>NaN</td>\n",
       "    </tr>\n",
       "    <tr>\n",
       "      <th>18</th>\n",
       "      <td>m</td>\n",
       "      <td>height</td>\n",
       "      <td>0.832620</td>\n",
       "      <td>0.840801</td>\n",
       "      <td>1.000000</td>\n",
       "      <td>NaN</td>\n",
       "      <td>NaN</td>\n",
       "      <td>NaN</td>\n",
       "      <td>NaN</td>\n",
       "      <td>NaN</td>\n",
       "    </tr>\n",
       "    <tr>\n",
       "      <th>19</th>\n",
       "      <td>m</td>\n",
       "      <td>whole_weight</td>\n",
       "      <td>0.918292</td>\n",
       "      <td>0.913128</td>\n",
       "      <td>0.842791</td>\n",
       "      <td>1.000000</td>\n",
       "      <td>NaN</td>\n",
       "      <td>NaN</td>\n",
       "      <td>NaN</td>\n",
       "      <td>NaN</td>\n",
       "    </tr>\n",
       "    <tr>\n",
       "      <th>20</th>\n",
       "      <td>m</td>\n",
       "      <td>shucked_weight</td>\n",
       "      <td>0.885824</td>\n",
       "      <td>0.873510</td>\n",
       "      <td>0.784324</td>\n",
       "      <td>0.961383</td>\n",
       "      <td>1.000000</td>\n",
       "      <td>NaN</td>\n",
       "      <td>NaN</td>\n",
       "      <td>NaN</td>\n",
       "    </tr>\n",
       "    <tr>\n",
       "      <th>21</th>\n",
       "      <td>m</td>\n",
       "      <td>viscera_weight</td>\n",
       "      <td>0.888029</td>\n",
       "      <td>0.877113</td>\n",
       "      <td>0.814553</td>\n",
       "      <td>0.952499</td>\n",
       "      <td>0.909738</td>\n",
       "      <td>1.000000</td>\n",
       "      <td>NaN</td>\n",
       "      <td>NaN</td>\n",
       "    </tr>\n",
       "    <tr>\n",
       "      <th>22</th>\n",
       "      <td>m</td>\n",
       "      <td>shell_weight</td>\n",
       "      <td>0.870712</td>\n",
       "      <td>0.879612</td>\n",
       "      <td>0.842906</td>\n",
       "      <td>0.934670</td>\n",
       "      <td>0.838903</td>\n",
       "      <td>0.864264</td>\n",
       "      <td>1.000000</td>\n",
       "      <td>NaN</td>\n",
       "    </tr>\n",
       "    <tr>\n",
       "      <th>23</th>\n",
       "      <td>m</td>\n",
       "      <td>mature</td>\n",
       "      <td>0.426548</td>\n",
       "      <td>0.438005</td>\n",
       "      <td>0.423770</td>\n",
       "      <td>0.395865</td>\n",
       "      <td>0.327700</td>\n",
       "      <td>0.388513</td>\n",
       "      <td>0.441885</td>\n",
       "      <td>1.0</td>\n",
       "    </tr>\n",
       "  </tbody>\n",
       "</table>\n",
       "</div>"
      ],
      "text/plain": [
       "   sex        variable    length  diameter    height  whole_weight  \\\n",
       "0    f          length  1.000000       NaN       NaN           NaN   \n",
       "1    f        diameter  0.971081  1.000000       NaN           NaN   \n",
       "2    f          height  0.553494  0.562149  1.000000           NaN   \n",
       "3    f    whole_weight  0.929116  0.925641  0.583747      1.000000   \n",
       "4    f  shucked_weight  0.892259  0.878953  0.531077      0.949567   \n",
       "5    f  viscera_weight  0.890732  0.878164  0.550720      0.939944   \n",
       "6    f    shell_weight  0.864876  0.876235  0.580622      0.923708   \n",
       "7    f          mature  0.325125  0.339494  0.202458      0.304832   \n",
       "8    i          length  1.000000       NaN       NaN           NaN   \n",
       "9    i        diameter  0.986113  1.000000       NaN           NaN   \n",
       "10   i          height  0.908525  0.913255  1.000000           NaN   \n",
       "11   i    whole_weight  0.920999  0.923699  0.891677      1.000000   \n",
       "12   i  shucked_weight  0.897824  0.899157  0.850883      0.969598   \n",
       "13   i  viscera_weight  0.898174  0.899749  0.873557      0.973067   \n",
       "14   i    shell_weight  0.909093  0.913838  0.881696      0.966964   \n",
       "15   i          mature  0.565333  0.575139  0.583434      0.604811   \n",
       "16   m          length  1.000000       NaN       NaN           NaN   \n",
       "17   m        diameter  0.981907  1.000000       NaN           NaN   \n",
       "18   m          height  0.832620  0.840801  1.000000           NaN   \n",
       "19   m    whole_weight  0.918292  0.913128  0.842791      1.000000   \n",
       "20   m  shucked_weight  0.885824  0.873510  0.784324      0.961383   \n",
       "21   m  viscera_weight  0.888029  0.877113  0.814553      0.952499   \n",
       "22   m    shell_weight  0.870712  0.879612  0.842906      0.934670   \n",
       "23   m          mature  0.426548  0.438005  0.423770      0.395865   \n",
       "\n",
       "    shucked_weight  viscera_weight  shell_weight  mature  \n",
       "0              NaN             NaN           NaN     NaN  \n",
       "1              NaN             NaN           NaN     NaN  \n",
       "2              NaN             NaN           NaN     NaN  \n",
       "3              NaN             NaN           NaN     NaN  \n",
       "4         1.000000             NaN           NaN     NaN  \n",
       "5         0.890135        1.000000           NaN     NaN  \n",
       "6         0.801906        0.839690      1.000000     NaN  \n",
       "7         0.237307        0.296193      0.338859     1.0  \n",
       "8              NaN             NaN           NaN     NaN  \n",
       "9              NaN             NaN           NaN     NaN  \n",
       "10             NaN             NaN           NaN     NaN  \n",
       "11             NaN             NaN           NaN     NaN  \n",
       "12        1.000000             NaN           NaN     NaN  \n",
       "13        0.930358        1.000000           NaN     NaN  \n",
       "14        0.913023        0.937210      1.000000     NaN  \n",
       "15        0.549693        0.589609      0.632140     1.0  \n",
       "16             NaN             NaN           NaN     NaN  \n",
       "17             NaN             NaN           NaN     NaN  \n",
       "18             NaN             NaN           NaN     NaN  \n",
       "19             NaN             NaN           NaN     NaN  \n",
       "20        1.000000             NaN           NaN     NaN  \n",
       "21        0.909738        1.000000           NaN     NaN  \n",
       "22        0.838903        0.864264      1.000000     NaN  \n",
       "23        0.327700        0.388513      0.441885     1.0  "
      ]
     },
     "execution_count": 24,
     "metadata": {},
     "output_type": "execute_result"
    }
   ],
   "source": [
    "%%read_sql df_abalone_correlation\n",
    "SELECT sex, variable, length, diameter, height, whole_weight, shucked_weight, viscera_weight, shell_weight, mature\n",
    "FROM {schema}.abalone_correlation \n",
    "ORDER BY sex, column_position;"
   ]
  },
  {
   "cell_type": "markdown",
   "metadata": {},
   "source": [
    "- 상관계수 Heatmap"
   ]
  },
  {
   "cell_type": "code",
   "execution_count": 25,
   "metadata": {},
   "outputs": [
    {
     "name": "stderr",
     "output_type": "stream",
     "text": [
      "/Users/ihongdon/anaconda3/envs/py3.5_tf1.4/lib/python3.5/site-packages/matplotlib/colors.py:489: RuntimeWarning: invalid value encountered in less\n",
      "  np.copyto(xa, -1, where=xa < 0.0)\n"
     ]
    },
    {
     "data": {
      "text/html": [
       "<style  type=\"text/css\" >\n",
       "    #T_dd1afc66_4a47_11e9_b832_4600dd41a701row0_col2 {\n",
       "            background-color:  #ffff66;\n",
       "        }    #T_dd1afc66_4a47_11e9_b832_4600dd41a701row0_col3 {\n",
       "            background-color:  #008066;\n",
       "        }    #T_dd1afc66_4a47_11e9_b832_4600dd41a701row0_col4 {\n",
       "            background-color:  #008066;\n",
       "        }    #T_dd1afc66_4a47_11e9_b832_4600dd41a701row0_col5 {\n",
       "            background-color:  #008066;\n",
       "        }    #T_dd1afc66_4a47_11e9_b832_4600dd41a701row0_col6 {\n",
       "            background-color:  #008066;\n",
       "        }    #T_dd1afc66_4a47_11e9_b832_4600dd41a701row0_col7 {\n",
       "            background-color:  #008066;\n",
       "        }    #T_dd1afc66_4a47_11e9_b832_4600dd41a701row0_col8 {\n",
       "            background-color:  #008066;\n",
       "        }    #T_dd1afc66_4a47_11e9_b832_4600dd41a701row0_col9 {\n",
       "            background-color:  #008066;\n",
       "        }    #T_dd1afc66_4a47_11e9_b832_4600dd41a701row1_col2 {\n",
       "            background-color:  #f5fa66;\n",
       "        }    #T_dd1afc66_4a47_11e9_b832_4600dd41a701row1_col3 {\n",
       "            background-color:  #ffff66;\n",
       "        }    #T_dd1afc66_4a47_11e9_b832_4600dd41a701row1_col4 {\n",
       "            background-color:  #008066;\n",
       "        }    #T_dd1afc66_4a47_11e9_b832_4600dd41a701row1_col5 {\n",
       "            background-color:  #008066;\n",
       "        }    #T_dd1afc66_4a47_11e9_b832_4600dd41a701row1_col6 {\n",
       "            background-color:  #008066;\n",
       "        }    #T_dd1afc66_4a47_11e9_b832_4600dd41a701row1_col7 {\n",
       "            background-color:  #008066;\n",
       "        }    #T_dd1afc66_4a47_11e9_b832_4600dd41a701row1_col8 {\n",
       "            background-color:  #008066;\n",
       "        }    #T_dd1afc66_4a47_11e9_b832_4600dd41a701row1_col9 {\n",
       "            background-color:  #008066;\n",
       "        }    #T_dd1afc66_4a47_11e9_b832_4600dd41a701row2_col2 {\n",
       "            background-color:  #56ab66;\n",
       "        }    #T_dd1afc66_4a47_11e9_b832_4600dd41a701row2_col3 {\n",
       "            background-color:  #56ab66;\n",
       "        }    #T_dd1afc66_4a47_11e9_b832_4600dd41a701row2_col4 {\n",
       "            background-color:  #ffff66;\n",
       "        }    #T_dd1afc66_4a47_11e9_b832_4600dd41a701row2_col5 {\n",
       "            background-color:  #008066;\n",
       "        }    #T_dd1afc66_4a47_11e9_b832_4600dd41a701row2_col6 {\n",
       "            background-color:  #008066;\n",
       "        }    #T_dd1afc66_4a47_11e9_b832_4600dd41a701row2_col7 {\n",
       "            background-color:  #008066;\n",
       "        }    #T_dd1afc66_4a47_11e9_b832_4600dd41a701row2_col8 {\n",
       "            background-color:  #008066;\n",
       "        }    #T_dd1afc66_4a47_11e9_b832_4600dd41a701row2_col9 {\n",
       "            background-color:  #008066;\n",
       "        }    #T_dd1afc66_4a47_11e9_b832_4600dd41a701row3_col2 {\n",
       "            background-color:  #e5f266;\n",
       "        }    #T_dd1afc66_4a47_11e9_b832_4600dd41a701row3_col3 {\n",
       "            background-color:  #e3f166;\n",
       "        }    #T_dd1afc66_4a47_11e9_b832_4600dd41a701row3_col4 {\n",
       "            background-color:  #7abc66;\n",
       "        }    #T_dd1afc66_4a47_11e9_b832_4600dd41a701row3_col5 {\n",
       "            background-color:  #ffff66;\n",
       "        }    #T_dd1afc66_4a47_11e9_b832_4600dd41a701row3_col6 {\n",
       "            background-color:  #008066;\n",
       "        }    #T_dd1afc66_4a47_11e9_b832_4600dd41a701row3_col7 {\n",
       "            background-color:  #008066;\n",
       "        }    #T_dd1afc66_4a47_11e9_b832_4600dd41a701row3_col8 {\n",
       "            background-color:  #008066;\n",
       "        }    #T_dd1afc66_4a47_11e9_b832_4600dd41a701row3_col9 {\n",
       "            background-color:  #008066;\n",
       "        }    #T_dd1afc66_4a47_11e9_b832_4600dd41a701row4_col2 {\n",
       "            background-color:  #d7eb66;\n",
       "        }    #T_dd1afc66_4a47_11e9_b832_4600dd41a701row4_col3 {\n",
       "            background-color:  #d1e866;\n",
       "        }    #T_dd1afc66_4a47_11e9_b832_4600dd41a701row4_col4 {\n",
       "            background-color:  #69b466;\n",
       "        }    #T_dd1afc66_4a47_11e9_b832_4600dd41a701row4_col5 {\n",
       "            background-color:  #edf666;\n",
       "        }    #T_dd1afc66_4a47_11e9_b832_4600dd41a701row4_col6 {\n",
       "            background-color:  #ffff66;\n",
       "        }    #T_dd1afc66_4a47_11e9_b832_4600dd41a701row4_col7 {\n",
       "            background-color:  #008066;\n",
       "        }    #T_dd1afc66_4a47_11e9_b832_4600dd41a701row4_col8 {\n",
       "            background-color:  #008066;\n",
       "        }    #T_dd1afc66_4a47_11e9_b832_4600dd41a701row4_col9 {\n",
       "            background-color:  #008066;\n",
       "        }    #T_dd1afc66_4a47_11e9_b832_4600dd41a701row5_col2 {\n",
       "            background-color:  #d6eb66;\n",
       "        }    #T_dd1afc66_4a47_11e9_b832_4600dd41a701row5_col3 {\n",
       "            background-color:  #d0e866;\n",
       "        }    #T_dd1afc66_4a47_11e9_b832_4600dd41a701row5_col4 {\n",
       "            background-color:  #6fb766;\n",
       "        }    #T_dd1afc66_4a47_11e9_b832_4600dd41a701row5_col5 {\n",
       "            background-color:  #e9f466;\n",
       "        }    #T_dd1afc66_4a47_11e9_b832_4600dd41a701row5_col6 {\n",
       "            background-color:  #dbed66;\n",
       "        }    #T_dd1afc66_4a47_11e9_b832_4600dd41a701row5_col7 {\n",
       "            background-color:  #ffff66;\n",
       "        }    #T_dd1afc66_4a47_11e9_b832_4600dd41a701row5_col8 {\n",
       "            background-color:  #008066;\n",
       "        }    #T_dd1afc66_4a47_11e9_b832_4600dd41a701row5_col9 {\n",
       "            background-color:  #008066;\n",
       "        }    #T_dd1afc66_4a47_11e9_b832_4600dd41a701row6_col2 {\n",
       "            background-color:  #cce666;\n",
       "        }    #T_dd1afc66_4a47_11e9_b832_4600dd41a701row6_col3 {\n",
       "            background-color:  #d0e866;\n",
       "        }    #T_dd1afc66_4a47_11e9_b832_4600dd41a701row6_col4 {\n",
       "            background-color:  #79bc66;\n",
       "        }    #T_dd1afc66_4a47_11e9_b832_4600dd41a701row6_col5 {\n",
       "            background-color:  #e3f166;\n",
       "        }    #T_dd1afc66_4a47_11e9_b832_4600dd41a701row6_col6 {\n",
       "            background-color:  #bdde66;\n",
       "        }    #T_dd1afc66_4a47_11e9_b832_4600dd41a701row6_col7 {\n",
       "            background-color:  #c5e266;\n",
       "        }    #T_dd1afc66_4a47_11e9_b832_4600dd41a701row6_col8 {\n",
       "            background-color:  #ffff66;\n",
       "        }    #T_dd1afc66_4a47_11e9_b832_4600dd41a701row6_col9 {\n",
       "            background-color:  #008066;\n",
       "        }    #T_dd1afc66_4a47_11e9_b832_4600dd41a701row7_col2 {\n",
       "            background-color:  #008066;\n",
       "        }    #T_dd1afc66_4a47_11e9_b832_4600dd41a701row7_col3 {\n",
       "            background-color:  #008066;\n",
       "        }    #T_dd1afc66_4a47_11e9_b832_4600dd41a701row7_col4 {\n",
       "            background-color:  #008066;\n",
       "        }    #T_dd1afc66_4a47_11e9_b832_4600dd41a701row7_col5 {\n",
       "            background-color:  #008066;\n",
       "        }    #T_dd1afc66_4a47_11e9_b832_4600dd41a701row7_col6 {\n",
       "            background-color:  #008066;\n",
       "        }    #T_dd1afc66_4a47_11e9_b832_4600dd41a701row7_col7 {\n",
       "            background-color:  #008066;\n",
       "        }    #T_dd1afc66_4a47_11e9_b832_4600dd41a701row7_col8 {\n",
       "            background-color:  #008066;\n",
       "        }    #T_dd1afc66_4a47_11e9_b832_4600dd41a701row7_col9 {\n",
       "            background-color:  #008066;\n",
       "        }    #T_dd1afc66_4a47_11e9_b832_4600dd41a701row8_col2 {\n",
       "            background-color:  #ffff66;\n",
       "        }    #T_dd1afc66_4a47_11e9_b832_4600dd41a701row8_col3 {\n",
       "            background-color:  #008066;\n",
       "        }    #T_dd1afc66_4a47_11e9_b832_4600dd41a701row8_col4 {\n",
       "            background-color:  #008066;\n",
       "        }    #T_dd1afc66_4a47_11e9_b832_4600dd41a701row8_col5 {\n",
       "            background-color:  #008066;\n",
       "        }    #T_dd1afc66_4a47_11e9_b832_4600dd41a701row8_col6 {\n",
       "            background-color:  #008066;\n",
       "        }    #T_dd1afc66_4a47_11e9_b832_4600dd41a701row8_col7 {\n",
       "            background-color:  #008066;\n",
       "        }    #T_dd1afc66_4a47_11e9_b832_4600dd41a701row8_col8 {\n",
       "            background-color:  #008066;\n",
       "        }    #T_dd1afc66_4a47_11e9_b832_4600dd41a701row8_col9 {\n",
       "            background-color:  #008066;\n",
       "        }    #T_dd1afc66_4a47_11e9_b832_4600dd41a701row9_col2 {\n",
       "            background-color:  #fafc66;\n",
       "        }    #T_dd1afc66_4a47_11e9_b832_4600dd41a701row9_col3 {\n",
       "            background-color:  #ffff66;\n",
       "        }    #T_dd1afc66_4a47_11e9_b832_4600dd41a701row9_col4 {\n",
       "            background-color:  #008066;\n",
       "        }    #T_dd1afc66_4a47_11e9_b832_4600dd41a701row9_col5 {\n",
       "            background-color:  #008066;\n",
       "        }    #T_dd1afc66_4a47_11e9_b832_4600dd41a701row9_col6 {\n",
       "            background-color:  #008066;\n",
       "        }    #T_dd1afc66_4a47_11e9_b832_4600dd41a701row9_col7 {\n",
       "            background-color:  #008066;\n",
       "        }    #T_dd1afc66_4a47_11e9_b832_4600dd41a701row9_col8 {\n",
       "            background-color:  #008066;\n",
       "        }    #T_dd1afc66_4a47_11e9_b832_4600dd41a701row9_col9 {\n",
       "            background-color:  #008066;\n",
       "        }    #T_dd1afc66_4a47_11e9_b832_4600dd41a701row10_col2 {\n",
       "            background-color:  #ddee66;\n",
       "        }    #T_dd1afc66_4a47_11e9_b832_4600dd41a701row10_col3 {\n",
       "            background-color:  #deee66;\n",
       "        }    #T_dd1afc66_4a47_11e9_b832_4600dd41a701row10_col4 {\n",
       "            background-color:  #ffff66;\n",
       "        }    #T_dd1afc66_4a47_11e9_b832_4600dd41a701row10_col5 {\n",
       "            background-color:  #008066;\n",
       "        }    #T_dd1afc66_4a47_11e9_b832_4600dd41a701row10_col6 {\n",
       "            background-color:  #008066;\n",
       "        }    #T_dd1afc66_4a47_11e9_b832_4600dd41a701row10_col7 {\n",
       "            background-color:  #008066;\n",
       "        }    #T_dd1afc66_4a47_11e9_b832_4600dd41a701row10_col8 {\n",
       "            background-color:  #008066;\n",
       "        }    #T_dd1afc66_4a47_11e9_b832_4600dd41a701row10_col9 {\n",
       "            background-color:  #008066;\n",
       "        }    #T_dd1afc66_4a47_11e9_b832_4600dd41a701row11_col2 {\n",
       "            background-color:  #e2f066;\n",
       "        }    #T_dd1afc66_4a47_11e9_b832_4600dd41a701row11_col3 {\n",
       "            background-color:  #e2f066;\n",
       "        }    #T_dd1afc66_4a47_11e9_b832_4600dd41a701row11_col4 {\n",
       "            background-color:  #ddee66;\n",
       "        }    #T_dd1afc66_4a47_11e9_b832_4600dd41a701row11_col5 {\n",
       "            background-color:  #ffff66;\n",
       "        }    #T_dd1afc66_4a47_11e9_b832_4600dd41a701row11_col6 {\n",
       "            background-color:  #008066;\n",
       "        }    #T_dd1afc66_4a47_11e9_b832_4600dd41a701row11_col7 {\n",
       "            background-color:  #008066;\n",
       "        }    #T_dd1afc66_4a47_11e9_b832_4600dd41a701row11_col8 {\n",
       "            background-color:  #008066;\n",
       "        }    #T_dd1afc66_4a47_11e9_b832_4600dd41a701row11_col9 {\n",
       "            background-color:  #008066;\n",
       "        }    #T_dd1afc66_4a47_11e9_b832_4600dd41a701row12_col2 {\n",
       "            background-color:  #d9ec66;\n",
       "        }    #T_dd1afc66_4a47_11e9_b832_4600dd41a701row12_col3 {\n",
       "            background-color:  #d8ec66;\n",
       "        }    #T_dd1afc66_4a47_11e9_b832_4600dd41a701row12_col4 {\n",
       "            background-color:  #d0e866;\n",
       "        }    #T_dd1afc66_4a47_11e9_b832_4600dd41a701row12_col5 {\n",
       "            background-color:  #f4fa66;\n",
       "        }    #T_dd1afc66_4a47_11e9_b832_4600dd41a701row12_col6 {\n",
       "            background-color:  #ffff66;\n",
       "        }    #T_dd1afc66_4a47_11e9_b832_4600dd41a701row12_col7 {\n",
       "            background-color:  #008066;\n",
       "        }    #T_dd1afc66_4a47_11e9_b832_4600dd41a701row12_col8 {\n",
       "            background-color:  #008066;\n",
       "        }    #T_dd1afc66_4a47_11e9_b832_4600dd41a701row12_col9 {\n",
       "            background-color:  #008066;\n",
       "        }    #T_dd1afc66_4a47_11e9_b832_4600dd41a701row13_col2 {\n",
       "            background-color:  #d9ec66;\n",
       "        }    #T_dd1afc66_4a47_11e9_b832_4600dd41a701row13_col3 {\n",
       "            background-color:  #d9ec66;\n",
       "        }    #T_dd1afc66_4a47_11e9_b832_4600dd41a701row13_col4 {\n",
       "            background-color:  #d7eb66;\n",
       "        }    #T_dd1afc66_4a47_11e9_b832_4600dd41a701row13_col5 {\n",
       "            background-color:  #f6fb66;\n",
       "        }    #T_dd1afc66_4a47_11e9_b832_4600dd41a701row13_col6 {\n",
       "            background-color:  #e8f366;\n",
       "        }    #T_dd1afc66_4a47_11e9_b832_4600dd41a701row13_col7 {\n",
       "            background-color:  #ffff66;\n",
       "        }    #T_dd1afc66_4a47_11e9_b832_4600dd41a701row13_col8 {\n",
       "            background-color:  #008066;\n",
       "        }    #T_dd1afc66_4a47_11e9_b832_4600dd41a701row13_col9 {\n",
       "            background-color:  #008066;\n",
       "        }    #T_dd1afc66_4a47_11e9_b832_4600dd41a701row14_col2 {\n",
       "            background-color:  #ddee66;\n",
       "        }    #T_dd1afc66_4a47_11e9_b832_4600dd41a701row14_col3 {\n",
       "            background-color:  #deee66;\n",
       "        }    #T_dd1afc66_4a47_11e9_b832_4600dd41a701row14_col4 {\n",
       "            background-color:  #daec66;\n",
       "        }    #T_dd1afc66_4a47_11e9_b832_4600dd41a701row14_col5 {\n",
       "            background-color:  #f3f966;\n",
       "        }    #T_dd1afc66_4a47_11e9_b832_4600dd41a701row14_col6 {\n",
       "            background-color:  #e2f066;\n",
       "        }    #T_dd1afc66_4a47_11e9_b832_4600dd41a701row14_col7 {\n",
       "            background-color:  #e9f466;\n",
       "        }    #T_dd1afc66_4a47_11e9_b832_4600dd41a701row14_col8 {\n",
       "            background-color:  #ffff66;\n",
       "        }    #T_dd1afc66_4a47_11e9_b832_4600dd41a701row14_col9 {\n",
       "            background-color:  #008066;\n",
       "        }    #T_dd1afc66_4a47_11e9_b832_4600dd41a701row15_col2 {\n",
       "            background-color:  #5bad66;\n",
       "        }    #T_dd1afc66_4a47_11e9_b832_4600dd41a701row15_col3 {\n",
       "            background-color:  #5bad66;\n",
       "        }    #T_dd1afc66_4a47_11e9_b832_4600dd41a701row15_col4 {\n",
       "            background-color:  #7abc66;\n",
       "        }    #T_dd1afc66_4a47_11e9_b832_4600dd41a701row15_col5 {\n",
       "            background-color:  #6eb666;\n",
       "        }    #T_dd1afc66_4a47_11e9_b832_4600dd41a701row15_col6 {\n",
       "            background-color:  #68b366;\n",
       "        }    #T_dd1afc66_4a47_11e9_b832_4600dd41a701row15_col7 {\n",
       "            background-color:  #6ab466;\n",
       "        }    #T_dd1afc66_4a47_11e9_b832_4600dd41a701row15_col8 {\n",
       "            background-color:  #71b866;\n",
       "        }    #T_dd1afc66_4a47_11e9_b832_4600dd41a701row15_col9 {\n",
       "            background-color:  #008066;\n",
       "        }    #T_dd1afc66_4a47_11e9_b832_4600dd41a701row16_col2 {\n",
       "            background-color:  #ffff66;\n",
       "        }    #T_dd1afc66_4a47_11e9_b832_4600dd41a701row16_col3 {\n",
       "            background-color:  #008066;\n",
       "        }    #T_dd1afc66_4a47_11e9_b832_4600dd41a701row16_col4 {\n",
       "            background-color:  #008066;\n",
       "        }    #T_dd1afc66_4a47_11e9_b832_4600dd41a701row16_col5 {\n",
       "            background-color:  #008066;\n",
       "        }    #T_dd1afc66_4a47_11e9_b832_4600dd41a701row16_col6 {\n",
       "            background-color:  #008066;\n",
       "        }    #T_dd1afc66_4a47_11e9_b832_4600dd41a701row16_col7 {\n",
       "            background-color:  #008066;\n",
       "        }    #T_dd1afc66_4a47_11e9_b832_4600dd41a701row16_col8 {\n",
       "            background-color:  #008066;\n",
       "        }    #T_dd1afc66_4a47_11e9_b832_4600dd41a701row16_col9 {\n",
       "            background-color:  #008066;\n",
       "        }    #T_dd1afc66_4a47_11e9_b832_4600dd41a701row17_col2 {\n",
       "            background-color:  #f9fc66;\n",
       "        }    #T_dd1afc66_4a47_11e9_b832_4600dd41a701row17_col3 {\n",
       "            background-color:  #ffff66;\n",
       "        }    #T_dd1afc66_4a47_11e9_b832_4600dd41a701row17_col4 {\n",
       "            background-color:  #008066;\n",
       "        }    #T_dd1afc66_4a47_11e9_b832_4600dd41a701row17_col5 {\n",
       "            background-color:  #008066;\n",
       "        }    #T_dd1afc66_4a47_11e9_b832_4600dd41a701row17_col6 {\n",
       "            background-color:  #008066;\n",
       "        }    #T_dd1afc66_4a47_11e9_b832_4600dd41a701row17_col7 {\n",
       "            background-color:  #008066;\n",
       "        }    #T_dd1afc66_4a47_11e9_b832_4600dd41a701row17_col8 {\n",
       "            background-color:  #008066;\n",
       "        }    #T_dd1afc66_4a47_11e9_b832_4600dd41a701row17_col9 {\n",
       "            background-color:  #008066;\n",
       "        }    #T_dd1afc66_4a47_11e9_b832_4600dd41a701row18_col2 {\n",
       "            background-color:  #c0e066;\n",
       "        }    #T_dd1afc66_4a47_11e9_b832_4600dd41a701row18_col3 {\n",
       "            background-color:  #c2e066;\n",
       "        }    #T_dd1afc66_4a47_11e9_b832_4600dd41a701row18_col4 {\n",
       "            background-color:  #ffff66;\n",
       "        }    #T_dd1afc66_4a47_11e9_b832_4600dd41a701row18_col5 {\n",
       "            background-color:  #008066;\n",
       "        }    #T_dd1afc66_4a47_11e9_b832_4600dd41a701row18_col6 {\n",
       "            background-color:  #008066;\n",
       "        }    #T_dd1afc66_4a47_11e9_b832_4600dd41a701row18_col7 {\n",
       "            background-color:  #008066;\n",
       "        }    #T_dd1afc66_4a47_11e9_b832_4600dd41a701row18_col8 {\n",
       "            background-color:  #008066;\n",
       "        }    #T_dd1afc66_4a47_11e9_b832_4600dd41a701row18_col9 {\n",
       "            background-color:  #008066;\n",
       "        }    #T_dd1afc66_4a47_11e9_b832_4600dd41a701row19_col2 {\n",
       "            background-color:  #e1f066;\n",
       "        }    #T_dd1afc66_4a47_11e9_b832_4600dd41a701row19_col3 {\n",
       "            background-color:  #deee66;\n",
       "        }    #T_dd1afc66_4a47_11e9_b832_4600dd41a701row19_col4 {\n",
       "            background-color:  #cde666;\n",
       "        }    #T_dd1afc66_4a47_11e9_b832_4600dd41a701row19_col5 {\n",
       "            background-color:  #ffff66;\n",
       "        }    #T_dd1afc66_4a47_11e9_b832_4600dd41a701row19_col6 {\n",
       "            background-color:  #008066;\n",
       "        }    #T_dd1afc66_4a47_11e9_b832_4600dd41a701row19_col7 {\n",
       "            background-color:  #008066;\n",
       "        }    #T_dd1afc66_4a47_11e9_b832_4600dd41a701row19_col8 {\n",
       "            background-color:  #008066;\n",
       "        }    #T_dd1afc66_4a47_11e9_b832_4600dd41a701row19_col9 {\n",
       "            background-color:  #008066;\n",
       "        }    #T_dd1afc66_4a47_11e9_b832_4600dd41a701row20_col2 {\n",
       "            background-color:  #d4ea66;\n",
       "        }    #T_dd1afc66_4a47_11e9_b832_4600dd41a701row20_col3 {\n",
       "            background-color:  #cee666;\n",
       "        }    #T_dd1afc66_4a47_11e9_b832_4600dd41a701row20_col4 {\n",
       "            background-color:  #badc66;\n",
       "        }    #T_dd1afc66_4a47_11e9_b832_4600dd41a701row20_col5 {\n",
       "            background-color:  #f1f866;\n",
       "        }    #T_dd1afc66_4a47_11e9_b832_4600dd41a701row20_col6 {\n",
       "            background-color:  #ffff66;\n",
       "        }    #T_dd1afc66_4a47_11e9_b832_4600dd41a701row20_col7 {\n",
       "            background-color:  #008066;\n",
       "        }    #T_dd1afc66_4a47_11e9_b832_4600dd41a701row20_col8 {\n",
       "            background-color:  #008066;\n",
       "        }    #T_dd1afc66_4a47_11e9_b832_4600dd41a701row20_col9 {\n",
       "            background-color:  #008066;\n",
       "        }    #T_dd1afc66_4a47_11e9_b832_4600dd41a701row21_col2 {\n",
       "            background-color:  #d5ea66;\n",
       "        }    #T_dd1afc66_4a47_11e9_b832_4600dd41a701row21_col3 {\n",
       "            background-color:  #d0e866;\n",
       "        }    #T_dd1afc66_4a47_11e9_b832_4600dd41a701row21_col4 {\n",
       "            background-color:  #c4e266;\n",
       "        }    #T_dd1afc66_4a47_11e9_b832_4600dd41a701row21_col5 {\n",
       "            background-color:  #eef666;\n",
       "        }    #T_dd1afc66_4a47_11e9_b832_4600dd41a701row21_col6 {\n",
       "            background-color:  #e1f066;\n",
       "        }    #T_dd1afc66_4a47_11e9_b832_4600dd41a701row21_col7 {\n",
       "            background-color:  #ffff66;\n",
       "        }    #T_dd1afc66_4a47_11e9_b832_4600dd41a701row21_col8 {\n",
       "            background-color:  #008066;\n",
       "        }    #T_dd1afc66_4a47_11e9_b832_4600dd41a701row21_col9 {\n",
       "            background-color:  #008066;\n",
       "        }    #T_dd1afc66_4a47_11e9_b832_4600dd41a701row22_col2 {\n",
       "            background-color:  #cee666;\n",
       "        }    #T_dd1afc66_4a47_11e9_b832_4600dd41a701row22_col3 {\n",
       "            background-color:  #d1e866;\n",
       "        }    #T_dd1afc66_4a47_11e9_b832_4600dd41a701row22_col4 {\n",
       "            background-color:  #cde666;\n",
       "        }    #T_dd1afc66_4a47_11e9_b832_4600dd41a701row22_col5 {\n",
       "            background-color:  #e7f366;\n",
       "        }    #T_dd1afc66_4a47_11e9_b832_4600dd41a701row22_col6 {\n",
       "            background-color:  #c9e466;\n",
       "        }    #T_dd1afc66_4a47_11e9_b832_4600dd41a701row22_col7 {\n",
       "            background-color:  #cee666;\n",
       "        }    #T_dd1afc66_4a47_11e9_b832_4600dd41a701row22_col8 {\n",
       "            background-color:  #ffff66;\n",
       "        }    #T_dd1afc66_4a47_11e9_b832_4600dd41a701row22_col9 {\n",
       "            background-color:  #008066;\n",
       "        }    #T_dd1afc66_4a47_11e9_b832_4600dd41a701row23_col2 {\n",
       "            background-color:  #269266;\n",
       "        }    #T_dd1afc66_4a47_11e9_b832_4600dd41a701row23_col3 {\n",
       "            background-color:  #269266;\n",
       "        }    #T_dd1afc66_4a47_11e9_b832_4600dd41a701row23_col4 {\n",
       "            background-color:  #47a366;\n",
       "        }    #T_dd1afc66_4a47_11e9_b832_4600dd41a701row23_col5 {\n",
       "            background-color:  #219066;\n",
       "        }    #T_dd1afc66_4a47_11e9_b832_4600dd41a701row23_col6 {\n",
       "            background-color:  #1e8e66;\n",
       "        }    #T_dd1afc66_4a47_11e9_b832_4600dd41a701row23_col7 {\n",
       "            background-color:  #219066;\n",
       "        }    #T_dd1afc66_4a47_11e9_b832_4600dd41a701row23_col8 {\n",
       "            background-color:  #279366;\n",
       "        }    #T_dd1afc66_4a47_11e9_b832_4600dd41a701row23_col9 {\n",
       "            background-color:  #008066;\n",
       "        }</style>  \n",
       "<table id=\"T_dd1afc66_4a47_11e9_b832_4600dd41a701\" > \n",
       "<thead>    <tr> \n",
       "        <th class=\"blank level0\" ></th> \n",
       "        <th class=\"col_heading level0 col0\" >sex</th> \n",
       "        <th class=\"col_heading level0 col1\" >variable</th> \n",
       "        <th class=\"col_heading level0 col2\" >length</th> \n",
       "        <th class=\"col_heading level0 col3\" >diameter</th> \n",
       "        <th class=\"col_heading level0 col4\" >height</th> \n",
       "        <th class=\"col_heading level0 col5\" >whole_weight</th> \n",
       "        <th class=\"col_heading level0 col6\" >shucked_weight</th> \n",
       "        <th class=\"col_heading level0 col7\" >viscera_weight</th> \n",
       "        <th class=\"col_heading level0 col8\" >shell_weight</th> \n",
       "        <th class=\"col_heading level0 col9\" >mature</th> \n",
       "    </tr></thead> \n",
       "<tbody>    <tr> \n",
       "        <th id=\"T_dd1afc66_4a47_11e9_b832_4600dd41a701level0_row0\" class=\"row_heading level0 row0\" >0</th> \n",
       "        <td id=\"T_dd1afc66_4a47_11e9_b832_4600dd41a701row0_col0\" class=\"data row0 col0\" >f</td> \n",
       "        <td id=\"T_dd1afc66_4a47_11e9_b832_4600dd41a701row0_col1\" class=\"data row0 col1\" >length</td> \n",
       "        <td id=\"T_dd1afc66_4a47_11e9_b832_4600dd41a701row0_col2\" class=\"data row0 col2\" >1</td> \n",
       "        <td id=\"T_dd1afc66_4a47_11e9_b832_4600dd41a701row0_col3\" class=\"data row0 col3\" >nan</td> \n",
       "        <td id=\"T_dd1afc66_4a47_11e9_b832_4600dd41a701row0_col4\" class=\"data row0 col4\" >nan</td> \n",
       "        <td id=\"T_dd1afc66_4a47_11e9_b832_4600dd41a701row0_col5\" class=\"data row0 col5\" >nan</td> \n",
       "        <td id=\"T_dd1afc66_4a47_11e9_b832_4600dd41a701row0_col6\" class=\"data row0 col6\" >nan</td> \n",
       "        <td id=\"T_dd1afc66_4a47_11e9_b832_4600dd41a701row0_col7\" class=\"data row0 col7\" >nan</td> \n",
       "        <td id=\"T_dd1afc66_4a47_11e9_b832_4600dd41a701row0_col8\" class=\"data row0 col8\" >nan</td> \n",
       "        <td id=\"T_dd1afc66_4a47_11e9_b832_4600dd41a701row0_col9\" class=\"data row0 col9\" >nan</td> \n",
       "    </tr>    <tr> \n",
       "        <th id=\"T_dd1afc66_4a47_11e9_b832_4600dd41a701level0_row1\" class=\"row_heading level0 row1\" >1</th> \n",
       "        <td id=\"T_dd1afc66_4a47_11e9_b832_4600dd41a701row1_col0\" class=\"data row1 col0\" >f</td> \n",
       "        <td id=\"T_dd1afc66_4a47_11e9_b832_4600dd41a701row1_col1\" class=\"data row1 col1\" >diameter</td> \n",
       "        <td id=\"T_dd1afc66_4a47_11e9_b832_4600dd41a701row1_col2\" class=\"data row1 col2\" >0.971081</td> \n",
       "        <td id=\"T_dd1afc66_4a47_11e9_b832_4600dd41a701row1_col3\" class=\"data row1 col3\" >1</td> \n",
       "        <td id=\"T_dd1afc66_4a47_11e9_b832_4600dd41a701row1_col4\" class=\"data row1 col4\" >nan</td> \n",
       "        <td id=\"T_dd1afc66_4a47_11e9_b832_4600dd41a701row1_col5\" class=\"data row1 col5\" >nan</td> \n",
       "        <td id=\"T_dd1afc66_4a47_11e9_b832_4600dd41a701row1_col6\" class=\"data row1 col6\" >nan</td> \n",
       "        <td id=\"T_dd1afc66_4a47_11e9_b832_4600dd41a701row1_col7\" class=\"data row1 col7\" >nan</td> \n",
       "        <td id=\"T_dd1afc66_4a47_11e9_b832_4600dd41a701row1_col8\" class=\"data row1 col8\" >nan</td> \n",
       "        <td id=\"T_dd1afc66_4a47_11e9_b832_4600dd41a701row1_col9\" class=\"data row1 col9\" >nan</td> \n",
       "    </tr>    <tr> \n",
       "        <th id=\"T_dd1afc66_4a47_11e9_b832_4600dd41a701level0_row2\" class=\"row_heading level0 row2\" >2</th> \n",
       "        <td id=\"T_dd1afc66_4a47_11e9_b832_4600dd41a701row2_col0\" class=\"data row2 col0\" >f</td> \n",
       "        <td id=\"T_dd1afc66_4a47_11e9_b832_4600dd41a701row2_col1\" class=\"data row2 col1\" >height</td> \n",
       "        <td id=\"T_dd1afc66_4a47_11e9_b832_4600dd41a701row2_col2\" class=\"data row2 col2\" >0.553494</td> \n",
       "        <td id=\"T_dd1afc66_4a47_11e9_b832_4600dd41a701row2_col3\" class=\"data row2 col3\" >0.562149</td> \n",
       "        <td id=\"T_dd1afc66_4a47_11e9_b832_4600dd41a701row2_col4\" class=\"data row2 col4\" >1</td> \n",
       "        <td id=\"T_dd1afc66_4a47_11e9_b832_4600dd41a701row2_col5\" class=\"data row2 col5\" >nan</td> \n",
       "        <td id=\"T_dd1afc66_4a47_11e9_b832_4600dd41a701row2_col6\" class=\"data row2 col6\" >nan</td> \n",
       "        <td id=\"T_dd1afc66_4a47_11e9_b832_4600dd41a701row2_col7\" class=\"data row2 col7\" >nan</td> \n",
       "        <td id=\"T_dd1afc66_4a47_11e9_b832_4600dd41a701row2_col8\" class=\"data row2 col8\" >nan</td> \n",
       "        <td id=\"T_dd1afc66_4a47_11e9_b832_4600dd41a701row2_col9\" class=\"data row2 col9\" >nan</td> \n",
       "    </tr>    <tr> \n",
       "        <th id=\"T_dd1afc66_4a47_11e9_b832_4600dd41a701level0_row3\" class=\"row_heading level0 row3\" >3</th> \n",
       "        <td id=\"T_dd1afc66_4a47_11e9_b832_4600dd41a701row3_col0\" class=\"data row3 col0\" >f</td> \n",
       "        <td id=\"T_dd1afc66_4a47_11e9_b832_4600dd41a701row3_col1\" class=\"data row3 col1\" >whole_weight</td> \n",
       "        <td id=\"T_dd1afc66_4a47_11e9_b832_4600dd41a701row3_col2\" class=\"data row3 col2\" >0.929116</td> \n",
       "        <td id=\"T_dd1afc66_4a47_11e9_b832_4600dd41a701row3_col3\" class=\"data row3 col3\" >0.925641</td> \n",
       "        <td id=\"T_dd1afc66_4a47_11e9_b832_4600dd41a701row3_col4\" class=\"data row3 col4\" >0.583747</td> \n",
       "        <td id=\"T_dd1afc66_4a47_11e9_b832_4600dd41a701row3_col5\" class=\"data row3 col5\" >1</td> \n",
       "        <td id=\"T_dd1afc66_4a47_11e9_b832_4600dd41a701row3_col6\" class=\"data row3 col6\" >nan</td> \n",
       "        <td id=\"T_dd1afc66_4a47_11e9_b832_4600dd41a701row3_col7\" class=\"data row3 col7\" >nan</td> \n",
       "        <td id=\"T_dd1afc66_4a47_11e9_b832_4600dd41a701row3_col8\" class=\"data row3 col8\" >nan</td> \n",
       "        <td id=\"T_dd1afc66_4a47_11e9_b832_4600dd41a701row3_col9\" class=\"data row3 col9\" >nan</td> \n",
       "    </tr>    <tr> \n",
       "        <th id=\"T_dd1afc66_4a47_11e9_b832_4600dd41a701level0_row4\" class=\"row_heading level0 row4\" >4</th> \n",
       "        <td id=\"T_dd1afc66_4a47_11e9_b832_4600dd41a701row4_col0\" class=\"data row4 col0\" >f</td> \n",
       "        <td id=\"T_dd1afc66_4a47_11e9_b832_4600dd41a701row4_col1\" class=\"data row4 col1\" >shucked_weight</td> \n",
       "        <td id=\"T_dd1afc66_4a47_11e9_b832_4600dd41a701row4_col2\" class=\"data row4 col2\" >0.892259</td> \n",
       "        <td id=\"T_dd1afc66_4a47_11e9_b832_4600dd41a701row4_col3\" class=\"data row4 col3\" >0.878953</td> \n",
       "        <td id=\"T_dd1afc66_4a47_11e9_b832_4600dd41a701row4_col4\" class=\"data row4 col4\" >0.531077</td> \n",
       "        <td id=\"T_dd1afc66_4a47_11e9_b832_4600dd41a701row4_col5\" class=\"data row4 col5\" >0.949567</td> \n",
       "        <td id=\"T_dd1afc66_4a47_11e9_b832_4600dd41a701row4_col6\" class=\"data row4 col6\" >1</td> \n",
       "        <td id=\"T_dd1afc66_4a47_11e9_b832_4600dd41a701row4_col7\" class=\"data row4 col7\" >nan</td> \n",
       "        <td id=\"T_dd1afc66_4a47_11e9_b832_4600dd41a701row4_col8\" class=\"data row4 col8\" >nan</td> \n",
       "        <td id=\"T_dd1afc66_4a47_11e9_b832_4600dd41a701row4_col9\" class=\"data row4 col9\" >nan</td> \n",
       "    </tr>    <tr> \n",
       "        <th id=\"T_dd1afc66_4a47_11e9_b832_4600dd41a701level0_row5\" class=\"row_heading level0 row5\" >5</th> \n",
       "        <td id=\"T_dd1afc66_4a47_11e9_b832_4600dd41a701row5_col0\" class=\"data row5 col0\" >f</td> \n",
       "        <td id=\"T_dd1afc66_4a47_11e9_b832_4600dd41a701row5_col1\" class=\"data row5 col1\" >viscera_weight</td> \n",
       "        <td id=\"T_dd1afc66_4a47_11e9_b832_4600dd41a701row5_col2\" class=\"data row5 col2\" >0.890732</td> \n",
       "        <td id=\"T_dd1afc66_4a47_11e9_b832_4600dd41a701row5_col3\" class=\"data row5 col3\" >0.878164</td> \n",
       "        <td id=\"T_dd1afc66_4a47_11e9_b832_4600dd41a701row5_col4\" class=\"data row5 col4\" >0.55072</td> \n",
       "        <td id=\"T_dd1afc66_4a47_11e9_b832_4600dd41a701row5_col5\" class=\"data row5 col5\" >0.939944</td> \n",
       "        <td id=\"T_dd1afc66_4a47_11e9_b832_4600dd41a701row5_col6\" class=\"data row5 col6\" >0.890135</td> \n",
       "        <td id=\"T_dd1afc66_4a47_11e9_b832_4600dd41a701row5_col7\" class=\"data row5 col7\" >1</td> \n",
       "        <td id=\"T_dd1afc66_4a47_11e9_b832_4600dd41a701row5_col8\" class=\"data row5 col8\" >nan</td> \n",
       "        <td id=\"T_dd1afc66_4a47_11e9_b832_4600dd41a701row5_col9\" class=\"data row5 col9\" >nan</td> \n",
       "    </tr>    <tr> \n",
       "        <th id=\"T_dd1afc66_4a47_11e9_b832_4600dd41a701level0_row6\" class=\"row_heading level0 row6\" >6</th> \n",
       "        <td id=\"T_dd1afc66_4a47_11e9_b832_4600dd41a701row6_col0\" class=\"data row6 col0\" >f</td> \n",
       "        <td id=\"T_dd1afc66_4a47_11e9_b832_4600dd41a701row6_col1\" class=\"data row6 col1\" >shell_weight</td> \n",
       "        <td id=\"T_dd1afc66_4a47_11e9_b832_4600dd41a701row6_col2\" class=\"data row6 col2\" >0.864876</td> \n",
       "        <td id=\"T_dd1afc66_4a47_11e9_b832_4600dd41a701row6_col3\" class=\"data row6 col3\" >0.876235</td> \n",
       "        <td id=\"T_dd1afc66_4a47_11e9_b832_4600dd41a701row6_col4\" class=\"data row6 col4\" >0.580622</td> \n",
       "        <td id=\"T_dd1afc66_4a47_11e9_b832_4600dd41a701row6_col5\" class=\"data row6 col5\" >0.923708</td> \n",
       "        <td id=\"T_dd1afc66_4a47_11e9_b832_4600dd41a701row6_col6\" class=\"data row6 col6\" >0.801906</td> \n",
       "        <td id=\"T_dd1afc66_4a47_11e9_b832_4600dd41a701row6_col7\" class=\"data row6 col7\" >0.83969</td> \n",
       "        <td id=\"T_dd1afc66_4a47_11e9_b832_4600dd41a701row6_col8\" class=\"data row6 col8\" >1</td> \n",
       "        <td id=\"T_dd1afc66_4a47_11e9_b832_4600dd41a701row6_col9\" class=\"data row6 col9\" >nan</td> \n",
       "    </tr>    <tr> \n",
       "        <th id=\"T_dd1afc66_4a47_11e9_b832_4600dd41a701level0_row7\" class=\"row_heading level0 row7\" >7</th> \n",
       "        <td id=\"T_dd1afc66_4a47_11e9_b832_4600dd41a701row7_col0\" class=\"data row7 col0\" >f</td> \n",
       "        <td id=\"T_dd1afc66_4a47_11e9_b832_4600dd41a701row7_col1\" class=\"data row7 col1\" >mature</td> \n",
       "        <td id=\"T_dd1afc66_4a47_11e9_b832_4600dd41a701row7_col2\" class=\"data row7 col2\" >0.325125</td> \n",
       "        <td id=\"T_dd1afc66_4a47_11e9_b832_4600dd41a701row7_col3\" class=\"data row7 col3\" >0.339494</td> \n",
       "        <td id=\"T_dd1afc66_4a47_11e9_b832_4600dd41a701row7_col4\" class=\"data row7 col4\" >0.202458</td> \n",
       "        <td id=\"T_dd1afc66_4a47_11e9_b832_4600dd41a701row7_col5\" class=\"data row7 col5\" >0.304832</td> \n",
       "        <td id=\"T_dd1afc66_4a47_11e9_b832_4600dd41a701row7_col6\" class=\"data row7 col6\" >0.237307</td> \n",
       "        <td id=\"T_dd1afc66_4a47_11e9_b832_4600dd41a701row7_col7\" class=\"data row7 col7\" >0.296193</td> \n",
       "        <td id=\"T_dd1afc66_4a47_11e9_b832_4600dd41a701row7_col8\" class=\"data row7 col8\" >0.338859</td> \n",
       "        <td id=\"T_dd1afc66_4a47_11e9_b832_4600dd41a701row7_col9\" class=\"data row7 col9\" >1</td> \n",
       "    </tr>    <tr> \n",
       "        <th id=\"T_dd1afc66_4a47_11e9_b832_4600dd41a701level0_row8\" class=\"row_heading level0 row8\" >8</th> \n",
       "        <td id=\"T_dd1afc66_4a47_11e9_b832_4600dd41a701row8_col0\" class=\"data row8 col0\" >i</td> \n",
       "        <td id=\"T_dd1afc66_4a47_11e9_b832_4600dd41a701row8_col1\" class=\"data row8 col1\" >length</td> \n",
       "        <td id=\"T_dd1afc66_4a47_11e9_b832_4600dd41a701row8_col2\" class=\"data row8 col2\" >1</td> \n",
       "        <td id=\"T_dd1afc66_4a47_11e9_b832_4600dd41a701row8_col3\" class=\"data row8 col3\" >nan</td> \n",
       "        <td id=\"T_dd1afc66_4a47_11e9_b832_4600dd41a701row8_col4\" class=\"data row8 col4\" >nan</td> \n",
       "        <td id=\"T_dd1afc66_4a47_11e9_b832_4600dd41a701row8_col5\" class=\"data row8 col5\" >nan</td> \n",
       "        <td id=\"T_dd1afc66_4a47_11e9_b832_4600dd41a701row8_col6\" class=\"data row8 col6\" >nan</td> \n",
       "        <td id=\"T_dd1afc66_4a47_11e9_b832_4600dd41a701row8_col7\" class=\"data row8 col7\" >nan</td> \n",
       "        <td id=\"T_dd1afc66_4a47_11e9_b832_4600dd41a701row8_col8\" class=\"data row8 col8\" >nan</td> \n",
       "        <td id=\"T_dd1afc66_4a47_11e9_b832_4600dd41a701row8_col9\" class=\"data row8 col9\" >nan</td> \n",
       "    </tr>    <tr> \n",
       "        <th id=\"T_dd1afc66_4a47_11e9_b832_4600dd41a701level0_row9\" class=\"row_heading level0 row9\" >9</th> \n",
       "        <td id=\"T_dd1afc66_4a47_11e9_b832_4600dd41a701row9_col0\" class=\"data row9 col0\" >i</td> \n",
       "        <td id=\"T_dd1afc66_4a47_11e9_b832_4600dd41a701row9_col1\" class=\"data row9 col1\" >diameter</td> \n",
       "        <td id=\"T_dd1afc66_4a47_11e9_b832_4600dd41a701row9_col2\" class=\"data row9 col2\" >0.986113</td> \n",
       "        <td id=\"T_dd1afc66_4a47_11e9_b832_4600dd41a701row9_col3\" class=\"data row9 col3\" >1</td> \n",
       "        <td id=\"T_dd1afc66_4a47_11e9_b832_4600dd41a701row9_col4\" class=\"data row9 col4\" >nan</td> \n",
       "        <td id=\"T_dd1afc66_4a47_11e9_b832_4600dd41a701row9_col5\" class=\"data row9 col5\" >nan</td> \n",
       "        <td id=\"T_dd1afc66_4a47_11e9_b832_4600dd41a701row9_col6\" class=\"data row9 col6\" >nan</td> \n",
       "        <td id=\"T_dd1afc66_4a47_11e9_b832_4600dd41a701row9_col7\" class=\"data row9 col7\" >nan</td> \n",
       "        <td id=\"T_dd1afc66_4a47_11e9_b832_4600dd41a701row9_col8\" class=\"data row9 col8\" >nan</td> \n",
       "        <td id=\"T_dd1afc66_4a47_11e9_b832_4600dd41a701row9_col9\" class=\"data row9 col9\" >nan</td> \n",
       "    </tr>    <tr> \n",
       "        <th id=\"T_dd1afc66_4a47_11e9_b832_4600dd41a701level0_row10\" class=\"row_heading level0 row10\" >10</th> \n",
       "        <td id=\"T_dd1afc66_4a47_11e9_b832_4600dd41a701row10_col0\" class=\"data row10 col0\" >i</td> \n",
       "        <td id=\"T_dd1afc66_4a47_11e9_b832_4600dd41a701row10_col1\" class=\"data row10 col1\" >height</td> \n",
       "        <td id=\"T_dd1afc66_4a47_11e9_b832_4600dd41a701row10_col2\" class=\"data row10 col2\" >0.908525</td> \n",
       "        <td id=\"T_dd1afc66_4a47_11e9_b832_4600dd41a701row10_col3\" class=\"data row10 col3\" >0.913255</td> \n",
       "        <td id=\"T_dd1afc66_4a47_11e9_b832_4600dd41a701row10_col4\" class=\"data row10 col4\" >1</td> \n",
       "        <td id=\"T_dd1afc66_4a47_11e9_b832_4600dd41a701row10_col5\" class=\"data row10 col5\" >nan</td> \n",
       "        <td id=\"T_dd1afc66_4a47_11e9_b832_4600dd41a701row10_col6\" class=\"data row10 col6\" >nan</td> \n",
       "        <td id=\"T_dd1afc66_4a47_11e9_b832_4600dd41a701row10_col7\" class=\"data row10 col7\" >nan</td> \n",
       "        <td id=\"T_dd1afc66_4a47_11e9_b832_4600dd41a701row10_col8\" class=\"data row10 col8\" >nan</td> \n",
       "        <td id=\"T_dd1afc66_4a47_11e9_b832_4600dd41a701row10_col9\" class=\"data row10 col9\" >nan</td> \n",
       "    </tr>    <tr> \n",
       "        <th id=\"T_dd1afc66_4a47_11e9_b832_4600dd41a701level0_row11\" class=\"row_heading level0 row11\" >11</th> \n",
       "        <td id=\"T_dd1afc66_4a47_11e9_b832_4600dd41a701row11_col0\" class=\"data row11 col0\" >i</td> \n",
       "        <td id=\"T_dd1afc66_4a47_11e9_b832_4600dd41a701row11_col1\" class=\"data row11 col1\" >whole_weight</td> \n",
       "        <td id=\"T_dd1afc66_4a47_11e9_b832_4600dd41a701row11_col2\" class=\"data row11 col2\" >0.920999</td> \n",
       "        <td id=\"T_dd1afc66_4a47_11e9_b832_4600dd41a701row11_col3\" class=\"data row11 col3\" >0.923699</td> \n",
       "        <td id=\"T_dd1afc66_4a47_11e9_b832_4600dd41a701row11_col4\" class=\"data row11 col4\" >0.891677</td> \n",
       "        <td id=\"T_dd1afc66_4a47_11e9_b832_4600dd41a701row11_col5\" class=\"data row11 col5\" >1</td> \n",
       "        <td id=\"T_dd1afc66_4a47_11e9_b832_4600dd41a701row11_col6\" class=\"data row11 col6\" >nan</td> \n",
       "        <td id=\"T_dd1afc66_4a47_11e9_b832_4600dd41a701row11_col7\" class=\"data row11 col7\" >nan</td> \n",
       "        <td id=\"T_dd1afc66_4a47_11e9_b832_4600dd41a701row11_col8\" class=\"data row11 col8\" >nan</td> \n",
       "        <td id=\"T_dd1afc66_4a47_11e9_b832_4600dd41a701row11_col9\" class=\"data row11 col9\" >nan</td> \n",
       "    </tr>    <tr> \n",
       "        <th id=\"T_dd1afc66_4a47_11e9_b832_4600dd41a701level0_row12\" class=\"row_heading level0 row12\" >12</th> \n",
       "        <td id=\"T_dd1afc66_4a47_11e9_b832_4600dd41a701row12_col0\" class=\"data row12 col0\" >i</td> \n",
       "        <td id=\"T_dd1afc66_4a47_11e9_b832_4600dd41a701row12_col1\" class=\"data row12 col1\" >shucked_weight</td> \n",
       "        <td id=\"T_dd1afc66_4a47_11e9_b832_4600dd41a701row12_col2\" class=\"data row12 col2\" >0.897824</td> \n",
       "        <td id=\"T_dd1afc66_4a47_11e9_b832_4600dd41a701row12_col3\" class=\"data row12 col3\" >0.899157</td> \n",
       "        <td id=\"T_dd1afc66_4a47_11e9_b832_4600dd41a701row12_col4\" class=\"data row12 col4\" >0.850883</td> \n",
       "        <td id=\"T_dd1afc66_4a47_11e9_b832_4600dd41a701row12_col5\" class=\"data row12 col5\" >0.969598</td> \n",
       "        <td id=\"T_dd1afc66_4a47_11e9_b832_4600dd41a701row12_col6\" class=\"data row12 col6\" >1</td> \n",
       "        <td id=\"T_dd1afc66_4a47_11e9_b832_4600dd41a701row12_col7\" class=\"data row12 col7\" >nan</td> \n",
       "        <td id=\"T_dd1afc66_4a47_11e9_b832_4600dd41a701row12_col8\" class=\"data row12 col8\" >nan</td> \n",
       "        <td id=\"T_dd1afc66_4a47_11e9_b832_4600dd41a701row12_col9\" class=\"data row12 col9\" >nan</td> \n",
       "    </tr>    <tr> \n",
       "        <th id=\"T_dd1afc66_4a47_11e9_b832_4600dd41a701level0_row13\" class=\"row_heading level0 row13\" >13</th> \n",
       "        <td id=\"T_dd1afc66_4a47_11e9_b832_4600dd41a701row13_col0\" class=\"data row13 col0\" >i</td> \n",
       "        <td id=\"T_dd1afc66_4a47_11e9_b832_4600dd41a701row13_col1\" class=\"data row13 col1\" >viscera_weight</td> \n",
       "        <td id=\"T_dd1afc66_4a47_11e9_b832_4600dd41a701row13_col2\" class=\"data row13 col2\" >0.898174</td> \n",
       "        <td id=\"T_dd1afc66_4a47_11e9_b832_4600dd41a701row13_col3\" class=\"data row13 col3\" >0.899749</td> \n",
       "        <td id=\"T_dd1afc66_4a47_11e9_b832_4600dd41a701row13_col4\" class=\"data row13 col4\" >0.873557</td> \n",
       "        <td id=\"T_dd1afc66_4a47_11e9_b832_4600dd41a701row13_col5\" class=\"data row13 col5\" >0.973067</td> \n",
       "        <td id=\"T_dd1afc66_4a47_11e9_b832_4600dd41a701row13_col6\" class=\"data row13 col6\" >0.930358</td> \n",
       "        <td id=\"T_dd1afc66_4a47_11e9_b832_4600dd41a701row13_col7\" class=\"data row13 col7\" >1</td> \n",
       "        <td id=\"T_dd1afc66_4a47_11e9_b832_4600dd41a701row13_col8\" class=\"data row13 col8\" >nan</td> \n",
       "        <td id=\"T_dd1afc66_4a47_11e9_b832_4600dd41a701row13_col9\" class=\"data row13 col9\" >nan</td> \n",
       "    </tr>    <tr> \n",
       "        <th id=\"T_dd1afc66_4a47_11e9_b832_4600dd41a701level0_row14\" class=\"row_heading level0 row14\" >14</th> \n",
       "        <td id=\"T_dd1afc66_4a47_11e9_b832_4600dd41a701row14_col0\" class=\"data row14 col0\" >i</td> \n",
       "        <td id=\"T_dd1afc66_4a47_11e9_b832_4600dd41a701row14_col1\" class=\"data row14 col1\" >shell_weight</td> \n",
       "        <td id=\"T_dd1afc66_4a47_11e9_b832_4600dd41a701row14_col2\" class=\"data row14 col2\" >0.909093</td> \n",
       "        <td id=\"T_dd1afc66_4a47_11e9_b832_4600dd41a701row14_col3\" class=\"data row14 col3\" >0.913838</td> \n",
       "        <td id=\"T_dd1afc66_4a47_11e9_b832_4600dd41a701row14_col4\" class=\"data row14 col4\" >0.881696</td> \n",
       "        <td id=\"T_dd1afc66_4a47_11e9_b832_4600dd41a701row14_col5\" class=\"data row14 col5\" >0.966964</td> \n",
       "        <td id=\"T_dd1afc66_4a47_11e9_b832_4600dd41a701row14_col6\" class=\"data row14 col6\" >0.913023</td> \n",
       "        <td id=\"T_dd1afc66_4a47_11e9_b832_4600dd41a701row14_col7\" class=\"data row14 col7\" >0.93721</td> \n",
       "        <td id=\"T_dd1afc66_4a47_11e9_b832_4600dd41a701row14_col8\" class=\"data row14 col8\" >1</td> \n",
       "        <td id=\"T_dd1afc66_4a47_11e9_b832_4600dd41a701row14_col9\" class=\"data row14 col9\" >nan</td> \n",
       "    </tr>    <tr> \n",
       "        <th id=\"T_dd1afc66_4a47_11e9_b832_4600dd41a701level0_row15\" class=\"row_heading level0 row15\" >15</th> \n",
       "        <td id=\"T_dd1afc66_4a47_11e9_b832_4600dd41a701row15_col0\" class=\"data row15 col0\" >i</td> \n",
       "        <td id=\"T_dd1afc66_4a47_11e9_b832_4600dd41a701row15_col1\" class=\"data row15 col1\" >mature</td> \n",
       "        <td id=\"T_dd1afc66_4a47_11e9_b832_4600dd41a701row15_col2\" class=\"data row15 col2\" >0.565333</td> \n",
       "        <td id=\"T_dd1afc66_4a47_11e9_b832_4600dd41a701row15_col3\" class=\"data row15 col3\" >0.575139</td> \n",
       "        <td id=\"T_dd1afc66_4a47_11e9_b832_4600dd41a701row15_col4\" class=\"data row15 col4\" >0.583434</td> \n",
       "        <td id=\"T_dd1afc66_4a47_11e9_b832_4600dd41a701row15_col5\" class=\"data row15 col5\" >0.604811</td> \n",
       "        <td id=\"T_dd1afc66_4a47_11e9_b832_4600dd41a701row15_col6\" class=\"data row15 col6\" >0.549693</td> \n",
       "        <td id=\"T_dd1afc66_4a47_11e9_b832_4600dd41a701row15_col7\" class=\"data row15 col7\" >0.589609</td> \n",
       "        <td id=\"T_dd1afc66_4a47_11e9_b832_4600dd41a701row15_col8\" class=\"data row15 col8\" >0.63214</td> \n",
       "        <td id=\"T_dd1afc66_4a47_11e9_b832_4600dd41a701row15_col9\" class=\"data row15 col9\" >1</td> \n",
       "    </tr>    <tr> \n",
       "        <th id=\"T_dd1afc66_4a47_11e9_b832_4600dd41a701level0_row16\" class=\"row_heading level0 row16\" >16</th> \n",
       "        <td id=\"T_dd1afc66_4a47_11e9_b832_4600dd41a701row16_col0\" class=\"data row16 col0\" >m</td> \n",
       "        <td id=\"T_dd1afc66_4a47_11e9_b832_4600dd41a701row16_col1\" class=\"data row16 col1\" >length</td> \n",
       "        <td id=\"T_dd1afc66_4a47_11e9_b832_4600dd41a701row16_col2\" class=\"data row16 col2\" >1</td> \n",
       "        <td id=\"T_dd1afc66_4a47_11e9_b832_4600dd41a701row16_col3\" class=\"data row16 col3\" >nan</td> \n",
       "        <td id=\"T_dd1afc66_4a47_11e9_b832_4600dd41a701row16_col4\" class=\"data row16 col4\" >nan</td> \n",
       "        <td id=\"T_dd1afc66_4a47_11e9_b832_4600dd41a701row16_col5\" class=\"data row16 col5\" >nan</td> \n",
       "        <td id=\"T_dd1afc66_4a47_11e9_b832_4600dd41a701row16_col6\" class=\"data row16 col6\" >nan</td> \n",
       "        <td id=\"T_dd1afc66_4a47_11e9_b832_4600dd41a701row16_col7\" class=\"data row16 col7\" >nan</td> \n",
       "        <td id=\"T_dd1afc66_4a47_11e9_b832_4600dd41a701row16_col8\" class=\"data row16 col8\" >nan</td> \n",
       "        <td id=\"T_dd1afc66_4a47_11e9_b832_4600dd41a701row16_col9\" class=\"data row16 col9\" >nan</td> \n",
       "    </tr>    <tr> \n",
       "        <th id=\"T_dd1afc66_4a47_11e9_b832_4600dd41a701level0_row17\" class=\"row_heading level0 row17\" >17</th> \n",
       "        <td id=\"T_dd1afc66_4a47_11e9_b832_4600dd41a701row17_col0\" class=\"data row17 col0\" >m</td> \n",
       "        <td id=\"T_dd1afc66_4a47_11e9_b832_4600dd41a701row17_col1\" class=\"data row17 col1\" >diameter</td> \n",
       "        <td id=\"T_dd1afc66_4a47_11e9_b832_4600dd41a701row17_col2\" class=\"data row17 col2\" >0.981907</td> \n",
       "        <td id=\"T_dd1afc66_4a47_11e9_b832_4600dd41a701row17_col3\" class=\"data row17 col3\" >1</td> \n",
       "        <td id=\"T_dd1afc66_4a47_11e9_b832_4600dd41a701row17_col4\" class=\"data row17 col4\" >nan</td> \n",
       "        <td id=\"T_dd1afc66_4a47_11e9_b832_4600dd41a701row17_col5\" class=\"data row17 col5\" >nan</td> \n",
       "        <td id=\"T_dd1afc66_4a47_11e9_b832_4600dd41a701row17_col6\" class=\"data row17 col6\" >nan</td> \n",
       "        <td id=\"T_dd1afc66_4a47_11e9_b832_4600dd41a701row17_col7\" class=\"data row17 col7\" >nan</td> \n",
       "        <td id=\"T_dd1afc66_4a47_11e9_b832_4600dd41a701row17_col8\" class=\"data row17 col8\" >nan</td> \n",
       "        <td id=\"T_dd1afc66_4a47_11e9_b832_4600dd41a701row17_col9\" class=\"data row17 col9\" >nan</td> \n",
       "    </tr>    <tr> \n",
       "        <th id=\"T_dd1afc66_4a47_11e9_b832_4600dd41a701level0_row18\" class=\"row_heading level0 row18\" >18</th> \n",
       "        <td id=\"T_dd1afc66_4a47_11e9_b832_4600dd41a701row18_col0\" class=\"data row18 col0\" >m</td> \n",
       "        <td id=\"T_dd1afc66_4a47_11e9_b832_4600dd41a701row18_col1\" class=\"data row18 col1\" >height</td> \n",
       "        <td id=\"T_dd1afc66_4a47_11e9_b832_4600dd41a701row18_col2\" class=\"data row18 col2\" >0.83262</td> \n",
       "        <td id=\"T_dd1afc66_4a47_11e9_b832_4600dd41a701row18_col3\" class=\"data row18 col3\" >0.840801</td> \n",
       "        <td id=\"T_dd1afc66_4a47_11e9_b832_4600dd41a701row18_col4\" class=\"data row18 col4\" >1</td> \n",
       "        <td id=\"T_dd1afc66_4a47_11e9_b832_4600dd41a701row18_col5\" class=\"data row18 col5\" >nan</td> \n",
       "        <td id=\"T_dd1afc66_4a47_11e9_b832_4600dd41a701row18_col6\" class=\"data row18 col6\" >nan</td> \n",
       "        <td id=\"T_dd1afc66_4a47_11e9_b832_4600dd41a701row18_col7\" class=\"data row18 col7\" >nan</td> \n",
       "        <td id=\"T_dd1afc66_4a47_11e9_b832_4600dd41a701row18_col8\" class=\"data row18 col8\" >nan</td> \n",
       "        <td id=\"T_dd1afc66_4a47_11e9_b832_4600dd41a701row18_col9\" class=\"data row18 col9\" >nan</td> \n",
       "    </tr>    <tr> \n",
       "        <th id=\"T_dd1afc66_4a47_11e9_b832_4600dd41a701level0_row19\" class=\"row_heading level0 row19\" >19</th> \n",
       "        <td id=\"T_dd1afc66_4a47_11e9_b832_4600dd41a701row19_col0\" class=\"data row19 col0\" >m</td> \n",
       "        <td id=\"T_dd1afc66_4a47_11e9_b832_4600dd41a701row19_col1\" class=\"data row19 col1\" >whole_weight</td> \n",
       "        <td id=\"T_dd1afc66_4a47_11e9_b832_4600dd41a701row19_col2\" class=\"data row19 col2\" >0.918292</td> \n",
       "        <td id=\"T_dd1afc66_4a47_11e9_b832_4600dd41a701row19_col3\" class=\"data row19 col3\" >0.913128</td> \n",
       "        <td id=\"T_dd1afc66_4a47_11e9_b832_4600dd41a701row19_col4\" class=\"data row19 col4\" >0.842791</td> \n",
       "        <td id=\"T_dd1afc66_4a47_11e9_b832_4600dd41a701row19_col5\" class=\"data row19 col5\" >1</td> \n",
       "        <td id=\"T_dd1afc66_4a47_11e9_b832_4600dd41a701row19_col6\" class=\"data row19 col6\" >nan</td> \n",
       "        <td id=\"T_dd1afc66_4a47_11e9_b832_4600dd41a701row19_col7\" class=\"data row19 col7\" >nan</td> \n",
       "        <td id=\"T_dd1afc66_4a47_11e9_b832_4600dd41a701row19_col8\" class=\"data row19 col8\" >nan</td> \n",
       "        <td id=\"T_dd1afc66_4a47_11e9_b832_4600dd41a701row19_col9\" class=\"data row19 col9\" >nan</td> \n",
       "    </tr>    <tr> \n",
       "        <th id=\"T_dd1afc66_4a47_11e9_b832_4600dd41a701level0_row20\" class=\"row_heading level0 row20\" >20</th> \n",
       "        <td id=\"T_dd1afc66_4a47_11e9_b832_4600dd41a701row20_col0\" class=\"data row20 col0\" >m</td> \n",
       "        <td id=\"T_dd1afc66_4a47_11e9_b832_4600dd41a701row20_col1\" class=\"data row20 col1\" >shucked_weight</td> \n",
       "        <td id=\"T_dd1afc66_4a47_11e9_b832_4600dd41a701row20_col2\" class=\"data row20 col2\" >0.885824</td> \n",
       "        <td id=\"T_dd1afc66_4a47_11e9_b832_4600dd41a701row20_col3\" class=\"data row20 col3\" >0.87351</td> \n",
       "        <td id=\"T_dd1afc66_4a47_11e9_b832_4600dd41a701row20_col4\" class=\"data row20 col4\" >0.784324</td> \n",
       "        <td id=\"T_dd1afc66_4a47_11e9_b832_4600dd41a701row20_col5\" class=\"data row20 col5\" >0.961383</td> \n",
       "        <td id=\"T_dd1afc66_4a47_11e9_b832_4600dd41a701row20_col6\" class=\"data row20 col6\" >1</td> \n",
       "        <td id=\"T_dd1afc66_4a47_11e9_b832_4600dd41a701row20_col7\" class=\"data row20 col7\" >nan</td> \n",
       "        <td id=\"T_dd1afc66_4a47_11e9_b832_4600dd41a701row20_col8\" class=\"data row20 col8\" >nan</td> \n",
       "        <td id=\"T_dd1afc66_4a47_11e9_b832_4600dd41a701row20_col9\" class=\"data row20 col9\" >nan</td> \n",
       "    </tr>    <tr> \n",
       "        <th id=\"T_dd1afc66_4a47_11e9_b832_4600dd41a701level0_row21\" class=\"row_heading level0 row21\" >21</th> \n",
       "        <td id=\"T_dd1afc66_4a47_11e9_b832_4600dd41a701row21_col0\" class=\"data row21 col0\" >m</td> \n",
       "        <td id=\"T_dd1afc66_4a47_11e9_b832_4600dd41a701row21_col1\" class=\"data row21 col1\" >viscera_weight</td> \n",
       "        <td id=\"T_dd1afc66_4a47_11e9_b832_4600dd41a701row21_col2\" class=\"data row21 col2\" >0.888029</td> \n",
       "        <td id=\"T_dd1afc66_4a47_11e9_b832_4600dd41a701row21_col3\" class=\"data row21 col3\" >0.877113</td> \n",
       "        <td id=\"T_dd1afc66_4a47_11e9_b832_4600dd41a701row21_col4\" class=\"data row21 col4\" >0.814553</td> \n",
       "        <td id=\"T_dd1afc66_4a47_11e9_b832_4600dd41a701row21_col5\" class=\"data row21 col5\" >0.952499</td> \n",
       "        <td id=\"T_dd1afc66_4a47_11e9_b832_4600dd41a701row21_col6\" class=\"data row21 col6\" >0.909738</td> \n",
       "        <td id=\"T_dd1afc66_4a47_11e9_b832_4600dd41a701row21_col7\" class=\"data row21 col7\" >1</td> \n",
       "        <td id=\"T_dd1afc66_4a47_11e9_b832_4600dd41a701row21_col8\" class=\"data row21 col8\" >nan</td> \n",
       "        <td id=\"T_dd1afc66_4a47_11e9_b832_4600dd41a701row21_col9\" class=\"data row21 col9\" >nan</td> \n",
       "    </tr>    <tr> \n",
       "        <th id=\"T_dd1afc66_4a47_11e9_b832_4600dd41a701level0_row22\" class=\"row_heading level0 row22\" >22</th> \n",
       "        <td id=\"T_dd1afc66_4a47_11e9_b832_4600dd41a701row22_col0\" class=\"data row22 col0\" >m</td> \n",
       "        <td id=\"T_dd1afc66_4a47_11e9_b832_4600dd41a701row22_col1\" class=\"data row22 col1\" >shell_weight</td> \n",
       "        <td id=\"T_dd1afc66_4a47_11e9_b832_4600dd41a701row22_col2\" class=\"data row22 col2\" >0.870712</td> \n",
       "        <td id=\"T_dd1afc66_4a47_11e9_b832_4600dd41a701row22_col3\" class=\"data row22 col3\" >0.879612</td> \n",
       "        <td id=\"T_dd1afc66_4a47_11e9_b832_4600dd41a701row22_col4\" class=\"data row22 col4\" >0.842906</td> \n",
       "        <td id=\"T_dd1afc66_4a47_11e9_b832_4600dd41a701row22_col5\" class=\"data row22 col5\" >0.93467</td> \n",
       "        <td id=\"T_dd1afc66_4a47_11e9_b832_4600dd41a701row22_col6\" class=\"data row22 col6\" >0.838903</td> \n",
       "        <td id=\"T_dd1afc66_4a47_11e9_b832_4600dd41a701row22_col7\" class=\"data row22 col7\" >0.864264</td> \n",
       "        <td id=\"T_dd1afc66_4a47_11e9_b832_4600dd41a701row22_col8\" class=\"data row22 col8\" >1</td> \n",
       "        <td id=\"T_dd1afc66_4a47_11e9_b832_4600dd41a701row22_col9\" class=\"data row22 col9\" >nan</td> \n",
       "    </tr>    <tr> \n",
       "        <th id=\"T_dd1afc66_4a47_11e9_b832_4600dd41a701level0_row23\" class=\"row_heading level0 row23\" >23</th> \n",
       "        <td id=\"T_dd1afc66_4a47_11e9_b832_4600dd41a701row23_col0\" class=\"data row23 col0\" >m</td> \n",
       "        <td id=\"T_dd1afc66_4a47_11e9_b832_4600dd41a701row23_col1\" class=\"data row23 col1\" >mature</td> \n",
       "        <td id=\"T_dd1afc66_4a47_11e9_b832_4600dd41a701row23_col2\" class=\"data row23 col2\" >0.426548</td> \n",
       "        <td id=\"T_dd1afc66_4a47_11e9_b832_4600dd41a701row23_col3\" class=\"data row23 col3\" >0.438005</td> \n",
       "        <td id=\"T_dd1afc66_4a47_11e9_b832_4600dd41a701row23_col4\" class=\"data row23 col4\" >0.42377</td> \n",
       "        <td id=\"T_dd1afc66_4a47_11e9_b832_4600dd41a701row23_col5\" class=\"data row23 col5\" >0.395865</td> \n",
       "        <td id=\"T_dd1afc66_4a47_11e9_b832_4600dd41a701row23_col6\" class=\"data row23 col6\" >0.3277</td> \n",
       "        <td id=\"T_dd1afc66_4a47_11e9_b832_4600dd41a701row23_col7\" class=\"data row23 col7\" >0.388513</td> \n",
       "        <td id=\"T_dd1afc66_4a47_11e9_b832_4600dd41a701row23_col8\" class=\"data row23 col8\" >0.441885</td> \n",
       "        <td id=\"T_dd1afc66_4a47_11e9_b832_4600dd41a701row23_col9\" class=\"data row23 col9\" >1</td> \n",
       "    </tr></tbody> \n",
       "</table> "
      ],
      "text/plain": [
       "<pandas.io.formats.style.Styler at 0x1a1e51e240>"
      ]
     },
     "execution_count": 25,
     "metadata": {},
     "output_type": "execute_result"
    }
   ],
   "source": [
    "df_abalone_correlation.style.background_gradient(cmap='summer')"
   ]
  },
  {
   "cell_type": "markdown",
   "metadata": {},
   "source": [
    "> 독립변수들 간의 강한 상관관계 존재 (다중공선성 의심됨)   \n",
    "  ==> **변수 제거, 혹은 차원 축소**  \n",
    "> 성별 'I'의 성숙도와 설명변수들과 강한 상관관계를 보임 (상관계수 0.5~0.6보다 큼).  \n",
    "> 반면, 성별 'F', 'M'의 성숙도와 설명변수들과는 상대적으로 약한 상관관계를 보임 (상관계수 0.2~0.5 사이).  \n",
    "  ==> **성(sex)별 개별 모델 개발**  "
   ]
  },
  {
   "cell_type": "markdown",
   "metadata": {},
   "source": [
    "- 분산팽창지수(VIF, Variance Inflation Factor)를 통한 다중공선성(Multicollinearity) 여부 확인\n",
    "- 기준: VIF가 작으면 작을 수록 좋음. VIF 지수가 10 이상이면 다중공선성이 매우 의심되므로 제거하는게 좋음"
   ]
  },
  {
   "cell_type": "code",
   "execution_count": 26,
   "metadata": {},
   "outputs": [
    {
     "data": {
      "text/html": [
       "<div>\n",
       "<style>\n",
       "    .dataframe thead tr:only-child th {\n",
       "        text-align: right;\n",
       "    }\n",
       "\n",
       "    .dataframe thead th {\n",
       "        text-align: left;\n",
       "    }\n",
       "\n",
       "    .dataframe tbody tr th {\n",
       "        vertical-align: top;\n",
       "    }\n",
       "</style>\n",
       "<table border=\"1\" class=\"dataframe\">\n",
       "  <thead>\n",
       "    <tr style=\"text-align: right;\">\n",
       "      <th></th>\n",
       "      <th>sex</th>\n",
       "      <th>length</th>\n",
       "      <th>diameter</th>\n",
       "      <th>height</th>\n",
       "      <th>whole_weight</th>\n",
       "      <th>shucked_weight</th>\n",
       "      <th>viscera_weight</th>\n",
       "      <th>shell_weight</th>\n",
       "      <th>mature</th>\n",
       "    </tr>\n",
       "  </thead>\n",
       "  <tbody>\n",
       "    <tr>\n",
       "      <th>0</th>\n",
       "      <td>m</td>\n",
       "      <td>0.350</td>\n",
       "      <td>0.265</td>\n",
       "      <td>0.090</td>\n",
       "      <td>0.2255</td>\n",
       "      <td>0.0995</td>\n",
       "      <td>0.0485</td>\n",
       "      <td>0.070</td>\n",
       "      <td>0</td>\n",
       "    </tr>\n",
       "    <tr>\n",
       "      <th>1</th>\n",
       "      <td>m</td>\n",
       "      <td>0.475</td>\n",
       "      <td>0.370</td>\n",
       "      <td>0.125</td>\n",
       "      <td>0.5095</td>\n",
       "      <td>0.2165</td>\n",
       "      <td>0.1125</td>\n",
       "      <td>0.165</td>\n",
       "      <td>1</td>\n",
       "    </tr>\n",
       "    <tr>\n",
       "      <th>2</th>\n",
       "      <td>i</td>\n",
       "      <td>0.380</td>\n",
       "      <td>0.275</td>\n",
       "      <td>0.100</td>\n",
       "      <td>0.2255</td>\n",
       "      <td>0.0800</td>\n",
       "      <td>0.0490</td>\n",
       "      <td>0.085</td>\n",
       "      <td>1</td>\n",
       "    </tr>\n",
       "    <tr>\n",
       "      <th>3</th>\n",
       "      <td>m</td>\n",
       "      <td>0.580</td>\n",
       "      <td>0.470</td>\n",
       "      <td>0.165</td>\n",
       "      <td>0.9975</td>\n",
       "      <td>0.3935</td>\n",
       "      <td>0.2420</td>\n",
       "      <td>0.330</td>\n",
       "      <td>1</td>\n",
       "    </tr>\n",
       "    <tr>\n",
       "      <th>4</th>\n",
       "      <td>i</td>\n",
       "      <td>0.240</td>\n",
       "      <td>0.175</td>\n",
       "      <td>0.045</td>\n",
       "      <td>0.0700</td>\n",
       "      <td>0.0315</td>\n",
       "      <td>0.0235</td>\n",
       "      <td>0.020</td>\n",
       "      <td>0</td>\n",
       "    </tr>\n",
       "  </tbody>\n",
       "</table>\n",
       "</div>"
      ],
      "text/plain": [
       "  sex  length  diameter  height  whole_weight  shucked_weight  viscera_weight  \\\n",
       "0   m   0.350     0.265   0.090        0.2255          0.0995          0.0485   \n",
       "1   m   0.475     0.370   0.125        0.5095          0.2165          0.1125   \n",
       "2   i   0.380     0.275   0.100        0.2255          0.0800          0.0490   \n",
       "3   m   0.580     0.470   0.165        0.9975          0.3935          0.2420   \n",
       "4   i   0.240     0.175   0.045        0.0700          0.0315          0.0235   \n",
       "\n",
       "   shell_weight  mature  \n",
       "0         0.070       0  \n",
       "1         0.165       1  \n",
       "2         0.085       1  \n",
       "3         0.330       1  \n",
       "4         0.020       0  "
      ]
     },
     "execution_count": 26,
     "metadata": {},
     "output_type": "execute_result"
    }
   ],
   "source": [
    "df_abalone_sample.head()"
   ]
  },
  {
   "cell_type": "code",
   "execution_count": 27,
   "metadata": {},
   "outputs": [],
   "source": [
    "def vif_func(df, y, X_list):\n",
    "    from patsy import dmatrices\n",
    "    import statsmodels.api as sm\n",
    "    from statsmodels.stats.outliers_influence import variance_inflation_factor\n",
    "    \n",
    "    features = \"+\".join(X_list)\n",
    "    y, X = dmatrices('mature'+ '~' + features, df_abalone_sample, return_type='dataframe')\n",
    "    \n",
    "    vif = pd.DataFrame()\n",
    "    vif[\"VIF Factor\"] = [variance_inflation_factor(X.values, i) for i in range(X.shape[1])]\n",
    "    vif[\"features\"] = X.columns\n",
    "    return vif"
   ]
  },
  {
   "cell_type": "code",
   "execution_count": 28,
   "metadata": {},
   "outputs": [
    {
     "name": "stderr",
     "output_type": "stream",
     "text": [
      "/Users/ihongdon/anaconda3/envs/py3.5_tf1.4/lib/python3.5/site-packages/statsmodels/compat/pandas.py:56: FutureWarning: The pandas.core.datetools module is deprecated and will be removed in a future version. Please use the pandas.tseries module instead.\n",
      "  from pandas.core import datetools\n"
     ]
    },
    {
     "data": {
      "text/html": [
       "<div>\n",
       "<style>\n",
       "    .dataframe thead tr:only-child th {\n",
       "        text-align: right;\n",
       "    }\n",
       "\n",
       "    .dataframe thead th {\n",
       "        text-align: left;\n",
       "    }\n",
       "\n",
       "    .dataframe tbody tr th {\n",
       "        vertical-align: top;\n",
       "    }\n",
       "</style>\n",
       "<table border=\"1\" class=\"dataframe\">\n",
       "  <thead>\n",
       "    <tr style=\"text-align: right;\">\n",
       "      <th></th>\n",
       "      <th>VIF Factor</th>\n",
       "      <th>features</th>\n",
       "    </tr>\n",
       "  </thead>\n",
       "  <tbody>\n",
       "    <tr>\n",
       "      <th>0</th>\n",
       "      <td>60.614886</td>\n",
       "      <td>Intercept</td>\n",
       "    </tr>\n",
       "    <tr>\n",
       "      <th>1</th>\n",
       "      <td>40.281245</td>\n",
       "      <td>length</td>\n",
       "    </tr>\n",
       "    <tr>\n",
       "      <th>2</th>\n",
       "      <td>41.469973</td>\n",
       "      <td>diameter</td>\n",
       "    </tr>\n",
       "    <tr>\n",
       "      <th>3</th>\n",
       "      <td>3.413733</td>\n",
       "      <td>height</td>\n",
       "    </tr>\n",
       "    <tr>\n",
       "      <th>4</th>\n",
       "      <td>108.836936</td>\n",
       "      <td>whole_weight</td>\n",
       "    </tr>\n",
       "    <tr>\n",
       "      <th>5</th>\n",
       "      <td>28.007355</td>\n",
       "      <td>shucked_weight</td>\n",
       "    </tr>\n",
       "    <tr>\n",
       "      <th>6</th>\n",
       "      <td>17.652627</td>\n",
       "      <td>viscera_weight</td>\n",
       "    </tr>\n",
       "    <tr>\n",
       "      <th>7</th>\n",
       "      <td>21.159914</td>\n",
       "      <td>shell_weight</td>\n",
       "    </tr>\n",
       "  </tbody>\n",
       "</table>\n",
       "</div>"
      ],
      "text/plain": [
       "   VIF Factor        features\n",
       "0   60.614886       Intercept\n",
       "1   40.281245          length\n",
       "2   41.469973        diameter\n",
       "3    3.413733          height\n",
       "4  108.836936    whole_weight\n",
       "5   28.007355  shucked_weight\n",
       "6   17.652627  viscera_weight\n",
       "7   21.159914    shell_weight"
      ]
     },
     "execution_count": 28,
     "metadata": {},
     "output_type": "execute_result"
    }
   ],
   "source": [
    "vif_func(df_abalone_sample, 'mature', ['length', 'diameter', 'height', 'whole_weight', 'shucked_weight', 'viscera_weight', 'shell_weight'])"
   ]
  },
  {
   "cell_type": "code",
   "execution_count": 29,
   "metadata": {},
   "outputs": [
    {
     "data": {
      "text/html": [
       "<div>\n",
       "<style>\n",
       "    .dataframe thead tr:only-child th {\n",
       "        text-align: right;\n",
       "    }\n",
       "\n",
       "    .dataframe thead th {\n",
       "        text-align: left;\n",
       "    }\n",
       "\n",
       "    .dataframe tbody tr th {\n",
       "        vertical-align: top;\n",
       "    }\n",
       "</style>\n",
       "<table border=\"1\" class=\"dataframe\">\n",
       "  <thead>\n",
       "    <tr style=\"text-align: right;\">\n",
       "      <th></th>\n",
       "      <th>VIF Factor</th>\n",
       "      <th>features</th>\n",
       "    </tr>\n",
       "  </thead>\n",
       "  <tbody>\n",
       "    <tr>\n",
       "      <th>0</th>\n",
       "      <td>60.427282</td>\n",
       "      <td>Intercept</td>\n",
       "    </tr>\n",
       "    <tr>\n",
       "      <th>1</th>\n",
       "      <td>40.278034</td>\n",
       "      <td>length</td>\n",
       "    </tr>\n",
       "    <tr>\n",
       "      <th>2</th>\n",
       "      <td>41.450630</td>\n",
       "      <td>diameter</td>\n",
       "    </tr>\n",
       "    <tr>\n",
       "      <th>3</th>\n",
       "      <td>3.412063</td>\n",
       "      <td>height</td>\n",
       "    </tr>\n",
       "    <tr>\n",
       "      <th>4</th>\n",
       "      <td>8.922920</td>\n",
       "      <td>shucked_weight</td>\n",
       "    </tr>\n",
       "    <tr>\n",
       "      <th>5</th>\n",
       "      <td>10.921507</td>\n",
       "      <td>viscera_weight</td>\n",
       "    </tr>\n",
       "    <tr>\n",
       "      <th>6</th>\n",
       "      <td>7.870550</td>\n",
       "      <td>shell_weight</td>\n",
       "    </tr>\n",
       "  </tbody>\n",
       "</table>\n",
       "</div>"
      ],
      "text/plain": [
       "   VIF Factor        features\n",
       "0   60.427282       Intercept\n",
       "1   40.278034          length\n",
       "2   41.450630        diameter\n",
       "3    3.412063          height\n",
       "4    8.922920  shucked_weight\n",
       "5   10.921507  viscera_weight\n",
       "6    7.870550    shell_weight"
      ]
     },
     "execution_count": 29,
     "metadata": {},
     "output_type": "execute_result"
    }
   ],
   "source": [
    "# removed 'whole_weight'\n",
    "vif_func(df_abalone_sample, 'mature', ['length', 'diameter', 'height', 'shucked_weight', 'viscera_weight', 'shell_weight'])"
   ]
  },
  {
   "cell_type": "code",
   "execution_count": 30,
   "metadata": {},
   "outputs": [
    {
     "data": {
      "text/html": [
       "<div>\n",
       "<style>\n",
       "    .dataframe thead tr:only-child th {\n",
       "        text-align: right;\n",
       "    }\n",
       "\n",
       "    .dataframe thead th {\n",
       "        text-align: left;\n",
       "    }\n",
       "\n",
       "    .dataframe tbody tr th {\n",
       "        vertical-align: top;\n",
       "    }\n",
       "</style>\n",
       "<table border=\"1\" class=\"dataframe\">\n",
       "  <thead>\n",
       "    <tr style=\"text-align: right;\">\n",
       "      <th></th>\n",
       "      <th>VIF Factor</th>\n",
       "      <th>features</th>\n",
       "    </tr>\n",
       "  </thead>\n",
       "  <tbody>\n",
       "    <tr>\n",
       "      <th>0</th>\n",
       "      <td>60.426946</td>\n",
       "      <td>Intercept</td>\n",
       "    </tr>\n",
       "    <tr>\n",
       "      <th>1</th>\n",
       "      <td>7.900690</td>\n",
       "      <td>length</td>\n",
       "    </tr>\n",
       "    <tr>\n",
       "      <th>2</th>\n",
       "      <td>3.367770</td>\n",
       "      <td>height</td>\n",
       "    </tr>\n",
       "    <tr>\n",
       "      <th>3</th>\n",
       "      <td>8.921165</td>\n",
       "      <td>shucked_weight</td>\n",
       "    </tr>\n",
       "    <tr>\n",
       "      <th>4</th>\n",
       "      <td>10.911116</td>\n",
       "      <td>viscera_weight</td>\n",
       "    </tr>\n",
       "    <tr>\n",
       "      <th>5</th>\n",
       "      <td>7.502573</td>\n",
       "      <td>shell_weight</td>\n",
       "    </tr>\n",
       "  </tbody>\n",
       "</table>\n",
       "</div>"
      ],
      "text/plain": [
       "   VIF Factor        features\n",
       "0   60.426946       Intercept\n",
       "1    7.900690          length\n",
       "2    3.367770          height\n",
       "3    8.921165  shucked_weight\n",
       "4   10.911116  viscera_weight\n",
       "5    7.502573    shell_weight"
      ]
     },
     "execution_count": 30,
     "metadata": {},
     "output_type": "execute_result"
    }
   ],
   "source": [
    "# removed 'diameter'\n",
    "vif_func(df_abalone_sample, 'mature', ['length', 'height', 'shucked_weight', 'viscera_weight', 'shell_weight'])"
   ]
  },
  {
   "cell_type": "code",
   "execution_count": 31,
   "metadata": {},
   "outputs": [
    {
     "data": {
      "text/html": [
       "<div>\n",
       "<style>\n",
       "    .dataframe thead tr:only-child th {\n",
       "        text-align: right;\n",
       "    }\n",
       "\n",
       "    .dataframe thead th {\n",
       "        text-align: left;\n",
       "    }\n",
       "\n",
       "    .dataframe tbody tr th {\n",
       "        vertical-align: top;\n",
       "    }\n",
       "</style>\n",
       "<table border=\"1\" class=\"dataframe\">\n",
       "  <thead>\n",
       "    <tr style=\"text-align: right;\">\n",
       "      <th></th>\n",
       "      <th>VIF Factor</th>\n",
       "      <th>features</th>\n",
       "    </tr>\n",
       "  </thead>\n",
       "  <tbody>\n",
       "    <tr>\n",
       "      <th>0</th>\n",
       "      <td>58.015046</td>\n",
       "      <td>Intercept</td>\n",
       "    </tr>\n",
       "    <tr>\n",
       "      <th>1</th>\n",
       "      <td>7.652079</td>\n",
       "      <td>length</td>\n",
       "    </tr>\n",
       "    <tr>\n",
       "      <th>2</th>\n",
       "      <td>3.350488</td>\n",
       "      <td>height</td>\n",
       "    </tr>\n",
       "    <tr>\n",
       "      <th>3</th>\n",
       "      <td>6.114383</td>\n",
       "      <td>shucked_weight</td>\n",
       "    </tr>\n",
       "    <tr>\n",
       "      <th>4</th>\n",
       "      <td>6.558836</td>\n",
       "      <td>shell_weight</td>\n",
       "    </tr>\n",
       "  </tbody>\n",
       "</table>\n",
       "</div>"
      ],
      "text/plain": [
       "   VIF Factor        features\n",
       "0   58.015046       Intercept\n",
       "1    7.652079          length\n",
       "2    3.350488          height\n",
       "3    6.114383  shucked_weight\n",
       "4    6.558836    shell_weight"
      ]
     },
     "execution_count": 31,
     "metadata": {},
     "output_type": "execute_result"
    }
   ],
   "source": [
    "# removed 'viscera_weight'\n",
    "vif_func(df_abalone_sample, 'mature', ['length', 'height', 'shucked_weight', 'shell_weight'])"
   ]
  },
  {
   "cell_type": "markdown",
   "metadata": {},
   "source": [
    "- 다중공선성이 있는 'whole_weight', 'diameter', 'viscera_weight' 칼럼은 제거한 테이블 생성"
   ]
  },
  {
   "cell_type": "code",
   "execution_count": 32,
   "metadata": {},
   "outputs": [
    {
     "name": "stdout",
     "output_type": "stream",
     "text": [
      "Query started at 10:06:52 PM KST; Query executed in 0.00 m"
     ]
    },
    {
     "data": {
      "text/plain": [
       "<sql_magic.exceptions.EmptyResult at 0x1c214eb828>"
      ]
     },
     "execution_count": 32,
     "metadata": {},
     "output_type": "execute_result"
    }
   ],
   "source": [
    "%%read_sql\n",
    "DROP TABLE IF EXISTS {schema}.abalone_vif_rmv CASCADE;\n",
    "CREATE TABLE {schema}.abalone_vif_rmv AS\n",
    "    SELECT id, sex, length, height, shucked_weight, shell_weight, rings, age, mature -- removed 'whole_weight', 'diameter', 'viscera_weight' \n",
    "    FROM {schema}.abalone_target;"
   ]
  },
  {
   "cell_type": "markdown",
   "metadata": {},
   "source": [
    "## Training Set, Test Set 분할\n",
    "- Training Set: 모델 훈련용, 80%, 반복재추출 없음\n",
    "- Test Set: 모델 평가용, 20%, 반복재추출 없음\n",
    "- MADlib Train-Test Split: http://madlib.apache.org/docs/latest/group__grp__train__test__split.html"
   ]
  },
  {
   "cell_type": "code",
   "execution_count": 33,
   "metadata": {},
   "outputs": [
    {
     "name": "stdout",
     "output_type": "stream",
     "text": [
      "Query started at 10:06:53 PM KST; Query executed in 0.01 m"
     ]
    }
   ],
   "source": [
    "%%read_sql -d\n",
    "DROP TABLE IF EXISTS {schema}.abalone_classif CASCADE;\n",
    "DROP TABLE IF EXISTS {schema}.abalone_classif_train CASCADE;\n",
    "DROP TABLE IF EXISTS {schema}.abalone_classif_test CASCADE;\n",
    "SELECT madlib.train_test_split(\n",
    "    '{schema}.abalone_vif_rmv' -- source table\n",
    "    , '{schema}.abalone_classif' -- output table\n",
    "    , 0.8                      -- train_proportion\n",
    "    , 0.2                      -- test_proportion\n",
    "    , 'sex'                    -- strata definition\n",
    "    , 'id, length, height, shucked_weight, shell_weight, mature' -- columns to output\n",
    "    , FALSE                    -- sampling without replacement\n",
    "    , TRUE                     -- separate output tables\n",
    ");"
   ]
  },
  {
   "cell_type": "code",
   "execution_count": 34,
   "metadata": {},
   "outputs": [
    {
     "name": "stdout",
     "output_type": "stream",
     "text": [
      "Query started at 10:06:53 PM KST; Query executed in 0.00 m"
     ]
    },
    {
     "data": {
      "text/html": [
       "<div>\n",
       "<style>\n",
       "    .dataframe thead tr:only-child th {\n",
       "        text-align: right;\n",
       "    }\n",
       "\n",
       "    .dataframe thead th {\n",
       "        text-align: left;\n",
       "    }\n",
       "\n",
       "    .dataframe tbody tr th {\n",
       "        vertical-align: top;\n",
       "    }\n",
       "</style>\n",
       "<table border=\"1\" class=\"dataframe\">\n",
       "  <thead>\n",
       "    <tr style=\"text-align: right;\">\n",
       "      <th></th>\n",
       "      <th>mature</th>\n",
       "      <th>count</th>\n",
       "    </tr>\n",
       "  </thead>\n",
       "  <tbody>\n",
       "    <tr>\n",
       "      <th>0</th>\n",
       "      <td>1</td>\n",
       "      <td>2206</td>\n",
       "    </tr>\n",
       "    <tr>\n",
       "      <th>1</th>\n",
       "      <td>0</td>\n",
       "      <td>1134</td>\n",
       "    </tr>\n",
       "  </tbody>\n",
       "</table>\n",
       "</div>"
      ],
      "text/plain": [
       "   mature  count\n",
       "0       1   2206\n",
       "1       0   1134"
      ]
     },
     "execution_count": 34,
     "metadata": {},
     "output_type": "execute_result"
    }
   ],
   "source": [
    "%read_sql SELECT mature, count(*) FROM {schema}.abalone_classif_train GROUP BY mature;"
   ]
  },
  {
   "cell_type": "code",
   "execution_count": 35,
   "metadata": {},
   "outputs": [
    {
     "name": "stdout",
     "output_type": "stream",
     "text": [
      "Query started at 10:06:53 PM KST; Query executed in 0.00 m"
     ]
    },
    {
     "data": {
      "text/html": [
       "<div>\n",
       "<style>\n",
       "    .dataframe thead tr:only-child th {\n",
       "        text-align: right;\n",
       "    }\n",
       "\n",
       "    .dataframe thead th {\n",
       "        text-align: left;\n",
       "    }\n",
       "\n",
       "    .dataframe tbody tr th {\n",
       "        vertical-align: top;\n",
       "    }\n",
       "</style>\n",
       "<table border=\"1\" class=\"dataframe\">\n",
       "  <thead>\n",
       "    <tr style=\"text-align: right;\">\n",
       "      <th></th>\n",
       "      <th>mature</th>\n",
       "      <th>count</th>\n",
       "    </tr>\n",
       "  </thead>\n",
       "  <tbody>\n",
       "    <tr>\n",
       "      <th>0</th>\n",
       "      <td>0</td>\n",
       "      <td>273</td>\n",
       "    </tr>\n",
       "    <tr>\n",
       "      <th>1</th>\n",
       "      <td>1</td>\n",
       "      <td>564</td>\n",
       "    </tr>\n",
       "  </tbody>\n",
       "</table>\n",
       "</div>"
      ],
      "text/plain": [
       "   mature  count\n",
       "0       0    273\n",
       "1       1    564"
      ]
     },
     "execution_count": 35,
     "metadata": {},
     "output_type": "execute_result"
    }
   ],
   "source": [
    "%read_sql SELECT mature, count(*) FROM {schema}.abalone_classif_test GROUP BY mature;"
   ]
  },
  {
   "cell_type": "code",
   "execution_count": 36,
   "metadata": {},
   "outputs": [
    {
     "name": "stdout",
     "output_type": "stream",
     "text": [
      "Query started at 10:06:53 PM KST; Query executed in 0.00 m"
     ]
    },
    {
     "data": {
      "text/html": [
       "<div>\n",
       "<style>\n",
       "    .dataframe thead tr:only-child th {\n",
       "        text-align: right;\n",
       "    }\n",
       "\n",
       "    .dataframe thead th {\n",
       "        text-align: left;\n",
       "    }\n",
       "\n",
       "    .dataframe tbody tr th {\n",
       "        vertical-align: top;\n",
       "    }\n",
       "</style>\n",
       "<table border=\"1\" class=\"dataframe\">\n",
       "  <thead>\n",
       "    <tr style=\"text-align: right;\">\n",
       "      <th></th>\n",
       "      <th>sex</th>\n",
       "      <th>id</th>\n",
       "      <th>length</th>\n",
       "      <th>height</th>\n",
       "      <th>shucked_weight</th>\n",
       "      <th>shell_weight</th>\n",
       "      <th>mature</th>\n",
       "    </tr>\n",
       "  </thead>\n",
       "  <tbody>\n",
       "    <tr>\n",
       "      <th>0</th>\n",
       "      <td>f</td>\n",
       "      <td>15</td>\n",
       "      <td>0.470</td>\n",
       "      <td>0.100</td>\n",
       "      <td>0.1675</td>\n",
       "      <td>0.185</td>\n",
       "      <td>1</td>\n",
       "    </tr>\n",
       "    <tr>\n",
       "      <th>1</th>\n",
       "      <td>f</td>\n",
       "      <td>25</td>\n",
       "      <td>0.615</td>\n",
       "      <td>0.165</td>\n",
       "      <td>0.5130</td>\n",
       "      <td>0.305</td>\n",
       "      <td>1</td>\n",
       "    </tr>\n",
       "    <tr>\n",
       "      <th>2</th>\n",
       "      <td>f</td>\n",
       "      <td>41</td>\n",
       "      <td>0.450</td>\n",
       "      <td>0.105</td>\n",
       "      <td>0.1865</td>\n",
       "      <td>0.115</td>\n",
       "      <td>1</td>\n",
       "    </tr>\n",
       "    <tr>\n",
       "      <th>3</th>\n",
       "      <td>f</td>\n",
       "      <td>54</td>\n",
       "      <td>0.470</td>\n",
       "      <td>0.120</td>\n",
       "      <td>0.2105</td>\n",
       "      <td>0.150</td>\n",
       "      <td>1</td>\n",
       "    </tr>\n",
       "    <tr>\n",
       "      <th>4</th>\n",
       "      <td>f</td>\n",
       "      <td>60</td>\n",
       "      <td>0.505</td>\n",
       "      <td>0.125</td>\n",
       "      <td>0.2460</td>\n",
       "      <td>0.175</td>\n",
       "      <td>0</td>\n",
       "    </tr>\n",
       "  </tbody>\n",
       "</table>\n",
       "</div>"
      ],
      "text/plain": [
       "  sex  id  length  height  shucked_weight  shell_weight  mature\n",
       "0   f  15   0.470   0.100          0.1675         0.185       1\n",
       "1   f  25   0.615   0.165          0.5130         0.305       1\n",
       "2   f  41   0.450   0.105          0.1865         0.115       1\n",
       "3   f  54   0.470   0.120          0.2105         0.150       1\n",
       "4   f  60   0.505   0.125          0.2460         0.175       0"
      ]
     },
     "execution_count": 36,
     "metadata": {},
     "output_type": "execute_result"
    }
   ],
   "source": [
    "%read_sql SELECT * FROM {schema}.abalone_classif_train LIMIT 5;"
   ]
  },
  {
   "cell_type": "code",
   "execution_count": 37,
   "metadata": {},
   "outputs": [
    {
     "name": "stdout",
     "output_type": "stream",
     "text": [
      "Query started at 10:06:53 PM KST; Query executed in 0.00 m"
     ]
    },
    {
     "data": {
      "text/html": [
       "<div>\n",
       "<style>\n",
       "    .dataframe thead tr:only-child th {\n",
       "        text-align: right;\n",
       "    }\n",
       "\n",
       "    .dataframe thead th {\n",
       "        text-align: left;\n",
       "    }\n",
       "\n",
       "    .dataframe tbody tr th {\n",
       "        vertical-align: top;\n",
       "    }\n",
       "</style>\n",
       "<table border=\"1\" class=\"dataframe\">\n",
       "  <thead>\n",
       "    <tr style=\"text-align: right;\">\n",
       "      <th></th>\n",
       "      <th>sex</th>\n",
       "      <th>id</th>\n",
       "      <th>length</th>\n",
       "      <th>height</th>\n",
       "      <th>shucked_weight</th>\n",
       "      <th>shell_weight</th>\n",
       "      <th>mature</th>\n",
       "    </tr>\n",
       "  </thead>\n",
       "  <tbody>\n",
       "    <tr>\n",
       "      <th>0</th>\n",
       "      <td>m</td>\n",
       "      <td>92</td>\n",
       "      <td>0.555</td>\n",
       "      <td>0.150</td>\n",
       "      <td>0.3070</td>\n",
       "      <td>0.2600</td>\n",
       "      <td>1</td>\n",
       "    </tr>\n",
       "    <tr>\n",
       "      <th>1</th>\n",
       "      <td>m</td>\n",
       "      <td>191</td>\n",
       "      <td>0.615</td>\n",
       "      <td>0.180</td>\n",
       "      <td>0.4845</td>\n",
       "      <td>0.3250</td>\n",
       "      <td>1</td>\n",
       "    </tr>\n",
       "    <tr>\n",
       "      <th>2</th>\n",
       "      <td>m</td>\n",
       "      <td>202</td>\n",
       "      <td>0.500</td>\n",
       "      <td>0.165</td>\n",
       "      <td>0.2540</td>\n",
       "      <td>0.2850</td>\n",
       "      <td>1</td>\n",
       "    </tr>\n",
       "    <tr>\n",
       "      <th>3</th>\n",
       "      <td>m</td>\n",
       "      <td>268</td>\n",
       "      <td>0.350</td>\n",
       "      <td>0.110</td>\n",
       "      <td>0.1225</td>\n",
       "      <td>0.0905</td>\n",
       "      <td>0</td>\n",
       "    </tr>\n",
       "    <tr>\n",
       "      <th>4</th>\n",
       "      <td>m</td>\n",
       "      <td>361</td>\n",
       "      <td>0.605</td>\n",
       "      <td>0.180</td>\n",
       "      <td>0.4800</td>\n",
       "      <td>0.3500</td>\n",
       "      <td>1</td>\n",
       "    </tr>\n",
       "  </tbody>\n",
       "</table>\n",
       "</div>"
      ],
      "text/plain": [
       "  sex   id  length  height  shucked_weight  shell_weight  mature\n",
       "0   m   92   0.555   0.150          0.3070        0.2600       1\n",
       "1   m  191   0.615   0.180          0.4845        0.3250       1\n",
       "2   m  202   0.500   0.165          0.2540        0.2850       1\n",
       "3   m  268   0.350   0.110          0.1225        0.0905       0\n",
       "4   m  361   0.605   0.180          0.4800        0.3500       1"
      ]
     },
     "execution_count": 37,
     "metadata": {},
     "output_type": "execute_result"
    }
   ],
   "source": [
    "%read_sql SELECT * FROM {schema}.abalone_classif_test LIMIT 5;"
   ]
  },
  {
   "cell_type": "code",
   "execution_count": null,
   "metadata": {},
   "outputs": [],
   "source": []
  },
  {
   "cell_type": "markdown",
   "metadata": {},
   "source": [
    "## PL/Python - (1) Logistic Regression\n",
    "- **성(sex) 그룹별 개별 모델 개발**  "
   ]
  },
  {
   "cell_type": "markdown",
   "metadata": {},
   "source": [
    "### 데이터를 하나의 Cell에 합치기 (aggregate into a single cell)\n",
    "- ARRAY를 합치기 위한 사용자 정의 함수 정의"
   ]
  },
  {
   "cell_type": "code",
   "execution_count": 38,
   "metadata": {},
   "outputs": [
    {
     "name": "stdout",
     "output_type": "stream",
     "text": [
      "Query started at 10:06:53 PM KST; Query executed in 0.00 m"
     ]
    },
    {
     "data": {
      "text/plain": [
       "<sql_magic.exceptions.EmptyResult at 0x1c214fa860>"
      ]
     },
     "execution_count": 38,
     "metadata": {},
     "output_type": "execute_result"
    }
   ],
   "source": [
    "%%read_sql\n",
    "CREATE OR REPLACE FUNCTION {schema}.array_append_2d(integer[][], integer[])\n",
    "    RETURNS integer[][]\n",
    "    LANGUAGE SQL\n",
    "    AS 'select array_cat($1, ARRAY[$2])'\n",
    "    IMMUTABLE\n",
    ";\n",
    "CREATE OR REPLACE FUNCTION {schema}.array_append_2d(numeric[][], numeric[])\n",
    "    RETURNS numeric[][]\n",
    "    LANGUAGE SQL\n",
    "    AS 'select array_cat($1, ARRAY[$2])'\n",
    "    IMMUTABLE\n",
    ";\n",
    "CREATE OR REPLACE FUNCTION {schema}.array_append_2d(double precision[][], double precision[])\n",
    "    RETURNS double precision[][]\n",
    "    LANGUAGE SQL\n",
    "    AS 'select array_cat($1, ARRAY[$2])'\n",
    "    IMMUTABLE\n",
    ";"
   ]
  },
  {
   "cell_type": "code",
   "execution_count": 39,
   "metadata": {},
   "outputs": [
    {
     "name": "stdout",
     "output_type": "stream",
     "text": [
      "Query started at 10:06:54 PM KST; Query executed in 0.00 m"
     ]
    },
    {
     "data": {
      "text/plain": [
       "<sql_magic.exceptions.EmptyResult at 0x1c214eb2e8>"
      ]
     },
     "execution_count": 39,
     "metadata": {},
     "output_type": "execute_result"
    }
   ],
   "source": [
    "%%read_sql\n",
    "DROP AGGREGATE IF EXISTS {schema}.array_agg_array(double precision[]) CASCADE;\n",
    "CREATE ORDERED AGGREGATE {schema}.array_agg_array(double precision[])\n",
    "(\n",
    "    SFUNC = {schema}.array_append_2d\n",
    "    , STYPE = double precision[][]\n",
    ");"
   ]
  },
  {
   "cell_type": "code",
   "execution_count": 40,
   "metadata": {},
   "outputs": [
    {
     "name": "stdout",
     "output_type": "stream",
     "text": [
      "Query started at 10:06:54 PM KST; Query executed in 0.00 m"
     ]
    },
    {
     "data": {
      "text/plain": [
       "<sql_magic.exceptions.EmptyResult at 0x1c214c9940>"
      ]
     },
     "execution_count": 40,
     "metadata": {},
     "output_type": "execute_result"
    }
   ],
   "source": [
    "%%read_sql\n",
    "DROP TABLE IF EXISTS {schema}.abalone_train_agg CASCADE;\n",
    "CREATE TABLE {schema}.abalone_train_agg AS (\n",
    "    SELECT \n",
    "        sex\n",
    "        , {schema}.array_agg_array(feature_vec ORDER BY id) AS feature_arr\n",
    "        , array_agg(mature ORDER BY id) AS y_arr\n",
    "    FROM (\n",
    "        SELECT \n",
    "            id\n",
    "            , sex\n",
    "            , mature\n",
    "            , ARRAY[\n",
    "                length\n",
    "                , height\n",
    "                , shucked_weight\n",
    "                , shell_weight\n",
    "            ] AS feature_vec\n",
    "        FROM {schema}.abalone_classif_train\n",
    "    ) tmp\n",
    "    GROUP BY sex\n",
    ");"
   ]
  },
  {
   "cell_type": "code",
   "execution_count": 41,
   "metadata": {},
   "outputs": [
    {
     "name": "stdout",
     "output_type": "stream",
     "text": [
      "Query started at 10:06:54 PM KST; Query executed in 0.00 m"
     ]
    },
    {
     "data": {
      "text/html": [
       "<div>\n",
       "<style>\n",
       "    .dataframe thead tr:only-child th {\n",
       "        text-align: right;\n",
       "    }\n",
       "\n",
       "    .dataframe thead th {\n",
       "        text-align: left;\n",
       "    }\n",
       "\n",
       "    .dataframe tbody tr th {\n",
       "        vertical-align: top;\n",
       "    }\n",
       "</style>\n",
       "<table border=\"1\" class=\"dataframe\">\n",
       "  <thead>\n",
       "    <tr style=\"text-align: right;\">\n",
       "      <th></th>\n",
       "      <th>sex</th>\n",
       "      <th>feature_arr</th>\n",
       "      <th>y_arr</th>\n",
       "    </tr>\n",
       "  </thead>\n",
       "  <tbody>\n",
       "    <tr>\n",
       "      <th>0</th>\n",
       "      <td>f</td>\n",
       "      <td>[[0.53, 0.15, 0.237, 0.33], [0.545, 0.125, 0.2...</td>\n",
       "      <td>[1, 1, 1, 1, 1, 1, 1, 1, 1, 1, 1, 1, 1, 0, 1, ...</td>\n",
       "    </tr>\n",
       "    <tr>\n",
       "      <th>1</th>\n",
       "      <td>i</td>\n",
       "      <td>[[0.425, 0.095, 0.141, 0.12], [0.355, 0.085, 0...</td>\n",
       "      <td>[0, 0, 1, 0, 0, 0, 0, 0, 0, 0, 0, 1, 0, 0, 0, ...</td>\n",
       "    </tr>\n",
       "    <tr>\n",
       "      <th>2</th>\n",
       "      <td>m</td>\n",
       "      <td>[[0.455, 0.095, 0.2245, 0.15], [0.35, 0.09, 0....</td>\n",
       "      <td>[1, 0, 1, 1, 1, 1, 1, 1, 1, 1, 1, 0, 1, 1, 0, ...</td>\n",
       "    </tr>\n",
       "  </tbody>\n",
       "</table>\n",
       "</div>"
      ],
      "text/plain": [
       "  sex                                        feature_arr  \\\n",
       "0   f  [[0.53, 0.15, 0.237, 0.33], [0.545, 0.125, 0.2...   \n",
       "1   i  [[0.425, 0.095, 0.141, 0.12], [0.355, 0.085, 0...   \n",
       "2   m  [[0.455, 0.095, 0.2245, 0.15], [0.35, 0.09, 0....   \n",
       "\n",
       "                                               y_arr  \n",
       "0  [1, 1, 1, 1, 1, 1, 1, 1, 1, 1, 1, 1, 1, 0, 1, ...  \n",
       "1  [0, 0, 1, 0, 0, 0, 0, 0, 0, 0, 0, 1, 0, 0, 0, ...  \n",
       "2  [1, 0, 1, 1, 1, 1, 1, 1, 1, 1, 1, 0, 1, 1, 0, ...  "
      ]
     },
     "execution_count": 41,
     "metadata": {},
     "output_type": "execute_result"
    }
   ],
   "source": [
    "%%read_sql\n",
    "SELECT * FROM {schema}.abalone_train_agg;"
   ]
  },
  {
   "cell_type": "markdown",
   "metadata": {},
   "source": [
    "### Python sklearn 활용한 Logistic Regression 사용자 정의 함수 생성"
   ]
  },
  {
   "cell_type": "code",
   "execution_count": 42,
   "metadata": {},
   "outputs": [
    {
     "name": "stdout",
     "output_type": "stream",
     "text": [
      "Query started at 10:06:54 PM KST; Query executed in 0.00 m"
     ]
    },
    {
     "data": {
      "text/plain": [
       "<sql_magic.exceptions.EmptyResult at 0x1c214ebe80>"
      ]
     },
     "execution_count": 42,
     "metadata": {},
     "output_type": "execute_result"
    }
   ],
   "source": [
    "%%read_sql\n",
    "DROP FUNCTION IF EXISTS {schema}.logregr_train(features float[][], targets integer[]);\n",
    "CREATE OR REPLACE FUNCTION {schema}.logregr_train(features float[][], targets integer[])\n",
    "RETURNS bytea\n",
    "AS\n",
    "$$\n",
    "def logregr_train(features, targets):\n",
    "    \"\"\"\n",
    "    Training function for Logistic Regression using Python Scikit-Learn Library\n",
    "    \n",
    "    Inputs\n",
    "    - features: 2-dimensional array or list-of-lists\n",
    "    - targets: 1-dimensional array or list\n",
    "    \n",
    "    Returns\n",
    "    - serialized model as a string\n",
    "    \"\"\"\n",
    "    from sklearn.linear_model import LogisticRegression\n",
    "    \n",
    "    import six\n",
    "    pickle = six.moves.cPickle\n",
    "    \n",
    "    logregr = LogisticRegression(solver='lbfgs')\n",
    "    logregr.fit(features, targets)\n",
    "    \n",
    "    return pickle.dumps(logregr, protocol=2)\n",
    "\n",
    "return logregr_train(features, targets)\n",
    "$$ LANGUAGE plpythonu;"
   ]
  },
  {
   "cell_type": "markdown",
   "metadata": {},
   "source": [
    "### 성(sex) 그룹별 Logistic Regression Model을 In-Database에서 병렬로 훈련"
   ]
  },
  {
   "cell_type": "code",
   "execution_count": 43,
   "metadata": {},
   "outputs": [
    {
     "name": "stdout",
     "output_type": "stream",
     "text": [
      "Query started at 10:06:54 PM KST; Query executed in 0.01 m"
     ]
    },
    {
     "data": {
      "text/plain": [
       "<sql_magic.exceptions.EmptyResult at 0x1c21504da0>"
      ]
     },
     "execution_count": 43,
     "metadata": {},
     "output_type": "execute_result"
    }
   ],
   "source": [
    "%%read_sql\n",
    "DROP TABLE IF EXISTS {schema}.logregr_model CASCADE;\n",
    "CREATE TABLE {schema}.logregr_model AS \n",
    "    (\n",
    "    SELECT \n",
    "        sex\n",
    "        , {schema}.logregr_train(feature_arr, y_arr) AS model\n",
    "        , now() AS serialized_on\n",
    "    FROM {schema}.abalone_train_agg\n",
    "        GROUP BY sex, model\n",
    "    );"
   ]
  },
  {
   "cell_type": "code",
   "execution_count": 44,
   "metadata": {},
   "outputs": [
    {
     "name": "stdout",
     "output_type": "stream",
     "text": [
      "Query started at 10:06:55 PM KST; Query executed in 0.00 m"
     ]
    },
    {
     "data": {
      "text/html": [
       "<div>\n",
       "<style>\n",
       "    .dataframe thead tr:only-child th {\n",
       "        text-align: right;\n",
       "    }\n",
       "\n",
       "    .dataframe thead th {\n",
       "        text-align: left;\n",
       "    }\n",
       "\n",
       "    .dataframe tbody tr th {\n",
       "        vertical-align: top;\n",
       "    }\n",
       "</style>\n",
       "<table border=\"1\" class=\"dataframe\">\n",
       "  <thead>\n",
       "    <tr style=\"text-align: right;\">\n",
       "      <th></th>\n",
       "      <th>sex</th>\n",
       "      <th>serialized_on</th>\n",
       "      <th>length</th>\n",
       "      <th>model</th>\n",
       "    </tr>\n",
       "  </thead>\n",
       "  <tbody>\n",
       "    <tr>\n",
       "      <th>0</th>\n",
       "      <td>f</td>\n",
       "      <td>2019-03-19 13:06:54.646288+00:00</td>\n",
       "      <td>704</td>\n",
       "      <td>\\200\\002csklearn.linear_model.logistic\\012Logi...</td>\n",
       "    </tr>\n",
       "    <tr>\n",
       "      <th>1</th>\n",
       "      <td>m</td>\n",
       "      <td>2019-03-19 13:06:54.646288+00:00</td>\n",
       "      <td>704</td>\n",
       "      <td>\\200\\002csklearn.linear_model.logistic\\012Logi...</td>\n",
       "    </tr>\n",
       "    <tr>\n",
       "      <th>2</th>\n",
       "      <td>i</td>\n",
       "      <td>2019-03-19 13:06:54.646288+00:00</td>\n",
       "      <td>704</td>\n",
       "      <td>\\200\\002csklearn.linear_model.logistic\\012Logi...</td>\n",
       "    </tr>\n",
       "  </tbody>\n",
       "</table>\n",
       "</div>"
      ],
      "text/plain": [
       "  sex                    serialized_on  length  \\\n",
       "0   f 2019-03-19 13:06:54.646288+00:00     704   \n",
       "1   m 2019-03-19 13:06:54.646288+00:00     704   \n",
       "2   i 2019-03-19 13:06:54.646288+00:00     704   \n",
       "\n",
       "                                               model  \n",
       "0  \\200\\002csklearn.linear_model.logistic\\012Logi...  \n",
       "1  \\200\\002csklearn.linear_model.logistic\\012Logi...  \n",
       "2  \\200\\002csklearn.linear_model.logistic\\012Logi...  "
      ]
     },
     "execution_count": 44,
     "metadata": {},
     "output_type": "execute_result"
    }
   ],
   "source": [
    "%%read_sql df_logregr_model\n",
    "SELECT \n",
    "    sex\n",
    "    , serialized_on\n",
    "    , length(model)\n",
    "    , model::text\n",
    "FROM {schema}.logregr_model;"
   ]
  },
  {
   "cell_type": "code",
   "execution_count": 45,
   "metadata": {},
   "outputs": [
    {
     "data": {
      "text/plain": [
       "'\\\\200\\\\002csklearn.linear_model.logistic\\\\012LogisticRegression\\\\012q\\\\001)\\\\201q\\\\002}q\\\\003(U\\\\012warm_startq\\\\004\\\\211U\\\\001CG?\\\\360\\\\000\\\\000\\\\000\\\\000\\\\000\\\\000U\\\\006n_jobsq\\\\005K\\\\001U\\\\007verboseq\\\\006K\\\\000U\\\\015fit_interceptq\\\\007\\\\210U\\\\006solverq\\\\010U\\\\005lbfgsq\\\\011U\\\\010classes_q\\\\012cnumpy.core.multiarray\\\\012_reconstruct\\\\012q\\\\013cnumpy\\\\012ndarray\\\\012q\\\\014K\\\\000\\\\205U\\\\001b\\\\207Rq\\\\015(K\\\\001K\\\\002\\\\205cnumpy\\\\012dtype\\\\012q\\\\016U\\\\002i8K\\\\000K\\\\001\\\\207Rq\\\\017(K\\\\003U\\\\001<NNNJ\\\\377\\\\377\\\\377\\\\377J\\\\377\\\\377\\\\377\\\\377K\\\\000tb\\\\211U\\\\020\\\\000\\\\000\\\\000\\\\000\\\\000\\\\000\\\\000\\\\000\\\\001\\\\000\\\\000\\\\000\\\\000\\\\000\\\\000\\\\000tbU\\\\007n_iter_q\\\\020h\\\\013h\\\\014K\\\\000\\\\205U\\\\001b\\\\207Rq\\\\021(K\\\\001K\\\\001\\\\205h\\\\016U\\\\002i4K\\\\000K\\\\001\\\\207Rq\\\\022(K\\\\003U\\\\001<NNNJ\\\\377\\\\377\\\\377\\\\377J\\\\377\\\\377\\\\377\\\\377K\\\\000tb\\\\211U\\\\004\\\\031\\\\000\\\\000\\\\000tbU\\\\021intercept_scalingq\\\\023K\\\\001U\\\\007penaltyq\\\\024U\\\\002l2q\\\\025U\\\\013multi_classq\\\\026U\\\\003ovrq\\\\027U\\\\014random_stateq\\\\030NU\\\\020_sklearn_versionq\\\\031U\\\\0060.19.1q\\\\032U\\\\004dualq\\\\033\\\\211U\\\\003tolq\\\\034G?\\\\0326\\\\342\\\\353\\\\034C-U\\\\005coef_q\\\\035h\\\\013h\\\\014K\\\\000\\\\205U\\\\001b\\\\207Rq\\\\036(K\\\\001K\\\\001K\\\\004\\\\206h\\\\016U\\\\002f8K\\\\000K\\\\001\\\\207Rq\\\\037(K\\\\003U\\\\001<NNNJ\\\\377\\\\377\\\\377\\\\377J\\\\377\\\\377\\\\377\\\\377K\\\\000tb\\\\211U pD\\\\013\\\\224<\\\\261\\\\375?\\\\250\\\\275\\\\2421NA\\\\326?6E \\\\350\\\\355\\\\345\\\\343?b\\\\312\\\\177\\\\315\"<\\\\020@tbU\\\\012intercept_q h\\\\013h\\\\014K\\\\000\\\\205U\\\\001b\\\\207Rq!(K\\\\001K\\\\001\\\\205h\\\\037\\\\211U\\\\010\\\\334W<\\\\276Yg\\\\344\\\\277tbU\\\\010max_iterq\"KdU\\\\014class_weightq#Nub.'"
      ]
     },
     "execution_count": 45,
     "metadata": {},
     "output_type": "execute_result"
    }
   ],
   "source": [
    "df_logregr_model.model.iloc[0]"
   ]
  },
  {
   "cell_type": "markdown",
   "metadata": {},
   "source": [
    "### 학습된 PL/Python Logistic Regression 모형 정보 알아보기"
   ]
  },
  {
   "cell_type": "code",
   "execution_count": 46,
   "metadata": {},
   "outputs": [
    {
     "name": "stdout",
     "output_type": "stream",
     "text": [
      "Query started at 10:06:55 PM KST; Query executed in 0.00 m"
     ]
    },
    {
     "data": {
      "text/plain": [
       "<sql_magic.exceptions.EmptyResult at 0x1c214eb898>"
      ]
     },
     "execution_count": 46,
     "metadata": {},
     "output_type": "execute_result"
    }
   ],
   "source": [
    "%%read_sql\n",
    "DROP TYPE IF EXISTS {schema}.logregr_info_type CASCADE;\n",
    "CREATE TYPE {schema}.logregr_info_type AS\n",
    "    (\n",
    "        classes text[]\n",
    "        , coefficients text  -- float[]\n",
    "        , intercept float[]  -- float\n",
    "        , num_iteration integer[] -- integer\n",
    "    );\n",
    "    \n",
    "CREATE OR REPLACE FUNCTION {schema}.get_logregr_info(serialized_model bytea) \n",
    "RETURNS {schema}.logregr_info_type\n",
    "AS\n",
    "$$\n",
    "    import six\n",
    "    pickle = six.moves.cPickle\n",
    "\n",
    "    model = pickle.loads(serialized_model)\n",
    "\n",
    "    return [\n",
    "        model.classes_\n",
    "        , model.coef_\n",
    "        , model.intercept_\n",
    "        , model.n_iter_\n",
    "    ]\n",
    "$$ LANGUAGE plpythonu;"
   ]
  },
  {
   "cell_type": "code",
   "execution_count": 47,
   "metadata": {},
   "outputs": [
    {
     "name": "stdout",
     "output_type": "stream",
     "text": [
      "Query started at 10:06:55 PM KST; Query executed in 0.01 m"
     ]
    },
    {
     "data": {
      "text/html": [
       "<div>\n",
       "<style>\n",
       "    .dataframe thead tr:only-child th {\n",
       "        text-align: right;\n",
       "    }\n",
       "\n",
       "    .dataframe thead th {\n",
       "        text-align: left;\n",
       "    }\n",
       "\n",
       "    .dataframe tbody tr th {\n",
       "        vertical-align: top;\n",
       "    }\n",
       "</style>\n",
       "<table border=\"1\" class=\"dataframe\">\n",
       "  <thead>\n",
       "    <tr style=\"text-align: right;\">\n",
       "      <th></th>\n",
       "      <th>sex</th>\n",
       "      <th>serialized_on</th>\n",
       "      <th>classes</th>\n",
       "      <th>coefficients</th>\n",
       "      <th>intercept</th>\n",
       "      <th>num_iteration</th>\n",
       "    </tr>\n",
       "  </thead>\n",
       "  <tbody>\n",
       "    <tr>\n",
       "      <th>0</th>\n",
       "      <td>i</td>\n",
       "      <td>2019-03-19 13:06:54.646288+00:00</td>\n",
       "      <td>[0, 1]</td>\n",
       "      <td>[[4.68116309 2.08029988 3.39862849 5.41907203]]</td>\n",
       "      <td>[-4.67472529049597]</td>\n",
       "      <td>[24]</td>\n",
       "    </tr>\n",
       "    <tr>\n",
       "      <th>1</th>\n",
       "      <td>f</td>\n",
       "      <td>2019-03-19 13:06:54.646288+00:00</td>\n",
       "      <td>[0, 1]</td>\n",
       "      <td>[[1.85577066 0.34773593 0.62181754 4.05872651]]</td>\n",
       "      <td>[-0.637616035036213]</td>\n",
       "      <td>[25]</td>\n",
       "    </tr>\n",
       "    <tr>\n",
       "      <th>2</th>\n",
       "      <td>m</td>\n",
       "      <td>2019-03-19 13:06:54.646288+00:00</td>\n",
       "      <td>[0, 1]</td>\n",
       "      <td>[[2.40298441 1.29417537 0.64001324 5.72066943]]</td>\n",
       "      <td>[-1.68321887849787]</td>\n",
       "      <td>[20]</td>\n",
       "    </tr>\n",
       "  </tbody>\n",
       "</table>\n",
       "</div>"
      ],
      "text/plain": [
       "  sex                    serialized_on classes  \\\n",
       "0   i 2019-03-19 13:06:54.646288+00:00  [0, 1]   \n",
       "1   f 2019-03-19 13:06:54.646288+00:00  [0, 1]   \n",
       "2   m 2019-03-19 13:06:54.646288+00:00  [0, 1]   \n",
       "\n",
       "                                      coefficients             intercept  \\\n",
       "0  [[4.68116309 2.08029988 3.39862849 5.41907203]]   [-4.67472529049597]   \n",
       "1  [[1.85577066 0.34773593 0.62181754 4.05872651]]  [-0.637616035036213]   \n",
       "2  [[2.40298441 1.29417537 0.64001324 5.72066943]]   [-1.68321887849787]   \n",
       "\n",
       "  num_iteration  \n",
       "0          [24]  \n",
       "1          [25]  \n",
       "2          [20]  "
      ]
     },
     "execution_count": 47,
     "metadata": {},
     "output_type": "execute_result"
    }
   ],
   "source": [
    "%%read_sql df_logregr_info\n",
    "SELECT\n",
    "    sex\n",
    "    , serialized_on\n",
    "    , ({schema}.get_logregr_info(model)).*\n",
    "FROM {schema}.logregr_model;"
   ]
  },
  {
   "cell_type": "markdown",
   "metadata": {},
   "source": [
    "### PL/Python Logistic Regression 모델을 사용하여 In-Database에서 스코어링\n",
    "- 스코어링 사용자 정의 함수 생성"
   ]
  },
  {
   "cell_type": "code",
   "execution_count": 48,
   "metadata": {},
   "outputs": [
    {
     "name": "stdout",
     "output_type": "stream",
     "text": [
      "Query started at 10:06:55 PM KST; Query executed in 0.00 m"
     ]
    },
    {
     "data": {
      "text/plain": [
       "<sql_magic.exceptions.EmptyResult at 0x1c2164f7f0>"
      ]
     },
     "execution_count": 48,
     "metadata": {},
     "output_type": "execute_result"
    }
   ],
   "source": [
    "%%read_sql\n",
    "DROP FUNCTION IF EXISTS {schema}.sklearn_predict_1(serialized_model bytea, features float[]);\n",
    "CREATE OR REPLACE FUNCTION {schema}.sklearn_predict_1(serialized_model bytea, features float[]) \n",
    "RETURNS float\n",
    "LANGUAGE plpythonu\n",
    "AS\n",
    "$$\n",
    "def sklearn_predict_1(serialized_model, features):\n",
    "    \"\"\"\n",
    "    Predict a single record\n",
    "    \n",
    "    Input\n",
    "    - serialzied_model: string\n",
    "    - features: 1-dimensional array/list\n",
    "    \n",
    "    Returns: float\n",
    "    \"\"\"\n",
    "    # make sure that features is only 1-dimensional\n",
    "    assert not hasattr(features[0], '__len__')\n",
    "    \n",
    "    import six\n",
    "    pickle = six.moves.cPickle\n",
    "    \n",
    "    model = pickle.loads(serialized_model)\n",
    "    \n",
    "    result = model.predict_proba([features])\n",
    "    # 'result' is a 1x2 matrix\n",
    "    # The second column shows probability of the true class, \n",
    "    # which is what we want to return\n",
    "    return result[0, 1]\n",
    "\n",
    "return sklearn_predict_1(serialized_model, features)\n",
    "$$;"
   ]
  },
  {
   "cell_type": "markdown",
   "metadata": {},
   "source": [
    "- Cross join model with table to be scored"
   ]
  },
  {
   "cell_type": "code",
   "execution_count": 49,
   "metadata": {},
   "outputs": [
    {
     "name": "stdout",
     "output_type": "stream",
     "text": [
      "Query started at 10:06:55 PM KST; Query executed in 0.00 m"
     ]
    },
    {
     "data": {
      "text/plain": [
       "<sql_magic.exceptions.EmptyResult at 0x1c2164c898>"
      ]
     },
     "execution_count": 49,
     "metadata": {},
     "output_type": "execute_result"
    }
   ],
   "source": [
    "%%read_sql\n",
    "DROP TABLE IF EXISTS {schema}.abalone_logregr_test_proba;\n",
    "CREATE TABLE {schema}.abalone_logregr_test_proba \n",
    "AS \n",
    "SELECT \n",
    "    test.id\n",
    "    , test.sex\n",
    "    , test.mature\n",
    "    , {schema}.sklearn_predict_1(\n",
    "        model_table.model\n",
    "        , ARRAY[\n",
    "            length\n",
    "            , height\n",
    "            , shucked_weight\n",
    "            , shell_weight\n",
    "        ]\n",
    "    ) AS proba\n",
    "FROM\n",
    "    {schema}.abalone_classif_test AS test\n",
    "    , {schema}.logregr_model AS model_table\n",
    "WHERE test.sex = model_table.sex;"
   ]
  },
  {
   "cell_type": "code",
   "execution_count": 50,
   "metadata": {},
   "outputs": [
    {
     "name": "stdout",
     "output_type": "stream",
     "text": [
      "Query started at 10:06:55 PM KST; Query executed in 0.00 m"
     ]
    },
    {
     "data": {
      "text/html": [
       "<div>\n",
       "<style>\n",
       "    .dataframe thead tr:only-child th {\n",
       "        text-align: right;\n",
       "    }\n",
       "\n",
       "    .dataframe thead th {\n",
       "        text-align: left;\n",
       "    }\n",
       "\n",
       "    .dataframe tbody tr th {\n",
       "        vertical-align: top;\n",
       "    }\n",
       "</style>\n",
       "<table border=\"1\" class=\"dataframe\">\n",
       "  <thead>\n",
       "    <tr style=\"text-align: right;\">\n",
       "      <th></th>\n",
       "      <th>id</th>\n",
       "      <th>sex</th>\n",
       "      <th>mature</th>\n",
       "      <th>proba</th>\n",
       "    </tr>\n",
       "  </thead>\n",
       "  <tbody>\n",
       "    <tr>\n",
       "      <th>0</th>\n",
       "      <td>3</td>\n",
       "      <td>f</td>\n",
       "      <td>1</td>\n",
       "      <td>0.802931</td>\n",
       "    </tr>\n",
       "    <tr>\n",
       "      <th>1</th>\n",
       "      <td>4</td>\n",
       "      <td>m</td>\n",
       "      <td>1</td>\n",
       "      <td>0.636567</td>\n",
       "    </tr>\n",
       "    <tr>\n",
       "      <th>2</th>\n",
       "      <td>5</td>\n",
       "      <td>i</td>\n",
       "      <td>0</td>\n",
       "      <td>0.086172</td>\n",
       "    </tr>\n",
       "    <tr>\n",
       "      <th>3</th>\n",
       "      <td>10</td>\n",
       "      <td>f</td>\n",
       "      <td>1</td>\n",
       "      <td>0.873202</td>\n",
       "    </tr>\n",
       "    <tr>\n",
       "      <th>4</th>\n",
       "      <td>13</td>\n",
       "      <td>m</td>\n",
       "      <td>1</td>\n",
       "      <td>0.709939</td>\n",
       "    </tr>\n",
       "    <tr>\n",
       "      <th>5</th>\n",
       "      <td>16</td>\n",
       "      <td>m</td>\n",
       "      <td>1</td>\n",
       "      <td>0.772872</td>\n",
       "    </tr>\n",
       "    <tr>\n",
       "      <th>6</th>\n",
       "      <td>19</td>\n",
       "      <td>m</td>\n",
       "      <td>0</td>\n",
       "      <td>0.482895</td>\n",
       "    </tr>\n",
       "    <tr>\n",
       "      <th>7</th>\n",
       "      <td>34</td>\n",
       "      <td>f</td>\n",
       "      <td>1</td>\n",
       "      <td>0.954291</td>\n",
       "    </tr>\n",
       "    <tr>\n",
       "      <th>8</th>\n",
       "      <td>35</td>\n",
       "      <td>f</td>\n",
       "      <td>1</td>\n",
       "      <td>0.957817</td>\n",
       "    </tr>\n",
       "    <tr>\n",
       "      <th>9</th>\n",
       "      <td>42</td>\n",
       "      <td>f</td>\n",
       "      <td>1</td>\n",
       "      <td>0.852073</td>\n",
       "    </tr>\n",
       "  </tbody>\n",
       "</table>\n",
       "</div>"
      ],
      "text/plain": [
       "   id sex  mature     proba\n",
       "0   3   f       1  0.802931\n",
       "1   4   m       1  0.636567\n",
       "2   5   i       0  0.086172\n",
       "3  10   f       1  0.873202\n",
       "4  13   m       1  0.709939\n",
       "5  16   m       1  0.772872\n",
       "6  19   m       0  0.482895\n",
       "7  34   f       1  0.954291\n",
       "8  35   f       1  0.957817\n",
       "9  42   f       1  0.852073"
      ]
     },
     "execution_count": 50,
     "metadata": {},
     "output_type": "execute_result"
    }
   ],
   "source": [
    "%%read_sql\n",
    "SELECT * FROM {schema}.abalone_logregr_test_proba ORDER BY id LIMIT 10;"
   ]
  },
  {
   "cell_type": "markdown",
   "metadata": {},
   "source": [
    "- AUC (Area Under the Curve)"
   ]
  },
  {
   "cell_type": "code",
   "execution_count": 51,
   "metadata": {},
   "outputs": [
    {
     "name": "stdout",
     "output_type": "stream",
     "text": [
      "Query started at 10:06:56 PM KST; Query executed in 0.00 m"
     ]
    }
   ],
   "source": [
    "%%read_sql -d\n",
    "DROP TABLE IF EXISTS {schema}.abalone_logregr_test_auc CASCADE;\n",
    "SELECT madlib.area_under_roc(\n",
    "    '{schema}.abalone_logregr_test_proba' -- source table\n",
    "    , '{schema}.abalone_logregr_test_auc' -- output table\n",
    "    , 'proba'                             -- prediction column\n",
    "    , 'mature'                            -- observed column\n",
    ");"
   ]
  },
  {
   "cell_type": "code",
   "execution_count": 52,
   "metadata": {},
   "outputs": [
    {
     "name": "stdout",
     "output_type": "stream",
     "text": [
      "Query started at 10:06:56 PM KST; Query executed in 0.00 m"
     ]
    },
    {
     "data": {
      "text/html": [
       "<div>\n",
       "<style>\n",
       "    .dataframe thead tr:only-child th {\n",
       "        text-align: right;\n",
       "    }\n",
       "\n",
       "    .dataframe thead th {\n",
       "        text-align: left;\n",
       "    }\n",
       "\n",
       "    .dataframe tbody tr th {\n",
       "        vertical-align: top;\n",
       "    }\n",
       "</style>\n",
       "<table border=\"1\" class=\"dataframe\">\n",
       "  <thead>\n",
       "    <tr style=\"text-align: right;\">\n",
       "      <th></th>\n",
       "      <th>area_under_roc</th>\n",
       "    </tr>\n",
       "  </thead>\n",
       "  <tbody>\n",
       "    <tr>\n",
       "      <th>0</th>\n",
       "      <td>0.888558</td>\n",
       "    </tr>\n",
       "  </tbody>\n",
       "</table>\n",
       "</div>"
      ],
      "text/plain": [
       "   area_under_roc\n",
       "0        0.888558"
      ]
     },
     "execution_count": 52,
     "metadata": {},
     "output_type": "execute_result"
    }
   ],
   "source": [
    "%%read_sql\n",
    "SELECT * FROM {schema}.abalone_logregr_test_auc;"
   ]
  },
  {
   "cell_type": "markdown",
   "metadata": {},
   "source": [
    "- Confusion Matrix"
   ]
  },
  {
   "cell_type": "code",
   "execution_count": 53,
   "metadata": {},
   "outputs": [
    {
     "name": "stdout",
     "output_type": "stream",
     "text": [
      "Query started at 10:06:56 PM KST; Query executed in 0.00 m"
     ]
    },
    {
     "data": {
      "text/plain": [
       "<sql_magic.exceptions.EmptyResult at 0x1c21664d68>"
      ]
     },
     "execution_count": 53,
     "metadata": {},
     "output_type": "execute_result"
    }
   ],
   "source": [
    "%%read_sql\n",
    "DROP TABLE IF EXISTS {schema}.abalone_logregr_test_predict CASCADE;\n",
    "CREATE TABLE {schema}.abalone_logregr_test_predict AS \n",
    "    SELECT \n",
    "        (proba >= 0.5)::integer AS predicted\n",
    "        , mature\n",
    "    FROM {schema}.abalone_logregr_test_proba;"
   ]
  },
  {
   "cell_type": "code",
   "execution_count": 54,
   "metadata": {},
   "outputs": [
    {
     "name": "stdout",
     "output_type": "stream",
     "text": [
      "Query started at 10:06:56 PM KST; Query executed in 0.00 m"
     ]
    }
   ],
   "source": [
    "%%read_sql -d\n",
    "DROP TABLE IF EXISTS {schema}.abalone_logregr_test_conf_matrix CASCADE;\n",
    "SELECT madlib.confusion_matrix(\n",
    "    '{schema}.abalone_logregr_test_predict'       -- source table\n",
    "    , '{schema}.abalone_logregr_test_conf_matrix' -- output table\n",
    "    , 'predicted'                                 -- prediction column\n",
    "    , 'mature'                                    -- observation column\n",
    ");"
   ]
  },
  {
   "cell_type": "code",
   "execution_count": 55,
   "metadata": {},
   "outputs": [
    {
     "name": "stdout",
     "output_type": "stream",
     "text": [
      "Query started at 10:06:56 PM KST; Query executed in 0.00 m"
     ]
    },
    {
     "data": {
      "text/html": [
       "<div>\n",
       "<style>\n",
       "    .dataframe thead tr:only-child th {\n",
       "        text-align: right;\n",
       "    }\n",
       "\n",
       "    .dataframe thead th {\n",
       "        text-align: left;\n",
       "    }\n",
       "\n",
       "    .dataframe tbody tr th {\n",
       "        vertical-align: top;\n",
       "    }\n",
       "</style>\n",
       "<table border=\"1\" class=\"dataframe\">\n",
       "  <thead>\n",
       "    <tr style=\"text-align: right;\">\n",
       "      <th></th>\n",
       "      <th>class</th>\n",
       "      <th>predicted_0</th>\n",
       "      <th>predicted_1</th>\n",
       "    </tr>\n",
       "  </thead>\n",
       "  <tbody>\n",
       "    <tr>\n",
       "      <th>0</th>\n",
       "      <td>0</td>\n",
       "      <td>186.0</td>\n",
       "      <td>87.0</td>\n",
       "    </tr>\n",
       "    <tr>\n",
       "      <th>1</th>\n",
       "      <td>1</td>\n",
       "      <td>47.0</td>\n",
       "      <td>517.0</td>\n",
       "    </tr>\n",
       "  </tbody>\n",
       "</table>\n",
       "</div>"
      ],
      "text/plain": [
       "   class  predicted_0  predicted_1\n",
       "0      0        186.0         87.0\n",
       "1      1         47.0        517.0"
      ]
     },
     "execution_count": 55,
     "metadata": {},
     "output_type": "execute_result"
    }
   ],
   "source": [
    "%%read_sql\n",
    "SELECT class, confusion_arr[1] AS predicted_0, confusion_arr[2] AS predicted_1\n",
    "    FROM {schema}.abalone_logregr_test_conf_matrix\n",
    "    ORDER BY class;"
   ]
  },
  {
   "cell_type": "markdown",
   "metadata": {},
   "source": [
    "- ROC Curve"
   ]
  },
  {
   "cell_type": "code",
   "execution_count": 56,
   "metadata": {},
   "outputs": [
    {
     "name": "stdout",
     "output_type": "stream",
     "text": [
      "Query started at 10:06:56 PM KST; Query executed in 0.00 m"
     ]
    }
   ],
   "source": [
    "%%read_sql -d\n",
    "DROP TABLE IF EXISTS {schema}.abalone_logregr_test_binary_metrics CASCADE;\n",
    "SELECT madlib.binary_classifier(\n",
    "    '{schema}.abalone_logregr_test_proba'            -- source table\n",
    "    , '{schema}.abalone_logregr_test_binary_metrics' -- output table\n",
    "    , 'proba'                                        -- prediction column\n",
    "    , 'mature'                                       -- observation column\n",
    ");"
   ]
  },
  {
   "cell_type": "code",
   "execution_count": 57,
   "metadata": {},
   "outputs": [
    {
     "name": "stdout",
     "output_type": "stream",
     "text": [
      "Query started at 10:06:56 PM KST; Query executed in 0.00 m"
     ]
    }
   ],
   "source": [
    "%%read_sql -d logregr_metrics\n",
    "SELECT * \n",
    "    FROM {schema}.abalone_logregr_test_binary_metrics\n",
    "    ORDER BY threshold;"
   ]
  },
  {
   "cell_type": "code",
   "execution_count": 58,
   "metadata": {},
   "outputs": [],
   "source": [
    "def roc_curve_plot(fpr, tpr):\n",
    "    plt.plot(fpr, tpr, marker='o', color='b')\n",
    "    plt.title('ROC Curve')\n",
    "    plt.xlabel('False Positive Rate', fontsize=14)\n",
    "    plt.ylabel('True Positive Rate', fontsize=14)\n",
    "    plt.show()"
   ]
  },
  {
   "cell_type": "code",
   "execution_count": 59,
   "metadata": {},
   "outputs": [
    {
     "data": {
      "image/png": "[encoded data removed]",
      "text/plain": [
       "<matplotlib.figure.Figure at 0x1c2164f2e8>"
      ]
     },
     "metadata": {},
     "output_type": "display_data"
    }
   ],
   "source": [
    "fpr = logregr_metrics.fpr\n",
    "tpr = logregr_metrics.tpr\n",
    "\n",
    "roc_curve_plot(fpr, tpr)"
   ]
  },
  {
   "cell_type": "code",
   "execution_count": null,
   "metadata": {},
   "outputs": [],
   "source": []
  },
  {
   "cell_type": "markdown",
   "metadata": {},
   "source": [
    "## PL/Python - (2) Random Forest Classifier"
   ]
  },
  {
   "cell_type": "markdown",
   "metadata": {},
   "source": [
    "### Random Forest 사용자 정의 함수 생성"
   ]
  },
  {
   "cell_type": "code",
   "execution_count": 60,
   "metadata": {},
   "outputs": [
    {
     "name": "stdout",
     "output_type": "stream",
     "text": [
      "Query started at 10:06:57 PM KST; Query executed in 0.00 m"
     ]
    },
    {
     "data": {
      "text/plain": [
       "<sql_magic.exceptions.EmptyResult at 0x1c214ebcf8>"
      ]
     },
     "execution_count": 60,
     "metadata": {},
     "output_type": "execute_result"
    }
   ],
   "source": [
    "%%read_sql\n",
    "DROP FUNCTION IF EXISTS {schema}.rf_train(features float[][], targets integer[]);\n",
    "CREATE OR REPLACE FUNCTION {schema}.rf_train(features float[][], targets integer[])\n",
    "RETURNS bytea\n",
    "AS\n",
    "$$\n",
    "    def rf_train(features, targets):\n",
    "        \"\"\"\n",
    "        Training function for Random Forest\n",
    "\n",
    "        Inputs\n",
    "        - features: 2-dimensional array or list-of-lists\n",
    "        - targets: 1-dimensional array or list\n",
    "\n",
    "        Returns: serialized model as a string\n",
    "        \"\"\"\n",
    "        from sklearn.ensemble import RandomForestClassifier\n",
    "\n",
    "        import six\n",
    "        pickle = six.moves.cPickle\n",
    "\n",
    "        model = RandomForestClassifier()\n",
    "        model.fit(features, targets)\n",
    "\n",
    "        return pickle.dumps(model, protocol=2)\n",
    "\n",
    "    return rf_train(features, targets)\n",
    "$$\n",
    "LANGUAGE plpythonu;"
   ]
  },
  {
   "cell_type": "markdown",
   "metadata": {},
   "source": [
    "### PL/Python Random Forest 모델을 In-Database에서 training"
   ]
  },
  {
   "cell_type": "code",
   "execution_count": 61,
   "metadata": {},
   "outputs": [
    {
     "name": "stdout",
     "output_type": "stream",
     "text": [
      "Query started at 10:06:57 PM KST; Query executed in 0.01 m"
     ]
    },
    {
     "data": {
      "text/plain": [
       "<sql_magic.exceptions.EmptyResult at 0x1c21688ac8>"
      ]
     },
     "execution_count": 61,
     "metadata": {},
     "output_type": "execute_result"
    }
   ],
   "source": [
    "%%read_sql\n",
    "DROP TABLE IF EXISTS {schema}.rf_model CASCADE;\n",
    "CREATE TABLE {schema}.rf_model AS \n",
    "    SELECT \n",
    "        sex\n",
    "        , {schema}.rf_train(feature_arr, y_arr) AS model\n",
    "        , now() AS serialized_on\n",
    "        FROM {schema}.abalone_train_agg\n",
    "            GROUP BY sex, model;"
   ]
  },
  {
   "cell_type": "code",
   "execution_count": 62,
   "metadata": {},
   "outputs": [
    {
     "name": "stdout",
     "output_type": "stream",
     "text": [
      "Query started at 10:06:57 PM KST; Query executed in 0.00 m"
     ]
    },
    {
     "data": {
      "text/html": [
       "<div>\n",
       "<style>\n",
       "    .dataframe thead tr:only-child th {\n",
       "        text-align: right;\n",
       "    }\n",
       "\n",
       "    .dataframe thead th {\n",
       "        text-align: left;\n",
       "    }\n",
       "\n",
       "    .dataframe tbody tr th {\n",
       "        vertical-align: top;\n",
       "    }\n",
       "</style>\n",
       "<table border=\"1\" class=\"dataframe\">\n",
       "  <thead>\n",
       "    <tr style=\"text-align: right;\">\n",
       "      <th></th>\n",
       "      <th>sex</th>\n",
       "      <th>serialized_on</th>\n",
       "      <th>length</th>\n",
       "      <th>model</th>\n",
       "    </tr>\n",
       "  </thead>\n",
       "  <tbody>\n",
       "    <tr>\n",
       "      <th>0</th>\n",
       "      <td>i</td>\n",
       "      <td>2019-03-19 13:06:57.381155+00:00</td>\n",
       "      <td>209907</td>\n",
       "      <td>\\200\\002csklearn.ensemble.forest\\012RandomFore...</td>\n",
       "    </tr>\n",
       "    <tr>\n",
       "      <th>1</th>\n",
       "      <td>f</td>\n",
       "      <td>2019-03-19 13:06:57.381155+00:00</td>\n",
       "      <td>182670</td>\n",
       "      <td>\\200\\002csklearn.ensemble.forest\\012RandomFore...</td>\n",
       "    </tr>\n",
       "    <tr>\n",
       "      <th>2</th>\n",
       "      <td>m</td>\n",
       "      <td>2019-03-19 13:06:57.381155+00:00</td>\n",
       "      <td>215955</td>\n",
       "      <td>\\200\\002csklearn.ensemble.forest\\012RandomFore...</td>\n",
       "    </tr>\n",
       "  </tbody>\n",
       "</table>\n",
       "</div>"
      ],
      "text/plain": [
       "  sex                    serialized_on  length  \\\n",
       "0   i 2019-03-19 13:06:57.381155+00:00  209907   \n",
       "1   f 2019-03-19 13:06:57.381155+00:00  182670   \n",
       "2   m 2019-03-19 13:06:57.381155+00:00  215955   \n",
       "\n",
       "                                               model  \n",
       "0  \\200\\002csklearn.ensemble.forest\\012RandomFore...  \n",
       "1  \\200\\002csklearn.ensemble.forest\\012RandomFore...  \n",
       "2  \\200\\002csklearn.ensemble.forest\\012RandomFore...  "
      ]
     },
     "execution_count": 62,
     "metadata": {},
     "output_type": "execute_result"
    }
   ],
   "source": [
    "%%read_sql df_rf_model\n",
    "SELECT \n",
    "    sex\n",
    "    , serialized_on\n",
    "    , length(model)\n",
    "    , model::text\n",
    "    FROM {schema}.rf_model;"
   ]
  },
  {
   "cell_type": "markdown",
   "metadata": {},
   "source": [
    "### Random Forest Model 정보 얻기"
   ]
  },
  {
   "cell_type": "code",
   "execution_count": 63,
   "metadata": {},
   "outputs": [
    {
     "name": "stdout",
     "output_type": "stream",
     "text": [
      "Query started at 10:06:58 PM KST; Query executed in 0.00 m"
     ]
    },
    {
     "data": {
      "text/plain": [
       "<sql_magic.exceptions.EmptyResult at 0x1c21676f60>"
      ]
     },
     "execution_count": 63,
     "metadata": {},
     "output_type": "execute_result"
    }
   ],
   "source": [
    "%%read_sql\n",
    "DROP TYPE IF EXISTS {schema}.rf_info CASCADE;\n",
    "CREATE TYPE {schema}.rf_info AS \n",
    "    (\n",
    "        classes text[]\n",
    "        , max_depth integer\n",
    "        , n_estimators integer\n",
    "        , feature_importances float[]\n",
    "    )\n",
    ";"
   ]
  },
  {
   "cell_type": "code",
   "execution_count": 64,
   "metadata": {},
   "outputs": [
    {
     "name": "stdout",
     "output_type": "stream",
     "text": [
      "Query started at 10:06:58 PM KST; Query executed in 0.00 m"
     ]
    },
    {
     "data": {
      "text/plain": [
       "<sql_magic.exceptions.EmptyResult at 0x1c2167d2e8>"
      ]
     },
     "execution_count": 64,
     "metadata": {},
     "output_type": "execute_result"
    }
   ],
   "source": [
    "%%read_sql\n",
    "CREATE OR REPLACE FUNCTION {schema}.get_rf_info(serialized_model bytea)\n",
    "RETURNS {schema}.rf_info\n",
    "AS\n",
    "$$\n",
    "    import six\n",
    "    pickle = six.moves.cPickle\n",
    "\n",
    "    model = pickle.loads(serialized_model)\n",
    "\n",
    "    return [\n",
    "        model.classes_\n",
    "        , model.max_depth\n",
    "        , model.n_estimators\n",
    "        , model.feature_importances_\n",
    "    ]\n",
    "$$ LANGUAGE plpythonu;"
   ]
  },
  {
   "cell_type": "code",
   "execution_count": 65,
   "metadata": {},
   "outputs": [
    {
     "name": "stdout",
     "output_type": "stream",
     "text": [
      "Query started at 10:06:58 PM KST; Query executed in 0.00 m"
     ]
    },
    {
     "data": {
      "text/html": [
       "<div>\n",
       "<style>\n",
       "    .dataframe thead tr:only-child th {\n",
       "        text-align: right;\n",
       "    }\n",
       "\n",
       "    .dataframe thead th {\n",
       "        text-align: left;\n",
       "    }\n",
       "\n",
       "    .dataframe tbody tr th {\n",
       "        vertical-align: top;\n",
       "    }\n",
       "</style>\n",
       "<table border=\"1\" class=\"dataframe\">\n",
       "  <thead>\n",
       "    <tr style=\"text-align: right;\">\n",
       "      <th></th>\n",
       "      <th>sex</th>\n",
       "      <th>serialized_on</th>\n",
       "      <th>classes</th>\n",
       "      <th>max_depth</th>\n",
       "      <th>n_estimators</th>\n",
       "      <th>feature_importances</th>\n",
       "    </tr>\n",
       "  </thead>\n",
       "  <tbody>\n",
       "    <tr>\n",
       "      <th>0</th>\n",
       "      <td>i</td>\n",
       "      <td>2019-03-19 13:06:57.381155+00:00</td>\n",
       "      <td>[0, 1]</td>\n",
       "      <td>None</td>\n",
       "      <td>10</td>\n",
       "      <td>[0.218535443443819, 0.222423521977185, 0.17174...</td>\n",
       "    </tr>\n",
       "    <tr>\n",
       "      <th>1</th>\n",
       "      <td>f</td>\n",
       "      <td>2019-03-19 13:06:57.381155+00:00</td>\n",
       "      <td>[0, 1]</td>\n",
       "      <td>None</td>\n",
       "      <td>10</td>\n",
       "      <td>[0.200510367937407, 0.143332760126333, 0.30465...</td>\n",
       "    </tr>\n",
       "    <tr>\n",
       "      <th>2</th>\n",
       "      <td>m</td>\n",
       "      <td>2019-03-19 13:06:57.381155+00:00</td>\n",
       "      <td>[0, 1]</td>\n",
       "      <td>None</td>\n",
       "      <td>10</td>\n",
       "      <td>[0.242566539902911, 0.123832723975099, 0.26487...</td>\n",
       "    </tr>\n",
       "  </tbody>\n",
       "</table>\n",
       "</div>"
      ],
      "text/plain": [
       "  sex                    serialized_on classes max_depth  n_estimators  \\\n",
       "0   i 2019-03-19 13:06:57.381155+00:00  [0, 1]      None            10   \n",
       "1   f 2019-03-19 13:06:57.381155+00:00  [0, 1]      None            10   \n",
       "2   m 2019-03-19 13:06:57.381155+00:00  [0, 1]      None            10   \n",
       "\n",
       "                                 feature_importances  \n",
       "0  [0.218535443443819, 0.222423521977185, 0.17174...  \n",
       "1  [0.200510367937407, 0.143332760126333, 0.30465...  \n",
       "2  [0.242566539902911, 0.123832723975099, 0.26487...  "
      ]
     },
     "execution_count": 65,
     "metadata": {},
     "output_type": "execute_result"
    }
   ],
   "source": [
    "%%read_sql df_rf_info\n",
    "SELECT \n",
    "    sex\n",
    "    , serialized_on\n",
    "    , ({schema}.get_rf_info(model)).*\n",
    "FROM {schema}.rf_model;"
   ]
  },
  {
   "cell_type": "code",
   "execution_count": 66,
   "metadata": {},
   "outputs": [
    {
     "data": {
      "text/html": [
       "<div>\n",
       "<style>\n",
       "    .dataframe thead tr:only-child th {\n",
       "        text-align: right;\n",
       "    }\n",
       "\n",
       "    .dataframe thead th {\n",
       "        text-align: left;\n",
       "    }\n",
       "\n",
       "    .dataframe tbody tr th {\n",
       "        vertical-align: top;\n",
       "    }\n",
       "</style>\n",
       "<table border=\"1\" class=\"dataframe\">\n",
       "  <thead>\n",
       "    <tr style=\"text-align: right;\">\n",
       "      <th></th>\n",
       "      <th>feature</th>\n",
       "      <th>feature_importance_f</th>\n",
       "      <th>feature_importance_i</th>\n",
       "      <th>feature_importance_m</th>\n",
       "    </tr>\n",
       "  </thead>\n",
       "  <tbody>\n",
       "    <tr>\n",
       "      <th>0</th>\n",
       "      <td>length</td>\n",
       "      <td>0.200510</td>\n",
       "      <td>0.218535</td>\n",
       "      <td>0.242567</td>\n",
       "    </tr>\n",
       "    <tr>\n",
       "      <th>1</th>\n",
       "      <td>height</td>\n",
       "      <td>0.143333</td>\n",
       "      <td>0.222424</td>\n",
       "      <td>0.123833</td>\n",
       "    </tr>\n",
       "    <tr>\n",
       "      <th>2</th>\n",
       "      <td>shucked_weight</td>\n",
       "      <td>0.304660</td>\n",
       "      <td>0.171747</td>\n",
       "      <td>0.264871</td>\n",
       "    </tr>\n",
       "    <tr>\n",
       "      <th>3</th>\n",
       "      <td>shell_weight</td>\n",
       "      <td>0.351497</td>\n",
       "      <td>0.387294</td>\n",
       "      <td>0.368730</td>\n",
       "    </tr>\n",
       "  </tbody>\n",
       "</table>\n",
       "</div>"
      ],
      "text/plain": [
       "          feature  feature_importance_f  feature_importance_i  \\\n",
       "0          length              0.200510              0.218535   \n",
       "1          height              0.143333              0.222424   \n",
       "2  shucked_weight              0.304660              0.171747   \n",
       "3    shell_weight              0.351497              0.387294   \n",
       "\n",
       "   feature_importance_m  \n",
       "0              0.242567  \n",
       "1              0.123833  \n",
       "2              0.264871  \n",
       "3              0.368730  "
      ]
     },
     "execution_count": 66,
     "metadata": {},
     "output_type": "execute_result"
    }
   ],
   "source": [
    "feature_importance = pd.DataFrame({\n",
    "    'feature' : ['length', 'height', 'shucked_weight', 'shell_weight'], \n",
    "    'feature_importance_i': df_rf_info.feature_importances[0],\n",
    "    'feature_importance_f': df_rf_info.feature_importances[1],\n",
    "    'feature_importance_m': df_rf_info.feature_importances[2]});\n",
    "\n",
    "feature_importance"
   ]
  },
  {
   "cell_type": "markdown",
   "metadata": {},
   "source": [
    "### PL/Python Random Forest모델로 Test set에 대해 성능 평가"
   ]
  },
  {
   "cell_type": "code",
   "execution_count": 67,
   "metadata": {},
   "outputs": [
    {
     "name": "stdout",
     "output_type": "stream",
     "text": [
      "Query started at 10:06:58 PM KST; Query executed in 0.02 m"
     ]
    },
    {
     "data": {
      "text/plain": [
       "<sql_magic.exceptions.EmptyResult at 0x1c2168cdd8>"
      ]
     },
     "execution_count": 67,
     "metadata": {},
     "output_type": "execute_result"
    }
   ],
   "source": [
    "%%read_sql\n",
    "DROP TABLE IF EXISTS {schema}.abalone_rf_test_proba CASCADE;\n",
    "CREATE TABLE {schema}.abalone_rf_test_proba AS \n",
    "    SELECT \n",
    "        test.id\n",
    "        , test.sex\n",
    "        , test.mature\n",
    "        , {schema}.sklearn_predict_1(\n",
    "            model_table.model\n",
    "            , ARRAY[\n",
    "                length\n",
    "                , height\n",
    "                , shucked_weight\n",
    "                , shell_weight\n",
    "            ]\n",
    "        ) AS proba\n",
    "    FROM \n",
    "        {schema}.abalone_classif_test AS test\n",
    "        , {schema}.rf_model AS model_table\n",
    "    WHERE test.sex = model_table.sex;"
   ]
  },
  {
   "cell_type": "code",
   "execution_count": 68,
   "metadata": {},
   "outputs": [
    {
     "name": "stdout",
     "output_type": "stream",
     "text": [
      "Query started at 10:06:59 PM KST; Query executed in 0.00 m"
     ]
    },
    {
     "data": {
      "text/html": [
       "<div>\n",
       "<style>\n",
       "    .dataframe thead tr:only-child th {\n",
       "        text-align: right;\n",
       "    }\n",
       "\n",
       "    .dataframe thead th {\n",
       "        text-align: left;\n",
       "    }\n",
       "\n",
       "    .dataframe tbody tr th {\n",
       "        vertical-align: top;\n",
       "    }\n",
       "</style>\n",
       "<table border=\"1\" class=\"dataframe\">\n",
       "  <thead>\n",
       "    <tr style=\"text-align: right;\">\n",
       "      <th></th>\n",
       "      <th>id</th>\n",
       "      <th>sex</th>\n",
       "      <th>mature</th>\n",
       "      <th>proba</th>\n",
       "    </tr>\n",
       "  </thead>\n",
       "  <tbody>\n",
       "    <tr>\n",
       "      <th>0</th>\n",
       "      <td>3981</td>\n",
       "      <td>f</td>\n",
       "      <td>0</td>\n",
       "      <td>0.4</td>\n",
       "    </tr>\n",
       "    <tr>\n",
       "      <th>1</th>\n",
       "      <td>3841</td>\n",
       "      <td>f</td>\n",
       "      <td>1</td>\n",
       "      <td>0.9</td>\n",
       "    </tr>\n",
       "    <tr>\n",
       "      <th>2</th>\n",
       "      <td>3733</td>\n",
       "      <td>f</td>\n",
       "      <td>1</td>\n",
       "      <td>0.7</td>\n",
       "    </tr>\n",
       "    <tr>\n",
       "      <th>3</th>\n",
       "      <td>3454</td>\n",
       "      <td>f</td>\n",
       "      <td>0</td>\n",
       "      <td>0.8</td>\n",
       "    </tr>\n",
       "    <tr>\n",
       "      <th>4</th>\n",
       "      <td>3153</td>\n",
       "      <td>f</td>\n",
       "      <td>1</td>\n",
       "      <td>0.4</td>\n",
       "    </tr>\n",
       "    <tr>\n",
       "      <th>5</th>\n",
       "      <td>3083</td>\n",
       "      <td>f</td>\n",
       "      <td>1</td>\n",
       "      <td>1.0</td>\n",
       "    </tr>\n",
       "    <tr>\n",
       "      <th>6</th>\n",
       "      <td>4113</td>\n",
       "      <td>f</td>\n",
       "      <td>1</td>\n",
       "      <td>0.8</td>\n",
       "    </tr>\n",
       "    <tr>\n",
       "      <th>7</th>\n",
       "      <td>3883</td>\n",
       "      <td>f</td>\n",
       "      <td>1</td>\n",
       "      <td>1.0</td>\n",
       "    </tr>\n",
       "    <tr>\n",
       "      <th>8</th>\n",
       "      <td>3823</td>\n",
       "      <td>f</td>\n",
       "      <td>1</td>\n",
       "      <td>0.9</td>\n",
       "    </tr>\n",
       "    <tr>\n",
       "      <th>9</th>\n",
       "      <td>3704</td>\n",
       "      <td>f</td>\n",
       "      <td>1</td>\n",
       "      <td>1.0</td>\n",
       "    </tr>\n",
       "  </tbody>\n",
       "</table>\n",
       "</div>"
      ],
      "text/plain": [
       "     id sex  mature  proba\n",
       "0  3981   f       0    0.4\n",
       "1  3841   f       1    0.9\n",
       "2  3733   f       1    0.7\n",
       "3  3454   f       0    0.8\n",
       "4  3153   f       1    0.4\n",
       "5  3083   f       1    1.0\n",
       "6  4113   f       1    0.8\n",
       "7  3883   f       1    1.0\n",
       "8  3823   f       1    0.9\n",
       "9  3704   f       1    1.0"
      ]
     },
     "execution_count": 68,
     "metadata": {},
     "output_type": "execute_result"
    }
   ],
   "source": [
    "%%read_sql\n",
    "SELECT * FROM {schema}.abalone_rf_test_proba LIMIT 10;"
   ]
  },
  {
   "cell_type": "code",
   "execution_count": 69,
   "metadata": {},
   "outputs": [
    {
     "name": "stdout",
     "output_type": "stream",
     "text": [
      "Query started at 10:06:59 PM KST; Query executed in 0.00 m"
     ]
    },
    {
     "data": {
      "text/plain": [
       "<sql_magic.exceptions.EmptyResult at 0x1c216888d0>"
      ]
     },
     "execution_count": 69,
     "metadata": {},
     "output_type": "execute_result"
    }
   ],
   "source": [
    "%%read_sql\n",
    "DROP TABLE IF EXISTS {schema}.abalone_rf_test_predict;\n",
    "CREATE TABLE {schema}.abalone_rf_test_predict AS \n",
    "    SELECT \n",
    "        test.id\n",
    "        , test.sex\n",
    "        , prob.proba\n",
    "        , (prob.proba >= 0.5)::integer AS predicted_class\n",
    "        , test.mature AS actual_class\n",
    "    FROM {schema}.abalone_rf_test_proba prob\n",
    "    INNER JOIN {schema}.abalone_classif_test test \n",
    "    ON prob.id = test.id;"
   ]
  },
  {
   "cell_type": "code",
   "execution_count": 70,
   "metadata": {},
   "outputs": [
    {
     "name": "stdout",
     "output_type": "stream",
     "text": [
      "Query started at 10:06:59 PM KST; Query executed in 0.00 m"
     ]
    },
    {
     "data": {
      "text/html": [
       "<div>\n",
       "<style>\n",
       "    .dataframe thead tr:only-child th {\n",
       "        text-align: right;\n",
       "    }\n",
       "\n",
       "    .dataframe thead th {\n",
       "        text-align: left;\n",
       "    }\n",
       "\n",
       "    .dataframe tbody tr th {\n",
       "        vertical-align: top;\n",
       "    }\n",
       "</style>\n",
       "<table border=\"1\" class=\"dataframe\">\n",
       "  <thead>\n",
       "    <tr style=\"text-align: right;\">\n",
       "      <th></th>\n",
       "      <th>id</th>\n",
       "      <th>sex</th>\n",
       "      <th>proba</th>\n",
       "      <th>predicted_class</th>\n",
       "      <th>actual_class</th>\n",
       "    </tr>\n",
       "  </thead>\n",
       "  <tbody>\n",
       "    <tr>\n",
       "      <th>0</th>\n",
       "      <td>4075</td>\n",
       "      <td>i</td>\n",
       "      <td>0.3</td>\n",
       "      <td>0</td>\n",
       "      <td>0</td>\n",
       "    </tr>\n",
       "    <tr>\n",
       "      <th>1</th>\n",
       "      <td>4130</td>\n",
       "      <td>i</td>\n",
       "      <td>0.9</td>\n",
       "      <td>1</td>\n",
       "      <td>1</td>\n",
       "    </tr>\n",
       "    <tr>\n",
       "      <th>2</th>\n",
       "      <td>3688</td>\n",
       "      <td>i</td>\n",
       "      <td>1.0</td>\n",
       "      <td>1</td>\n",
       "      <td>1</td>\n",
       "    </tr>\n",
       "    <tr>\n",
       "      <th>3</th>\n",
       "      <td>3645</td>\n",
       "      <td>i</td>\n",
       "      <td>0.2</td>\n",
       "      <td>0</td>\n",
       "      <td>0</td>\n",
       "    </tr>\n",
       "    <tr>\n",
       "      <th>4</th>\n",
       "      <td>3748</td>\n",
       "      <td>i</td>\n",
       "      <td>0.1</td>\n",
       "      <td>0</td>\n",
       "      <td>0</td>\n",
       "    </tr>\n",
       "    <tr>\n",
       "      <th>5</th>\n",
       "      <td>3602</td>\n",
       "      <td>i</td>\n",
       "      <td>0.0</td>\n",
       "      <td>0</td>\n",
       "      <td>0</td>\n",
       "    </tr>\n",
       "    <tr>\n",
       "      <th>6</th>\n",
       "      <td>3541</td>\n",
       "      <td>i</td>\n",
       "      <td>0.2</td>\n",
       "      <td>0</td>\n",
       "      <td>0</td>\n",
       "    </tr>\n",
       "    <tr>\n",
       "      <th>7</th>\n",
       "      <td>3529</td>\n",
       "      <td>i</td>\n",
       "      <td>0.0</td>\n",
       "      <td>0</td>\n",
       "      <td>0</td>\n",
       "    </tr>\n",
       "    <tr>\n",
       "      <th>8</th>\n",
       "      <td>4152</td>\n",
       "      <td>i</td>\n",
       "      <td>0.0</td>\n",
       "      <td>0</td>\n",
       "      <td>0</td>\n",
       "    </tr>\n",
       "    <tr>\n",
       "      <th>9</th>\n",
       "      <td>4083</td>\n",
       "      <td>i</td>\n",
       "      <td>0.9</td>\n",
       "      <td>1</td>\n",
       "      <td>1</td>\n",
       "    </tr>\n",
       "  </tbody>\n",
       "</table>\n",
       "</div>"
      ],
      "text/plain": [
       "     id sex  proba  predicted_class  actual_class\n",
       "0  4075   i    0.3                0             0\n",
       "1  4130   i    0.9                1             1\n",
       "2  3688   i    1.0                1             1\n",
       "3  3645   i    0.2                0             0\n",
       "4  3748   i    0.1                0             0\n",
       "5  3602   i    0.0                0             0\n",
       "6  3541   i    0.2                0             0\n",
       "7  3529   i    0.0                0             0\n",
       "8  4152   i    0.0                0             0\n",
       "9  4083   i    0.9                1             1"
      ]
     },
     "execution_count": 70,
     "metadata": {},
     "output_type": "execute_result"
    }
   ],
   "source": [
    "%%read_sql\n",
    "SELECT * FROM {schema}.abalone_rf_test_predict LIMIT 10;"
   ]
  },
  {
   "cell_type": "markdown",
   "metadata": {},
   "source": [
    "- **Confusion Matrix**"
   ]
  },
  {
   "cell_type": "code",
   "execution_count": 71,
   "metadata": {},
   "outputs": [
    {
     "name": "stdout",
     "output_type": "stream",
     "text": [
      "Query started at 10:06:59 PM KST; Query executed in 0.00 m"
     ]
    }
   ],
   "source": [
    "%%read_sql -d\n",
    "DROP TABLE IF EXISTS {schema}.abalone_rf_test_conf_matrix CASCADE;\n",
    "SELECT madlib.confusion_matrix(\n",
    "    '{schema}.abalone_rf_test_predict'       -- source table\n",
    "    , '{schema}.abalone_rf_test_conf_matrix' -- output table\n",
    "    , 'predicted_class'                      -- predicted column\n",
    "    , 'actual_class'                         -- observed column\n",
    ");"
   ]
  },
  {
   "cell_type": "code",
   "execution_count": 72,
   "metadata": {},
   "outputs": [
    {
     "name": "stdout",
     "output_type": "stream",
     "text": [
      "Query started at 10:07:00 PM KST; Query executed in 0.00 m"
     ]
    },
    {
     "data": {
      "text/html": [
       "<div>\n",
       "<style>\n",
       "    .dataframe thead tr:only-child th {\n",
       "        text-align: right;\n",
       "    }\n",
       "\n",
       "    .dataframe thead th {\n",
       "        text-align: left;\n",
       "    }\n",
       "\n",
       "    .dataframe tbody tr th {\n",
       "        vertical-align: top;\n",
       "    }\n",
       "</style>\n",
       "<table border=\"1\" class=\"dataframe\">\n",
       "  <thead>\n",
       "    <tr style=\"text-align: right;\">\n",
       "      <th></th>\n",
       "      <th>row_id</th>\n",
       "      <th>class</th>\n",
       "      <th>confusion_arr</th>\n",
       "    </tr>\n",
       "  </thead>\n",
       "  <tbody>\n",
       "    <tr>\n",
       "      <th>0</th>\n",
       "      <td>2</td>\n",
       "      <td>1</td>\n",
       "      <td>[58, 506]</td>\n",
       "    </tr>\n",
       "    <tr>\n",
       "      <th>1</th>\n",
       "      <td>1</td>\n",
       "      <td>0</td>\n",
       "      <td>[192, 81]</td>\n",
       "    </tr>\n",
       "  </tbody>\n",
       "</table>\n",
       "</div>"
      ],
      "text/plain": [
       "   row_id  class confusion_arr\n",
       "0       2      1     [58, 506]\n",
       "1       1      0     [192, 81]"
      ]
     },
     "execution_count": 72,
     "metadata": {},
     "output_type": "execute_result"
    }
   ],
   "source": [
    "%%read_sql\n",
    "SELECT * FROM {schema}.abalone_rf_test_conf_matrix;"
   ]
  },
  {
   "cell_type": "code",
   "execution_count": 73,
   "metadata": {},
   "outputs": [
    {
     "name": "stdout",
     "output_type": "stream",
     "text": [
      "Query started at 10:07:00 PM KST; Query executed in 0.00 m"
     ]
    },
    {
     "data": {
      "text/html": [
       "<div>\n",
       "<style>\n",
       "    .dataframe thead tr:only-child th {\n",
       "        text-align: right;\n",
       "    }\n",
       "\n",
       "    .dataframe thead th {\n",
       "        text-align: left;\n",
       "    }\n",
       "\n",
       "    .dataframe tbody tr th {\n",
       "        vertical-align: top;\n",
       "    }\n",
       "</style>\n",
       "<table border=\"1\" class=\"dataframe\">\n",
       "  <thead>\n",
       "    <tr style=\"text-align: right;\">\n",
       "      <th></th>\n",
       "      <th>class</th>\n",
       "      <th>predicted_0</th>\n",
       "      <th>predicted_1</th>\n",
       "    </tr>\n",
       "  </thead>\n",
       "  <tbody>\n",
       "    <tr>\n",
       "      <th>0</th>\n",
       "      <td>0</td>\n",
       "      <td>192.0</td>\n",
       "      <td>81.0</td>\n",
       "    </tr>\n",
       "    <tr>\n",
       "      <th>1</th>\n",
       "      <td>1</td>\n",
       "      <td>58.0</td>\n",
       "      <td>506.0</td>\n",
       "    </tr>\n",
       "  </tbody>\n",
       "</table>\n",
       "</div>"
      ],
      "text/plain": [
       "   class  predicted_0  predicted_1\n",
       "0      0        192.0         81.0\n",
       "1      1         58.0        506.0"
      ]
     },
     "execution_count": 73,
     "metadata": {},
     "output_type": "execute_result"
    }
   ],
   "source": [
    "%%read_sql\n",
    "SELECT class\n",
    "    , confusion_arr[1] AS predicted_0\n",
    "    , confusion_arr[2] AS predicted_1\n",
    "    FROM {schema}.abalone_rf_test_conf_matrix\n",
    "    ORDER BY class;"
   ]
  },
  {
   "cell_type": "markdown",
   "metadata": {},
   "source": [
    "- **ROC Curve**"
   ]
  },
  {
   "cell_type": "code",
   "execution_count": 74,
   "metadata": {},
   "outputs": [
    {
     "name": "stdout",
     "output_type": "stream",
     "text": [
      "Query started at 10:07:00 PM KST; Query executed in 0.00 m"
     ]
    }
   ],
   "source": [
    "%%read_sql -d\n",
    "DROP TABLE IF EXISTS {schema}.abalone_rf_test_binary_metrics;\n",
    "SELECT madlib.binary_classifier(\n",
    "    '{schema}.abalone_rf_test_predict'          -- source table\n",
    "    , '{schema}.abalone_rf_test_binary_metrics' -- output table\n",
    "    , 'proba'                        -- predicted_class\n",
    "    , 'actual_class'                            -- actual_class\n",
    ");"
   ]
  },
  {
   "cell_type": "code",
   "execution_count": 75,
   "metadata": {},
   "outputs": [
    {
     "name": "stdout",
     "output_type": "stream",
     "text": [
      "Query started at 10:07:00 PM KST; Query executed in 0.00 m"
     ]
    },
    {
     "data": {
      "text/html": [
       "<div>\n",
       "<style>\n",
       "    .dataframe thead tr:only-child th {\n",
       "        text-align: right;\n",
       "    }\n",
       "\n",
       "    .dataframe thead th {\n",
       "        text-align: left;\n",
       "    }\n",
       "\n",
       "    .dataframe tbody tr th {\n",
       "        vertical-align: top;\n",
       "    }\n",
       "</style>\n",
       "<table border=\"1\" class=\"dataframe\">\n",
       "  <thead>\n",
       "    <tr style=\"text-align: right;\">\n",
       "      <th></th>\n",
       "      <th>threshold</th>\n",
       "      <th>tp</th>\n",
       "      <th>fp</th>\n",
       "      <th>fn</th>\n",
       "      <th>tn</th>\n",
       "      <th>tpr</th>\n",
       "      <th>tnr</th>\n",
       "      <th>ppv</th>\n",
       "      <th>npv</th>\n",
       "      <th>fpr</th>\n",
       "      <th>fdr</th>\n",
       "      <th>fnr</th>\n",
       "      <th>acc</th>\n",
       "      <th>f1</th>\n",
       "    </tr>\n",
       "  </thead>\n",
       "  <tbody>\n",
       "    <tr>\n",
       "      <th>0</th>\n",
       "      <td>0.0</td>\n",
       "      <td>564.0</td>\n",
       "      <td>273.0</td>\n",
       "      <td>0.0</td>\n",
       "      <td>0.0</td>\n",
       "      <td>1.000000</td>\n",
       "      <td>0.000000</td>\n",
       "      <td>0.673835</td>\n",
       "      <td>NaN</td>\n",
       "      <td>1.000000</td>\n",
       "      <td>0.326165</td>\n",
       "      <td>0.000000</td>\n",
       "      <td>0.673835</td>\n",
       "      <td>0.805139</td>\n",
       "    </tr>\n",
       "    <tr>\n",
       "      <th>1</th>\n",
       "      <td>0.1</td>\n",
       "      <td>553.0</td>\n",
       "      <td>168.0</td>\n",
       "      <td>11.0</td>\n",
       "      <td>105.0</td>\n",
       "      <td>0.980496</td>\n",
       "      <td>0.384615</td>\n",
       "      <td>0.766990</td>\n",
       "      <td>0.905172</td>\n",
       "      <td>0.615385</td>\n",
       "      <td>0.233010</td>\n",
       "      <td>0.019504</td>\n",
       "      <td>0.786141</td>\n",
       "      <td>0.860700</td>\n",
       "    </tr>\n",
       "    <tr>\n",
       "      <th>2</th>\n",
       "      <td>0.2</td>\n",
       "      <td>548.0</td>\n",
       "      <td>142.0</td>\n",
       "      <td>16.0</td>\n",
       "      <td>131.0</td>\n",
       "      <td>0.971631</td>\n",
       "      <td>0.479853</td>\n",
       "      <td>0.794203</td>\n",
       "      <td>0.891156</td>\n",
       "      <td>0.520147</td>\n",
       "      <td>0.205797</td>\n",
       "      <td>0.028369</td>\n",
       "      <td>0.811231</td>\n",
       "      <td>0.874003</td>\n",
       "    </tr>\n",
       "    <tr>\n",
       "      <th>3</th>\n",
       "      <td>0.3</td>\n",
       "      <td>542.0</td>\n",
       "      <td>119.0</td>\n",
       "      <td>22.0</td>\n",
       "      <td>154.0</td>\n",
       "      <td>0.960993</td>\n",
       "      <td>0.564103</td>\n",
       "      <td>0.819970</td>\n",
       "      <td>0.875000</td>\n",
       "      <td>0.435897</td>\n",
       "      <td>0.180030</td>\n",
       "      <td>0.039007</td>\n",
       "      <td>0.831541</td>\n",
       "      <td>0.884898</td>\n",
       "    </tr>\n",
       "    <tr>\n",
       "      <th>4</th>\n",
       "      <td>0.4</td>\n",
       "      <td>527.0</td>\n",
       "      <td>98.0</td>\n",
       "      <td>37.0</td>\n",
       "      <td>175.0</td>\n",
       "      <td>0.934397</td>\n",
       "      <td>0.641026</td>\n",
       "      <td>0.843200</td>\n",
       "      <td>0.825472</td>\n",
       "      <td>0.358974</td>\n",
       "      <td>0.156800</td>\n",
       "      <td>0.065603</td>\n",
       "      <td>0.838710</td>\n",
       "      <td>0.886459</td>\n",
       "    </tr>\n",
       "  </tbody>\n",
       "</table>\n",
       "</div>"
      ],
      "text/plain": [
       "   threshold     tp     fp    fn     tn       tpr       tnr       ppv  \\\n",
       "0        0.0  564.0  273.0   0.0    0.0  1.000000  0.000000  0.673835   \n",
       "1        0.1  553.0  168.0  11.0  105.0  0.980496  0.384615  0.766990   \n",
       "2        0.2  548.0  142.0  16.0  131.0  0.971631  0.479853  0.794203   \n",
       "3        0.3  542.0  119.0  22.0  154.0  0.960993  0.564103  0.819970   \n",
       "4        0.4  527.0   98.0  37.0  175.0  0.934397  0.641026  0.843200   \n",
       "\n",
       "        npv       fpr       fdr       fnr       acc        f1  \n",
       "0       NaN  1.000000  0.326165  0.000000  0.673835  0.805139  \n",
       "1  0.905172  0.615385  0.233010  0.019504  0.786141  0.860700  \n",
       "2  0.891156  0.520147  0.205797  0.028369  0.811231  0.874003  \n",
       "3  0.875000  0.435897  0.180030  0.039007  0.831541  0.884898  \n",
       "4  0.825472  0.358974  0.156800  0.065603  0.838710  0.886459  "
      ]
     },
     "execution_count": 75,
     "metadata": {},
     "output_type": "execute_result"
    }
   ],
   "source": [
    "%%read_sql\n",
    "SELECT * FROM {schema}.abalone_rf_test_binary_metrics ORDER BY threshold LIMIT 5;"
   ]
  },
  {
   "cell_type": "code",
   "execution_count": 76,
   "metadata": {},
   "outputs": [
    {
     "name": "stdout",
     "output_type": "stream",
     "text": [
      "Query started at 10:07:00 PM KST; Query executed in 0.00 m"
     ]
    }
   ],
   "source": [
    "%%read_sql -d df_rf_metrics\n",
    "SELECT fpr, tpr FROM {schema}.abalone_rf_test_binary_metrics ORDER BY threshold;"
   ]
  },
  {
   "cell_type": "code",
   "execution_count": 77,
   "metadata": {},
   "outputs": [
    {
     "data": {
      "image/png": "[encoded data removed]",
      "text/plain": [
       "<matplotlib.figure.Figure at 0x1c214eb278>"
      ]
     },
     "metadata": {},
     "output_type": "display_data"
    }
   ],
   "source": [
    "fpr_rf = df_rf_metrics.fpr\n",
    "tpr_rf = df_rf_metrics.tpr\n",
    "\n",
    "roc_curve_plot(fpr_rf, tpr_rf)"
   ]
  },
  {
   "cell_type": "markdown",
   "metadata": {},
   "source": [
    "- ** AUC (Area Under the Curve) **"
   ]
  },
  {
   "cell_type": "code",
   "execution_count": 78,
   "metadata": {},
   "outputs": [
    {
     "name": "stdout",
     "output_type": "stream",
     "text": [
      "Query started at 10:07:03 PM KST; Query executed in 0.00 m"
     ]
    }
   ],
   "source": [
    "%%read_sql -d\n",
    "DROP TABLE IF EXISTS {schema}.abalone_rf_test_auc CASCADE;\n",
    "SELECT madlib.area_under_roc(\n",
    "    '{schema}.abalone_rf_test_predict' -- source table\n",
    "    , '{schema}.abalone_rf_test_auc'   -- output table\n",
    "    , 'proba'               -- predicted col\n",
    "    , 'actual_class'                   -- observed col\n",
    ");"
   ]
  },
  {
   "cell_type": "code",
   "execution_count": 79,
   "metadata": {},
   "outputs": [
    {
     "name": "stdout",
     "output_type": "stream",
     "text": [
      "Query started at 10:07:03 PM KST; Query executed in 0.00 m"
     ]
    },
    {
     "data": {
      "text/html": [
       "<div>\n",
       "<style>\n",
       "    .dataframe thead tr:only-child th {\n",
       "        text-align: right;\n",
       "    }\n",
       "\n",
       "    .dataframe thead th {\n",
       "        text-align: left;\n",
       "    }\n",
       "\n",
       "    .dataframe tbody tr th {\n",
       "        vertical-align: top;\n",
       "    }\n",
       "</style>\n",
       "<table border=\"1\" class=\"dataframe\">\n",
       "  <thead>\n",
       "    <tr style=\"text-align: right;\">\n",
       "      <th></th>\n",
       "      <th>area_under_roc</th>\n",
       "    </tr>\n",
       "  </thead>\n",
       "  <tbody>\n",
       "    <tr>\n",
       "      <th>0</th>\n",
       "      <td>0.881228</td>\n",
       "    </tr>\n",
       "  </tbody>\n",
       "</table>\n",
       "</div>"
      ],
      "text/plain": [
       "   area_under_roc\n",
       "0        0.881228"
      ]
     },
     "execution_count": 79,
     "metadata": {},
     "output_type": "execute_result"
    }
   ],
   "source": [
    "%%read_sql\n",
    "SELECT * FROM {schema}.abalone_rf_test_auc;"
   ]
  },
  {
   "cell_type": "markdown",
   "metadata": {},
   "source": [
    " -- THE END --"
   ]
  }
 ],
 "metadata": {
  "kernelspec": {
   "display_name": "Python 3",
   "language": "python",
   "name": "python3"
  },
  "language_info": {
   "codemirror_mode": {
    "name": "ipython",
    "version": 3
   },
   "file_extension": ".py",
   "mimetype": "text/x-python",
   "name": "python",
   "nbconvert_exporter": "python",
   "pygments_lexer": "ipython3",
   "version": "3.5.4"
  }
 },
 "nbformat": 4,
 "nbformat_minor": 2
}
